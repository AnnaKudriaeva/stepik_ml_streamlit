{
  "cells": [
    {
      "cell_type": "markdown",
      "metadata": {
        "id": "d04VdHY7jUnn"
      },
      "source": [
        "# Подержанные автомобили"
      ]
    },
    {
      "cell_type": "markdown",
      "metadata": {
        "id": "DxMCeYxukBKi"
      },
      "source": [
        "Датасет содержит информацию о характеристиках и ценах подержанных автомобилей в некоторой стране"
      ]
    },
    {
      "cell_type": "markdown",
      "metadata": {
        "id": "lhA1Am55jZ3D"
      },
      "source": [
        "## Импорт библиотек, константы"
      ]
    },
    {
      "cell_type": "code",
      "execution_count": 1,
      "metadata": {
        "colab": {
          "base_uri": "https://localhost:8080/"
        },
        "id": "K0gqsGu5MwYI",
        "outputId": "69f8c92b-2f3d-4a47-be0a-ad07e4dd3fe1"
      },
      "outputs": [
        {
          "output_type": "stream",
          "name": "stdout",
          "text": [
            "Requirement already satisfied: pandas in /usr/local/lib/python3.10/dist-packages (2.0.3)\n",
            "Requirement already satisfied: python-dateutil>=2.8.2 in /usr/local/lib/python3.10/dist-packages (from pandas) (2.8.2)\n",
            "Requirement already satisfied: pytz>=2020.1 in /usr/local/lib/python3.10/dist-packages (from pandas) (2022.7.1)\n",
            "Requirement already satisfied: tzdata>=2022.1 in /usr/local/lib/python3.10/dist-packages (from pandas) (2023.3)\n",
            "Requirement already satisfied: numpy>=1.21.0 in /usr/local/lib/python3.10/dist-packages (from pandas) (1.22.4)\n",
            "Requirement already satisfied: six>=1.5 in /usr/local/lib/python3.10/dist-packages (from python-dateutil>=2.8.2->pandas) (1.16.0)\n"
          ]
        }
      ],
      "source": [
        "pip install --upgrade pandas"
      ]
    },
    {
      "cell_type": "code",
      "execution_count": 2,
      "metadata": {
        "colab": {
          "base_uri": "https://localhost:8080/"
        },
        "id": "YtEiNdsQb9t6",
        "outputId": "bd98166f-4653-4332-e528-ed06bb14c0c1"
      },
      "outputs": [
        {
          "output_type": "stream",
          "name": "stdout",
          "text": [
            "Requirement already satisfied: catboost in /usr/local/lib/python3.10/dist-packages (1.2)\n",
            "Requirement already satisfied: graphviz in /usr/local/lib/python3.10/dist-packages (from catboost) (0.20.1)\n",
            "Requirement already satisfied: matplotlib in /usr/local/lib/python3.10/dist-packages (from catboost) (3.7.1)\n",
            "Requirement already satisfied: numpy>=1.16.0 in /usr/local/lib/python3.10/dist-packages (from catboost) (1.22.4)\n",
            "Requirement already satisfied: pandas>=0.24 in /usr/local/lib/python3.10/dist-packages (from catboost) (2.0.3)\n",
            "Requirement already satisfied: scipy in /usr/local/lib/python3.10/dist-packages (from catboost) (1.10.1)\n",
            "Requirement already satisfied: plotly in /usr/local/lib/python3.10/dist-packages (from catboost) (5.13.1)\n",
            "Requirement already satisfied: six in /usr/local/lib/python3.10/dist-packages (from catboost) (1.16.0)\n",
            "Requirement already satisfied: python-dateutil>=2.8.2 in /usr/local/lib/python3.10/dist-packages (from pandas>=0.24->catboost) (2.8.2)\n",
            "Requirement already satisfied: pytz>=2020.1 in /usr/local/lib/python3.10/dist-packages (from pandas>=0.24->catboost) (2022.7.1)\n",
            "Requirement already satisfied: tzdata>=2022.1 in /usr/local/lib/python3.10/dist-packages (from pandas>=0.24->catboost) (2023.3)\n",
            "Requirement already satisfied: contourpy>=1.0.1 in /usr/local/lib/python3.10/dist-packages (from matplotlib->catboost) (1.1.0)\n",
            "Requirement already satisfied: cycler>=0.10 in /usr/local/lib/python3.10/dist-packages (from matplotlib->catboost) (0.11.0)\n",
            "Requirement already satisfied: fonttools>=4.22.0 in /usr/local/lib/python3.10/dist-packages (from matplotlib->catboost) (4.40.0)\n",
            "Requirement already satisfied: kiwisolver>=1.0.1 in /usr/local/lib/python3.10/dist-packages (from matplotlib->catboost) (1.4.4)\n",
            "Requirement already satisfied: packaging>=20.0 in /usr/local/lib/python3.10/dist-packages (from matplotlib->catboost) (23.1)\n",
            "Requirement already satisfied: pillow>=6.2.0 in /usr/local/lib/python3.10/dist-packages (from matplotlib->catboost) (8.4.0)\n",
            "Requirement already satisfied: pyparsing>=2.3.1 in /usr/local/lib/python3.10/dist-packages (from matplotlib->catboost) (3.1.0)\n",
            "Requirement already satisfied: tenacity>=6.2.0 in /usr/local/lib/python3.10/dist-packages (from plotly->catboost) (8.2.2)\n"
          ]
        }
      ],
      "source": [
        "pip install catboost"
      ]
    },
    {
      "cell_type": "code",
      "execution_count": 3,
      "metadata": {
        "id": "nrmpGKOJNN9T",
        "colab": {
          "base_uri": "https://localhost:8080/"
        },
        "outputId": "c1ef979c-f48b-4164-8b68-53259f76c81f"
      },
      "outputs": [
        {
          "output_type": "stream",
          "name": "stdout",
          "text": [
            "Requirement already satisfied: lightgbm in /usr/local/lib/python3.10/dist-packages (3.3.5)\n",
            "Requirement already satisfied: wheel in /usr/local/lib/python3.10/dist-packages (from lightgbm) (0.40.0)\n",
            "Requirement already satisfied: numpy in /usr/local/lib/python3.10/dist-packages (from lightgbm) (1.22.4)\n",
            "Requirement already satisfied: scipy in /usr/local/lib/python3.10/dist-packages (from lightgbm) (1.10.1)\n",
            "Requirement already satisfied: scikit-learn!=0.22.0 in /usr/local/lib/python3.10/dist-packages (from lightgbm) (1.3.0)\n",
            "Requirement already satisfied: joblib>=1.1.1 in /usr/local/lib/python3.10/dist-packages (from scikit-learn!=0.22.0->lightgbm) (1.2.0)\n",
            "Requirement already satisfied: threadpoolctl>=2.0.0 in /usr/local/lib/python3.10/dist-packages (from scikit-learn!=0.22.0->lightgbm) (3.1.0)\n"
          ]
        }
      ],
      "source": [
        "pip install lightgbm"
      ]
    },
    {
      "cell_type": "code",
      "execution_count": 4,
      "metadata": {
        "colab": {
          "base_uri": "https://localhost:8080/"
        },
        "id": "uV3-LllvNhOA",
        "outputId": "0fb0314b-b432-4ca1-c3bf-b9876411ae89"
      },
      "outputs": [
        {
          "output_type": "stream",
          "name": "stdout",
          "text": [
            "Requirement already satisfied: pandas in /usr/local/lib/python3.10/dist-packages (2.0.3)\n",
            "Requirement already satisfied: dask[complete] in /usr/local/lib/python3.10/dist-packages (2023.6.1)\n",
            "Requirement already satisfied: python-dateutil>=2.8.2 in /usr/local/lib/python3.10/dist-packages (from pandas) (2.8.2)\n",
            "Requirement already satisfied: pytz>=2020.1 in /usr/local/lib/python3.10/dist-packages (from pandas) (2022.7.1)\n",
            "Requirement already satisfied: tzdata>=2022.1 in /usr/local/lib/python3.10/dist-packages (from pandas) (2023.3)\n",
            "Requirement already satisfied: numpy>=1.21.0 in /usr/local/lib/python3.10/dist-packages (from pandas) (1.22.4)\n",
            "Requirement already satisfied: click>=8.0 in /usr/local/lib/python3.10/dist-packages (from dask[complete]) (8.1.3)\n",
            "Requirement already satisfied: cloudpickle>=1.5.0 in /usr/local/lib/python3.10/dist-packages (from dask[complete]) (2.2.1)\n",
            "Requirement already satisfied: fsspec>=2021.09.0 in /usr/local/lib/python3.10/dist-packages (from dask[complete]) (2023.6.0)\n",
            "Requirement already satisfied: packaging>=20.0 in /usr/local/lib/python3.10/dist-packages (from dask[complete]) (23.1)\n",
            "Requirement already satisfied: partd>=1.2.0 in /usr/local/lib/python3.10/dist-packages (from dask[complete]) (1.4.0)\n",
            "Requirement already satisfied: pyyaml>=5.3.1 in /usr/local/lib/python3.10/dist-packages (from dask[complete]) (6.0)\n",
            "Requirement already satisfied: toolz>=0.10.0 in /usr/local/lib/python3.10/dist-packages (from dask[complete]) (0.12.0)\n",
            "Requirement already satisfied: importlib-metadata>=4.13.0 in /usr/local/lib/python3.10/dist-packages (from dask[complete]) (6.7.0)\n",
            "Requirement already satisfied: pyarrow>=7.0 in /usr/local/lib/python3.10/dist-packages (from dask[complete]) (9.0.0)\n",
            "Requirement already satisfied: lz4>=4.3.2 in /usr/local/lib/python3.10/dist-packages (from dask[complete]) (4.3.2)\n",
            "Requirement already satisfied: zipp>=0.5 in /usr/local/lib/python3.10/dist-packages (from importlib-metadata>=4.13.0->dask[complete]) (3.15.0)\n",
            "Requirement already satisfied: locket in /usr/local/lib/python3.10/dist-packages (from partd>=1.2.0->dask[complete]) (1.0.0)\n",
            "Requirement already satisfied: six>=1.5 in /usr/local/lib/python3.10/dist-packages (from python-dateutil>=2.8.2->pandas) (1.16.0)\n",
            "Requirement already satisfied: bokeh>=2.4.2 in /usr/local/lib/python3.10/dist-packages (from dask[complete]) (2.4.3)\n",
            "Requirement already satisfied: jinja2>=2.10.3 in /usr/local/lib/python3.10/dist-packages (from dask[complete]) (3.1.2)\n",
            "Requirement already satisfied: distributed==2023.6.1 in /usr/local/lib/python3.10/dist-packages (from dask[complete]) (2023.6.1)\n",
            "Requirement already satisfied: msgpack>=1.0.0 in /usr/local/lib/python3.10/dist-packages (from distributed==2023.6.1->dask[complete]) (1.0.5)\n",
            "Requirement already satisfied: psutil>=5.7.2 in /usr/local/lib/python3.10/dist-packages (from distributed==2023.6.1->dask[complete]) (5.9.5)\n",
            "Requirement already satisfied: sortedcontainers>=2.0.5 in /usr/local/lib/python3.10/dist-packages (from distributed==2023.6.1->dask[complete]) (2.4.0)\n",
            "Requirement already satisfied: tblib>=1.6.0 in /usr/local/lib/python3.10/dist-packages (from distributed==2023.6.1->dask[complete]) (2.0.0)\n",
            "Requirement already satisfied: tornado>=6.0.4 in /usr/local/lib/python3.10/dist-packages (from distributed==2023.6.1->dask[complete]) (6.3.1)\n",
            "Requirement already satisfied: urllib3>=1.24.3 in /usr/local/lib/python3.10/dist-packages (from distributed==2023.6.1->dask[complete]) (1.26.16)\n",
            "Requirement already satisfied: zict>=2.2.0 in /usr/local/lib/python3.10/dist-packages (from distributed==2023.6.1->dask[complete]) (3.0.0)\n",
            "Requirement already satisfied: pillow>=7.1.0 in /usr/local/lib/python3.10/dist-packages (from bokeh>=2.4.2->dask[complete]) (8.4.0)\n",
            "Requirement already satisfied: typing-extensions>=3.10.0 in /usr/local/lib/python3.10/dist-packages (from bokeh>=2.4.2->dask[complete]) (4.6.3)\n",
            "Requirement already satisfied: MarkupSafe>=2.0 in /usr/local/lib/python3.10/dist-packages (from jinja2>=2.10.3->dask[complete]) (2.1.3)\n"
          ]
        }
      ],
      "source": [
        "pip install --upgrade pandas \"dask[complete]\""
      ]
    },
    {
      "cell_type": "code",
      "execution_count": 5,
      "metadata": {
        "colab": {
          "base_uri": "https://localhost:8080/"
        },
        "id": "UkzhtFen43rH",
        "outputId": "09610e4e-4e16-4194-fc4c-a3a1e3985a0d"
      },
      "outputs": [
        {
          "output_type": "stream",
          "name": "stdout",
          "text": [
            "Requirement already satisfied: scikit-learn in /usr/local/lib/python3.10/dist-packages (1.3.0)\n",
            "Requirement already satisfied: numpy>=1.17.3 in /usr/local/lib/python3.10/dist-packages (from scikit-learn) (1.22.4)\n",
            "Requirement already satisfied: scipy>=1.5.0 in /usr/local/lib/python3.10/dist-packages (from scikit-learn) (1.10.1)\n",
            "Requirement already satisfied: joblib>=1.1.1 in /usr/local/lib/python3.10/dist-packages (from scikit-learn) (1.2.0)\n",
            "Requirement already satisfied: threadpoolctl>=2.0.0 in /usr/local/lib/python3.10/dist-packages (from scikit-learn) (3.1.0)\n"
          ]
        }
      ],
      "source": [
        "pip install -U scikit-learn"
      ]
    },
    {
      "cell_type": "code",
      "execution_count": 6,
      "metadata": {
        "id": "HV1hv_cBi-zx"
      },
      "outputs": [],
      "source": [
        "import pandas as pd\n",
        "import numpy as np\n",
        "import seaborn as sns\n",
        "import matplotlib.pyplot as plt\n",
        "import time\n",
        "import os\n",
        "\n",
        "from sklearn.model_selection import train_test_split, RandomizedSearchCV, GridSearchCV\n",
        "from sklearn.preprocessing import OneHotEncoder, OrdinalEncoder, StandardScaler\n",
        "from sklearn.compose import make_column_transformer\n",
        "from sklearn.pipeline import make_pipeline\n",
        "from sklearn.linear_model import LinearRegression\n",
        "from lightgbm import LGBMRegressor\n",
        "from catboost import CatBoostRegressor\n",
        "from sklearn.ensemble import RandomForestRegressor\n",
        "from sklearn.tree import DecisionTreeRegressor\n",
        "from sklearn.metrics import mean_squared_error, make_scorer\n",
        "from sklearn.model_selection import cross_val_score\n",
        "\n",
        "\n",
        "RANDOM_STATE = 12345"
      ]
    },
    {
      "cell_type": "markdown",
      "metadata": {
        "id": "voBVih6bkqoP"
      },
      "source": [
        "### Загрузка"
      ]
    },
    {
      "cell_type": "code",
      "execution_count": 7,
      "metadata": {
        "colab": {
          "base_uri": "https://localhost:8080/",
          "height": 548
        },
        "id": "akRLgc55jyGl",
        "outputId": "62ec2d97-743e-462a-8cf8-1c448c7d3629"
      },
      "outputs": [
        {
          "output_type": "execute_result",
          "data": {
            "text/plain": [
              "                            name  year  selling_price  km_driven    fuel  \\\n",
              "0         Maruti Swift Dzire VDI  2014         450000     145500  Diesel   \n",
              "1   Skoda Rapid 1.5 TDI Ambition  2014         370000     120000  Diesel   \n",
              "2      Hyundai i20 Sportz Diesel  2010         225000     127000  Diesel   \n",
              "3         Maruti Swift VXI BSIII  2007         130000     120000  Petrol   \n",
              "4  Hyundai Xcent 1.2 VTVT E Plus  2017         440000      45000  Petrol   \n",
              "\n",
              "  seller_type transmission         owner     mileage   engine   max_power  \\\n",
              "0  Individual       Manual   First Owner   23.4 kmpl  1248 CC      74 bhp   \n",
              "1  Individual       Manual  Second Owner  21.14 kmpl  1498 CC  103.52 bhp   \n",
              "2  Individual       Manual   First Owner   23.0 kmpl  1396 CC      90 bhp   \n",
              "3  Individual       Manual   First Owner   16.1 kmpl  1298 CC    88.2 bhp   \n",
              "4  Individual       Manual   First Owner  20.14 kmpl  1197 CC   81.86 bhp   \n",
              "\n",
              "                     torque  seats  \n",
              "0            190Nm@ 2000rpm    5.0  \n",
              "1       250Nm@ 1500-2500rpm    5.0  \n",
              "2  22.4 kgm at 1750-2750rpm    5.0  \n",
              "3     11.5@ 4,500(kgm@ rpm)    5.0  \n",
              "4         113.75nm@ 4000rpm    5.0  "
            ],
            "text/html": [
              "\n",
              "  <div id=\"df-e780719d-fb02-42dd-aad6-37b692810366\">\n",
              "    <div class=\"colab-df-container\">\n",
              "      <div>\n",
              "<style scoped>\n",
              "    .dataframe tbody tr th:only-of-type {\n",
              "        vertical-align: middle;\n",
              "    }\n",
              "\n",
              "    .dataframe tbody tr th {\n",
              "        vertical-align: top;\n",
              "    }\n",
              "\n",
              "    .dataframe thead th {\n",
              "        text-align: right;\n",
              "    }\n",
              "</style>\n",
              "<table border=\"1\" class=\"dataframe\">\n",
              "  <thead>\n",
              "    <tr style=\"text-align: right;\">\n",
              "      <th></th>\n",
              "      <th>name</th>\n",
              "      <th>year</th>\n",
              "      <th>selling_price</th>\n",
              "      <th>km_driven</th>\n",
              "      <th>fuel</th>\n",
              "      <th>seller_type</th>\n",
              "      <th>transmission</th>\n",
              "      <th>owner</th>\n",
              "      <th>mileage</th>\n",
              "      <th>engine</th>\n",
              "      <th>max_power</th>\n",
              "      <th>torque</th>\n",
              "      <th>seats</th>\n",
              "    </tr>\n",
              "  </thead>\n",
              "  <tbody>\n",
              "    <tr>\n",
              "      <th>0</th>\n",
              "      <td>Maruti Swift Dzire VDI</td>\n",
              "      <td>2014</td>\n",
              "      <td>450000</td>\n",
              "      <td>145500</td>\n",
              "      <td>Diesel</td>\n",
              "      <td>Individual</td>\n",
              "      <td>Manual</td>\n",
              "      <td>First Owner</td>\n",
              "      <td>23.4 kmpl</td>\n",
              "      <td>1248 CC</td>\n",
              "      <td>74 bhp</td>\n",
              "      <td>190Nm@ 2000rpm</td>\n",
              "      <td>5.0</td>\n",
              "    </tr>\n",
              "    <tr>\n",
              "      <th>1</th>\n",
              "      <td>Skoda Rapid 1.5 TDI Ambition</td>\n",
              "      <td>2014</td>\n",
              "      <td>370000</td>\n",
              "      <td>120000</td>\n",
              "      <td>Diesel</td>\n",
              "      <td>Individual</td>\n",
              "      <td>Manual</td>\n",
              "      <td>Second Owner</td>\n",
              "      <td>21.14 kmpl</td>\n",
              "      <td>1498 CC</td>\n",
              "      <td>103.52 bhp</td>\n",
              "      <td>250Nm@ 1500-2500rpm</td>\n",
              "      <td>5.0</td>\n",
              "    </tr>\n",
              "    <tr>\n",
              "      <th>2</th>\n",
              "      <td>Hyundai i20 Sportz Diesel</td>\n",
              "      <td>2010</td>\n",
              "      <td>225000</td>\n",
              "      <td>127000</td>\n",
              "      <td>Diesel</td>\n",
              "      <td>Individual</td>\n",
              "      <td>Manual</td>\n",
              "      <td>First Owner</td>\n",
              "      <td>23.0 kmpl</td>\n",
              "      <td>1396 CC</td>\n",
              "      <td>90 bhp</td>\n",
              "      <td>22.4 kgm at 1750-2750rpm</td>\n",
              "      <td>5.0</td>\n",
              "    </tr>\n",
              "    <tr>\n",
              "      <th>3</th>\n",
              "      <td>Maruti Swift VXI BSIII</td>\n",
              "      <td>2007</td>\n",
              "      <td>130000</td>\n",
              "      <td>120000</td>\n",
              "      <td>Petrol</td>\n",
              "      <td>Individual</td>\n",
              "      <td>Manual</td>\n",
              "      <td>First Owner</td>\n",
              "      <td>16.1 kmpl</td>\n",
              "      <td>1298 CC</td>\n",
              "      <td>88.2 bhp</td>\n",
              "      <td>11.5@ 4,500(kgm@ rpm)</td>\n",
              "      <td>5.0</td>\n",
              "    </tr>\n",
              "    <tr>\n",
              "      <th>4</th>\n",
              "      <td>Hyundai Xcent 1.2 VTVT E Plus</td>\n",
              "      <td>2017</td>\n",
              "      <td>440000</td>\n",
              "      <td>45000</td>\n",
              "      <td>Petrol</td>\n",
              "      <td>Individual</td>\n",
              "      <td>Manual</td>\n",
              "      <td>First Owner</td>\n",
              "      <td>20.14 kmpl</td>\n",
              "      <td>1197 CC</td>\n",
              "      <td>81.86 bhp</td>\n",
              "      <td>113.75nm@ 4000rpm</td>\n",
              "      <td>5.0</td>\n",
              "    </tr>\n",
              "  </tbody>\n",
              "</table>\n",
              "</div>\n",
              "      <button class=\"colab-df-convert\" onclick=\"convertToInteractive('df-e780719d-fb02-42dd-aad6-37b692810366')\"\n",
              "              title=\"Convert this dataframe to an interactive table.\"\n",
              "              style=\"display:none;\">\n",
              "        \n",
              "  <svg xmlns=\"http://www.w3.org/2000/svg\" height=\"24px\"viewBox=\"0 0 24 24\"\n",
              "       width=\"24px\">\n",
              "    <path d=\"M0 0h24v24H0V0z\" fill=\"none\"/>\n",
              "    <path d=\"M18.56 5.44l.94 2.06.94-2.06 2.06-.94-2.06-.94-.94-2.06-.94 2.06-2.06.94zm-11 1L8.5 8.5l.94-2.06 2.06-.94-2.06-.94L8.5 2.5l-.94 2.06-2.06.94zm10 10l.94 2.06.94-2.06 2.06-.94-2.06-.94-.94-2.06-.94 2.06-2.06.94z\"/><path d=\"M17.41 7.96l-1.37-1.37c-.4-.4-.92-.59-1.43-.59-.52 0-1.04.2-1.43.59L10.3 9.45l-7.72 7.72c-.78.78-.78 2.05 0 2.83L4 21.41c.39.39.9.59 1.41.59.51 0 1.02-.2 1.41-.59l7.78-7.78 2.81-2.81c.8-.78.8-2.07 0-2.86zM5.41 20L4 18.59l7.72-7.72 1.47 1.35L5.41 20z\"/>\n",
              "  </svg>\n",
              "      </button>\n",
              "      \n",
              "  <style>\n",
              "    .colab-df-container {\n",
              "      display:flex;\n",
              "      flex-wrap:wrap;\n",
              "      gap: 12px;\n",
              "    }\n",
              "\n",
              "    .colab-df-convert {\n",
              "      background-color: #E8F0FE;\n",
              "      border: none;\n",
              "      border-radius: 50%;\n",
              "      cursor: pointer;\n",
              "      display: none;\n",
              "      fill: #1967D2;\n",
              "      height: 32px;\n",
              "      padding: 0 0 0 0;\n",
              "      width: 32px;\n",
              "    }\n",
              "\n",
              "    .colab-df-convert:hover {\n",
              "      background-color: #E2EBFA;\n",
              "      box-shadow: 0px 1px 2px rgba(60, 64, 67, 0.3), 0px 1px 3px 1px rgba(60, 64, 67, 0.15);\n",
              "      fill: #174EA6;\n",
              "    }\n",
              "\n",
              "    [theme=dark] .colab-df-convert {\n",
              "      background-color: #3B4455;\n",
              "      fill: #D2E3FC;\n",
              "    }\n",
              "\n",
              "    [theme=dark] .colab-df-convert:hover {\n",
              "      background-color: #434B5C;\n",
              "      box-shadow: 0px 1px 3px 1px rgba(0, 0, 0, 0.15);\n",
              "      filter: drop-shadow(0px 1px 2px rgba(0, 0, 0, 0.3));\n",
              "      fill: #FFFFFF;\n",
              "    }\n",
              "  </style>\n",
              "\n",
              "      <script>\n",
              "        const buttonEl =\n",
              "          document.querySelector('#df-e780719d-fb02-42dd-aad6-37b692810366 button.colab-df-convert');\n",
              "        buttonEl.style.display =\n",
              "          google.colab.kernel.accessAllowed ? 'block' : 'none';\n",
              "\n",
              "        async function convertToInteractive(key) {\n",
              "          const element = document.querySelector('#df-e780719d-fb02-42dd-aad6-37b692810366');\n",
              "          const dataTable =\n",
              "            await google.colab.kernel.invokeFunction('convertToInteractive',\n",
              "                                                     [key], {});\n",
              "          if (!dataTable) return;\n",
              "\n",
              "          const docLinkHtml = 'Like what you see? Visit the ' +\n",
              "            '<a target=\"_blank\" href=https://colab.research.google.com/notebooks/data_table.ipynb>data table notebook</a>'\n",
              "            + ' to learn more about interactive tables.';\n",
              "          element.innerHTML = '';\n",
              "          dataTable['output_type'] = 'display_data';\n",
              "          await google.colab.output.renderOutput(dataTable, element);\n",
              "          const docLink = document.createElement('div');\n",
              "          docLink.innerHTML = docLinkHtml;\n",
              "          element.appendChild(docLink);\n",
              "        }\n",
              "      </script>\n",
              "    </div>\n",
              "  </div>\n",
              "  "
            ]
          },
          "metadata": {},
          "execution_count": 7
        }
      ],
      "source": [
        "df = pd.read_csv(\"https://raw.githubusercontent.com/evgpat/edu_stepik_from_idea_to_mvp/main/datasets/cars.csv\")\n",
        "df.head()"
      ]
    },
    {
      "cell_type": "markdown",
      "metadata": {
        "id": "mNHZ_G-tkb1e"
      },
      "source": [
        "### Описание данных"
      ]
    },
    {
      "cell_type": "markdown",
      "metadata": {
        "id": "3FxkHi2QkEPV"
      },
      "source": [
        "**Целевая переменная**\n",
        "- `selling_price`: цена продажи, числовая\n",
        "\n",
        "**Признаки**\n",
        "- `name` (string): модель автомобиля\n",
        "- `year` (numeric, int): год выпуска с завода-изготовителя\n",
        "- `km_driven` (numeric, int): пробег на дату продажи\n",
        "- `fuel` (categorical: _Diesel_ или _Petrol_, или _CNG_, или _LPG_, или _electric_): тип топлива\n",
        "- `seller_type` (categorical: _Individual_ или _Dealer_, или _Trustmark Dealer_): продавец\n",
        "- `transmission` (categorical: _Manual_ или _Automatic_): тип трансмиссии\n",
        "- `owner` (categorical: _First Owner_ или _Second Owner_, или _Third Owner_, или _Fourth & Above Owner_): какой по счёту хозяин?\n",
        "- `mileage` (string, по смыслу числовой): пробег, требует предобработки\n",
        "- `engine` (string, по смыслу числовой): рабочий объем двигателя, требует предобработки\n",
        "- `max_power` (string, по смыслу числовой): пиковая мощность двигателя, требует предобработки\n",
        "- `torque` (string, по смыслу числовой, а то и 2): крутящий момент, требует предобработки\n",
        "- `seats` (numeric, float; по смыслу categorical, int)"
      ]
    },
    {
      "cell_type": "code",
      "execution_count": 8,
      "metadata": {
        "colab": {
          "base_uri": "https://localhost:8080/"
        },
        "id": "VterO9sXkWTi",
        "outputId": "a0d3fcc7-d549-44b9-b31f-cac892733420"
      },
      "outputs": [
        {
          "output_type": "stream",
          "name": "stdout",
          "text": [
            "<class 'pandas.core.frame.DataFrame'>\n",
            "RangeIndex: 6999 entries, 0 to 6998\n",
            "Data columns (total 13 columns):\n",
            " #   Column         Non-Null Count  Dtype  \n",
            "---  ------         --------------  -----  \n",
            " 0   name           6999 non-null   object \n",
            " 1   year           6999 non-null   int64  \n",
            " 2   selling_price  6999 non-null   int64  \n",
            " 3   km_driven      6999 non-null   int64  \n",
            " 4   fuel           6999 non-null   object \n",
            " 5   seller_type    6999 non-null   object \n",
            " 6   transmission   6999 non-null   object \n",
            " 7   owner          6999 non-null   object \n",
            " 8   mileage        6797 non-null   object \n",
            " 9   engine         6797 non-null   object \n",
            " 10  max_power      6803 non-null   object \n",
            " 11  torque         6796 non-null   object \n",
            " 12  seats          6797 non-null   float64\n",
            "dtypes: float64(1), int64(3), object(9)\n",
            "memory usage: 711.0+ KB\n"
          ]
        }
      ],
      "source": [
        "# информация от столбцах\n",
        "df.info()"
      ]
    },
    {
      "cell_type": "code",
      "execution_count": 9,
      "metadata": {
        "colab": {
          "base_uri": "https://localhost:8080/"
        },
        "id": "RbtHSt1NHlGv",
        "outputId": "94e7df43-7225-48e1-c887-e6b7c276ee81"
      },
      "outputs": [
        {
          "output_type": "execute_result",
          "data": {
            "text/plain": [
              "(6999, 13)"
            ]
          },
          "metadata": {},
          "execution_count": 9
        }
      ],
      "source": [
        "df.shape"
      ]
    },
    {
      "cell_type": "code",
      "execution_count": 10,
      "metadata": {
        "id": "R8SWxAhgG8pW"
      },
      "outputs": [],
      "source": [
        "df = df.drop_duplicates()"
      ]
    },
    {
      "cell_type": "code",
      "execution_count": 11,
      "metadata": {
        "colab": {
          "base_uri": "https://localhost:8080/"
        },
        "id": "i06ZoI3MHs_w",
        "outputId": "9ab95991-5e19-4e28-8296-3d598b8d5f08"
      },
      "outputs": [
        {
          "output_type": "execute_result",
          "data": {
            "text/plain": [
              "(6014, 13)"
            ]
          },
          "metadata": {},
          "execution_count": 11
        }
      ],
      "source": [
        "df.shape"
      ]
    },
    {
      "cell_type": "code",
      "execution_count": 12,
      "metadata": {
        "colab": {
          "base_uri": "https://localhost:8080/"
        },
        "id": "v-ahO7pJdB4M",
        "outputId": "79dded0c-c92a-4f0e-f323-abe02f70776f"
      },
      "outputs": [
        {
          "output_type": "execute_result",
          "data": {
            "text/plain": [
              "name               0\n",
              "year               0\n",
              "selling_price      0\n",
              "km_driven          0\n",
              "fuel               0\n",
              "seller_type        0\n",
              "transmission       0\n",
              "owner              0\n",
              "mileage          190\n",
              "engine           190\n",
              "max_power        187\n",
              "torque           191\n",
              "seats            190\n",
              "dtype: int64"
            ]
          },
          "metadata": {},
          "execution_count": 12
        }
      ],
      "source": [
        "df.isna().sum()"
      ]
    },
    {
      "cell_type": "code",
      "execution_count": 13,
      "metadata": {
        "colab": {
          "base_uri": "https://localhost:8080/",
          "height": 494
        },
        "id": "CXXeTH48u6RS",
        "outputId": "1e3e0bb9-25c4-403b-f37d-579b09fc16ce"
      },
      "outputs": [
        {
          "output_type": "display_data",
          "data": {
            "text/plain": [
              "<Figure size 2500x1000 with 2 Axes>"
            ],
            "image/png": "[encoded data removed]"
          },
          "metadata": {}
        }
      ],
      "source": [
        "import missingno as msg\n",
        "msg.matrix(df);"
      ]
    },
    {
      "cell_type": "markdown",
      "metadata": {
        "id": "NtIQRxN9dVT7"
      },
      "source": [
        "Пропуски имеются в пяти столбцах - mileage, engine, max_power, torque, seats. При этом проруски в одних и тех же строках, поэтому не будем их никаким образом заполнять, а просто удалим."
      ]
    },
    {
      "cell_type": "code",
      "execution_count": 14,
      "metadata": {
        "id": "TU5NbkyQxhY8"
      },
      "outputs": [],
      "source": [
        "df.dropna(ignore_index=True, inplace=True)"
      ]
    },
    {
      "cell_type": "code",
      "execution_count": 15,
      "metadata": {
        "colab": {
          "base_uri": "https://localhost:8080/"
        },
        "id": "3C4UVtWOy1Ls",
        "outputId": "1fd44b4a-1d5f-4678-8e66-564c86f55893"
      },
      "outputs": [
        {
          "output_type": "execute_result",
          "data": {
            "text/plain": [
              "name             0\n",
              "year             0\n",
              "selling_price    0\n",
              "km_driven        0\n",
              "fuel             0\n",
              "seller_type      0\n",
              "transmission     0\n",
              "owner            0\n",
              "mileage          0\n",
              "engine           0\n",
              "max_power        0\n",
              "torque           0\n",
              "seats            0\n",
              "dtype: int64"
            ]
          },
          "metadata": {},
          "execution_count": 15
        }
      ],
      "source": [
        "df.isna().sum()"
      ]
    },
    {
      "cell_type": "code",
      "execution_count": 16,
      "metadata": {
        "colab": {
          "base_uri": "https://localhost:8080/"
        },
        "id": "6RkekZLMy79B",
        "outputId": "b9d74f44-1694-4e67-ada1-c18446a93ca8"
      },
      "outputs": [
        {
          "output_type": "stream",
          "name": "stdout",
          "text": [
            "<class 'pandas.core.frame.DataFrame'>\n",
            "RangeIndex: 5823 entries, 0 to 5822\n",
            "Data columns (total 13 columns):\n",
            " #   Column         Non-Null Count  Dtype  \n",
            "---  ------         --------------  -----  \n",
            " 0   name           5823 non-null   object \n",
            " 1   year           5823 non-null   int64  \n",
            " 2   selling_price  5823 non-null   int64  \n",
            " 3   km_driven      5823 non-null   int64  \n",
            " 4   fuel           5823 non-null   object \n",
            " 5   seller_type    5823 non-null   object \n",
            " 6   transmission   5823 non-null   object \n",
            " 7   owner          5823 non-null   object \n",
            " 8   mileage        5823 non-null   object \n",
            " 9   engine         5823 non-null   object \n",
            " 10  max_power      5823 non-null   object \n",
            " 11  torque         5823 non-null   object \n",
            " 12  seats          5823 non-null   float64\n",
            "dtypes: float64(1), int64(3), object(9)\n",
            "memory usage: 591.5+ KB\n"
          ]
        }
      ],
      "source": [
        "df.info()"
      ]
    },
    {
      "cell_type": "code",
      "execution_count": 17,
      "metadata": {
        "colab": {
          "base_uri": "https://localhost:8080/",
          "height": 548
        },
        "id": "YaCM9_0DA_cL",
        "outputId": "82ec3fb7-36d9-4bd1-c05c-74942caabd09"
      },
      "outputs": [
        {
          "output_type": "execute_result",
          "data": {
            "text/plain": [
              "                            name  year  selling_price  km_driven    fuel  \\\n",
              "0         Maruti Swift Dzire VDI  2014         450000     145500  Diesel   \n",
              "1   Skoda Rapid 1.5 TDI Ambition  2014         370000     120000  Diesel   \n",
              "2      Hyundai i20 Sportz Diesel  2010         225000     127000  Diesel   \n",
              "3         Maruti Swift VXI BSIII  2007         130000     120000  Petrol   \n",
              "4  Hyundai Xcent 1.2 VTVT E Plus  2017         440000      45000  Petrol   \n",
              "\n",
              "  seller_type transmission         owner mileage engine max_power  \\\n",
              "0  Individual       Manual   First Owner    23.4   1248        74   \n",
              "1  Individual       Manual  Second Owner   21.14   1498    103.52   \n",
              "2  Individual       Manual   First Owner    23.0   1396        90   \n",
              "3  Individual       Manual   First Owner    16.1   1298      88.2   \n",
              "4  Individual       Manual   First Owner   20.14   1197     81.86   \n",
              "\n",
              "                     torque  seats mileage_unit engine_unit max_power_unit  \n",
              "0            190Nm@ 2000rpm    5.0         kmpl          CC            bhp  \n",
              "1       250Nm@ 1500-2500rpm    5.0         kmpl          CC            bhp  \n",
              "2  22.4 kgm at 1750-2750rpm    5.0         kmpl          CC            bhp  \n",
              "3     11.5@ 4,500(kgm@ rpm)    5.0         kmpl          CC            bhp  \n",
              "4         113.75nm@ 4000rpm    5.0         kmpl          CC            bhp  "
            ],
            "text/html": [
              "\n",
              "  <div id=\"df-7d3d9291-57ab-4db7-938d-4ee1fab4ffbc\">\n",
              "    <div class=\"colab-df-container\">\n",
              "      <div>\n",
              "<style scoped>\n",
              "    .dataframe tbody tr th:only-of-type {\n",
              "        vertical-align: middle;\n",
              "    }\n",
              "\n",
              "    .dataframe tbody tr th {\n",
              "        vertical-align: top;\n",
              "    }\n",
              "\n",
              "    .dataframe thead th {\n",
              "        text-align: right;\n",
              "    }\n",
              "</style>\n",
              "<table border=\"1\" class=\"dataframe\">\n",
              "  <thead>\n",
              "    <tr style=\"text-align: right;\">\n",
              "      <th></th>\n",
              "      <th>name</th>\n",
              "      <th>year</th>\n",
              "      <th>selling_price</th>\n",
              "      <th>km_driven</th>\n",
              "      <th>fuel</th>\n",
              "      <th>seller_type</th>\n",
              "      <th>transmission</th>\n",
              "      <th>owner</th>\n",
              "      <th>mileage</th>\n",
              "      <th>engine</th>\n",
              "      <th>max_power</th>\n",
              "      <th>torque</th>\n",
              "      <th>seats</th>\n",
              "      <th>mileage_unit</th>\n",
              "      <th>engine_unit</th>\n",
              "      <th>max_power_unit</th>\n",
              "    </tr>\n",
              "  </thead>\n",
              "  <tbody>\n",
              "    <tr>\n",
              "      <th>0</th>\n",
              "      <td>Maruti Swift Dzire VDI</td>\n",
              "      <td>2014</td>\n",
              "      <td>450000</td>\n",
              "      <td>145500</td>\n",
              "      <td>Diesel</td>\n",
              "      <td>Individual</td>\n",
              "      <td>Manual</td>\n",
              "      <td>First Owner</td>\n",
              "      <td>23.4</td>\n",
              "      <td>1248</td>\n",
              "      <td>74</td>\n",
              "      <td>190Nm@ 2000rpm</td>\n",
              "      <td>5.0</td>\n",
              "      <td>kmpl</td>\n",
              "      <td>CC</td>\n",
              "      <td>bhp</td>\n",
              "    </tr>\n",
              "    <tr>\n",
              "      <th>1</th>\n",
              "      <td>Skoda Rapid 1.5 TDI Ambition</td>\n",
              "      <td>2014</td>\n",
              "      <td>370000</td>\n",
              "      <td>120000</td>\n",
              "      <td>Diesel</td>\n",
              "      <td>Individual</td>\n",
              "      <td>Manual</td>\n",
              "      <td>Second Owner</td>\n",
              "      <td>21.14</td>\n",
              "      <td>1498</td>\n",
              "      <td>103.52</td>\n",
              "      <td>250Nm@ 1500-2500rpm</td>\n",
              "      <td>5.0</td>\n",
              "      <td>kmpl</td>\n",
              "      <td>CC</td>\n",
              "      <td>bhp</td>\n",
              "    </tr>\n",
              "    <tr>\n",
              "      <th>2</th>\n",
              "      <td>Hyundai i20 Sportz Diesel</td>\n",
              "      <td>2010</td>\n",
              "      <td>225000</td>\n",
              "      <td>127000</td>\n",
              "      <td>Diesel</td>\n",
              "      <td>Individual</td>\n",
              "      <td>Manual</td>\n",
              "      <td>First Owner</td>\n",
              "      <td>23.0</td>\n",
              "      <td>1396</td>\n",
              "      <td>90</td>\n",
              "      <td>22.4 kgm at 1750-2750rpm</td>\n",
              "      <td>5.0</td>\n",
              "      <td>kmpl</td>\n",
              "      <td>CC</td>\n",
              "      <td>bhp</td>\n",
              "    </tr>\n",
              "    <tr>\n",
              "      <th>3</th>\n",
              "      <td>Maruti Swift VXI BSIII</td>\n",
              "      <td>2007</td>\n",
              "      <td>130000</td>\n",
              "      <td>120000</td>\n",
              "      <td>Petrol</td>\n",
              "      <td>Individual</td>\n",
              "      <td>Manual</td>\n",
              "      <td>First Owner</td>\n",
              "      <td>16.1</td>\n",
              "      <td>1298</td>\n",
              "      <td>88.2</td>\n",
              "      <td>11.5@ 4,500(kgm@ rpm)</td>\n",
              "      <td>5.0</td>\n",
              "      <td>kmpl</td>\n",
              "      <td>CC</td>\n",
              "      <td>bhp</td>\n",
              "    </tr>\n",
              "    <tr>\n",
              "      <th>4</th>\n",
              "      <td>Hyundai Xcent 1.2 VTVT E Plus</td>\n",
              "      <td>2017</td>\n",
              "      <td>440000</td>\n",
              "      <td>45000</td>\n",
              "      <td>Petrol</td>\n",
              "      <td>Individual</td>\n",
              "      <td>Manual</td>\n",
              "      <td>First Owner</td>\n",
              "      <td>20.14</td>\n",
              "      <td>1197</td>\n",
              "      <td>81.86</td>\n",
              "      <td>113.75nm@ 4000rpm</td>\n",
              "      <td>5.0</td>\n",
              "      <td>kmpl</td>\n",
              "      <td>CC</td>\n",
              "      <td>bhp</td>\n",
              "    </tr>\n",
              "  </tbody>\n",
              "</table>\n",
              "</div>\n",
              "      <button class=\"colab-df-convert\" onclick=\"convertToInteractive('df-7d3d9291-57ab-4db7-938d-4ee1fab4ffbc')\"\n",
              "              title=\"Convert this dataframe to an interactive table.\"\n",
              "              style=\"display:none;\">\n",
              "        \n",
              "  <svg xmlns=\"http://www.w3.org/2000/svg\" height=\"24px\"viewBox=\"0 0 24 24\"\n",
              "       width=\"24px\">\n",
              "    <path d=\"M0 0h24v24H0V0z\" fill=\"none\"/>\n",
              "    <path d=\"M18.56 5.44l.94 2.06.94-2.06 2.06-.94-2.06-.94-.94-2.06-.94 2.06-2.06.94zm-11 1L8.5 8.5l.94-2.06 2.06-.94-2.06-.94L8.5 2.5l-.94 2.06-2.06.94zm10 10l.94 2.06.94-2.06 2.06-.94-2.06-.94-.94-2.06-.94 2.06-2.06.94z\"/><path d=\"M17.41 7.96l-1.37-1.37c-.4-.4-.92-.59-1.43-.59-.52 0-1.04.2-1.43.59L10.3 9.45l-7.72 7.72c-.78.78-.78 2.05 0 2.83L4 21.41c.39.39.9.59 1.41.59.51 0 1.02-.2 1.41-.59l7.78-7.78 2.81-2.81c.8-.78.8-2.07 0-2.86zM5.41 20L4 18.59l7.72-7.72 1.47 1.35L5.41 20z\"/>\n",
              "  </svg>\n",
              "      </button>\n",
              "      \n",
              "  <style>\n",
              "    .colab-df-container {\n",
              "      display:flex;\n",
              "      flex-wrap:wrap;\n",
              "      gap: 12px;\n",
              "    }\n",
              "\n",
              "    .colab-df-convert {\n",
              "      background-color: #E8F0FE;\n",
              "      border: none;\n",
              "      border-radius: 50%;\n",
              "      cursor: pointer;\n",
              "      display: none;\n",
              "      fill: #1967D2;\n",
              "      height: 32px;\n",
              "      padding: 0 0 0 0;\n",
              "      width: 32px;\n",
              "    }\n",
              "\n",
              "    .colab-df-convert:hover {\n",
              "      background-color: #E2EBFA;\n",
              "      box-shadow: 0px 1px 2px rgba(60, 64, 67, 0.3), 0px 1px 3px 1px rgba(60, 64, 67, 0.15);\n",
              "      fill: #174EA6;\n",
              "    }\n",
              "\n",
              "    [theme=dark] .colab-df-convert {\n",
              "      background-color: #3B4455;\n",
              "      fill: #D2E3FC;\n",
              "    }\n",
              "\n",
              "    [theme=dark] .colab-df-convert:hover {\n",
              "      background-color: #434B5C;\n",
              "      box-shadow: 0px 1px 3px 1px rgba(0, 0, 0, 0.15);\n",
              "      filter: drop-shadow(0px 1px 2px rgba(0, 0, 0, 0.3));\n",
              "      fill: #FFFFFF;\n",
              "    }\n",
              "  </style>\n",
              "\n",
              "      <script>\n",
              "        const buttonEl =\n",
              "          document.querySelector('#df-7d3d9291-57ab-4db7-938d-4ee1fab4ffbc button.colab-df-convert');\n",
              "        buttonEl.style.display =\n",
              "          google.colab.kernel.accessAllowed ? 'block' : 'none';\n",
              "\n",
              "        async function convertToInteractive(key) {\n",
              "          const element = document.querySelector('#df-7d3d9291-57ab-4db7-938d-4ee1fab4ffbc');\n",
              "          const dataTable =\n",
              "            await google.colab.kernel.invokeFunction('convertToInteractive',\n",
              "                                                     [key], {});\n",
              "          if (!dataTable) return;\n",
              "\n",
              "          const docLinkHtml = 'Like what you see? Visit the ' +\n",
              "            '<a target=\"_blank\" href=https://colab.research.google.com/notebooks/data_table.ipynb>data table notebook</a>'\n",
              "            + ' to learn more about interactive tables.';\n",
              "          element.innerHTML = '';\n",
              "          dataTable['output_type'] = 'display_data';\n",
              "          await google.colab.output.renderOutput(dataTable, element);\n",
              "          const docLink = document.createElement('div');\n",
              "          docLink.innerHTML = docLinkHtml;\n",
              "          element.appendChild(docLink);\n",
              "        }\n",
              "      </script>\n",
              "    </div>\n",
              "  </div>\n",
              "  "
            ]
          },
          "metadata": {},
          "execution_count": 17
        }
      ],
      "source": [
        "df[['mileage','mileage_unit']] = df['mileage'].str.split(\" \", expand=True)\n",
        "df[['engine','engine_unit']] = df['engine'].str.split(\" \", expand=True)\n",
        "df[['max_power','max_power_unit']] = df['max_power'].str.split(\" \", expand=True)\n",
        "df.head()"
      ]
    },
    {
      "cell_type": "code",
      "execution_count": 18,
      "metadata": {
        "colab": {
          "base_uri": "https://localhost:8080/"
        },
        "id": "sGULNkCfujXK",
        "outputId": "e91b7ea3-b32e-4588-e6f3-36e8a0e5513b"
      },
      "outputs": [
        {
          "output_type": "stream",
          "name": "stdout",
          "text": [
            "mileage_unit\n",
            "kmpl     5746\n",
            "km/kg      77\n",
            "Name: count, dtype: int64\n",
            "----------------------------\n",
            "engine_unit\n",
            "CC    5823\n",
            "Name: count, dtype: int64\n",
            "----------------------------\n",
            "max_power_unit\n",
            "bhp    5823\n",
            "Name: count, dtype: int64\n",
            "----------------------------\n"
          ]
        }
      ],
      "source": [
        "df_unit = ['mileage_unit', 'engine_unit', 'max_power_unit']\n",
        "for s in df_unit:\n",
        "  print(df[s].value_counts())\n",
        "  print('----------------------------')"
      ]
    },
    {
      "cell_type": "code",
      "execution_count": 19,
      "metadata": {
        "id": "4WRPJzUTCRmg"
      },
      "outputs": [],
      "source": [
        "df[['mileage', 'engine', 'max_power']] = df[['mileage', 'engine', 'max_power']].astype(float)"
      ]
    },
    {
      "cell_type": "markdown",
      "metadata": {
        "id": "7tFA1aAoFDYF"
      },
      "source": [
        "Mileage has 2 different units, if possible should convert km/kg to kmpl."
      ]
    },
    {
      "cell_type": "code",
      "execution_count": 20,
      "metadata": {
        "id": "rUKd4-r-Ayjr"
      },
      "outputs": [],
      "source": [
        "df.loc[df['mileage_unit']=='km/kg','mileage'] = df.loc[df['mileage_unit']=='km/kg','mileage'] * 1.5"
      ]
    },
    {
      "cell_type": "code",
      "execution_count": 21,
      "metadata": {
        "id": "_KRczpOaIUYD"
      },
      "outputs": [],
      "source": [
        "df.drop(['mileage_unit', 'engine_unit', 'max_power_unit'], axis= 1 , inplace= True )"
      ]
    },
    {
      "cell_type": "code",
      "execution_count": 22,
      "metadata": {
        "id": "jJzi4ravLEWO"
      },
      "outputs": [],
      "source": [
        "df[['name', 'fuel','seller_type', 'transmission', 'owner', 'torque']] = df[['name', 'fuel','seller_type', 'transmission', 'owner', 'torque']].apply(lambda s: s.str.lower())"
      ]
    },
    {
      "cell_type": "code",
      "execution_count": 23,
      "metadata": {
        "id": "vGng4cA9cQZO"
      },
      "outputs": [],
      "source": [
        "df['name'] = df['name'].str.replace('land rover', 'land-rover')"
      ]
    },
    {
      "cell_type": "code",
      "execution_count": 24,
      "metadata": {
        "colab": {
          "base_uri": "https://localhost:8080/"
        },
        "id": "CLkrJHHxRBJ_",
        "outputId": "5f99dd93-deb3-4e57-c516-09a5c0c98787"
      },
      "outputs": [
        {
          "output_type": "execute_result",
          "data": {
            "text/plain": [
              "name\n",
              "maruti swift dzire vdi                          135\n",
              "maruti alto lxi                                  68\n",
              "maruti alto 800 lxi                              65\n",
              "maruti swift dzire vxi                           50\n",
              "maruti swift vdi                                 50\n",
              "                                               ... \n",
              "hyundai getz 1.1 gvs                              1\n",
              "maruti 800 ex bsii                                1\n",
              "datsun go t option                                1\n",
              "mahindra scorpio 2.6 sportz crde                  1\n",
              "toyota innova 2.5 gx (diesel) 8 seater bs iv      1\n",
              "Name: count, Length: 1837, dtype: int64"
            ]
          },
          "metadata": {},
          "execution_count": 24
        }
      ],
      "source": [
        "df['name'].value_counts()"
      ]
    },
    {
      "cell_type": "code",
      "execution_count": 25,
      "metadata": {
        "id": "paSGMS_YFVRg"
      },
      "outputs": [],
      "source": [
        "df[['brand', 'model', '2', '3', '4', '5', '6', '7', '8', '9']] = df['name'].str.split(\" \", expand=True)"
      ]
    },
    {
      "cell_type": "code",
      "execution_count": 26,
      "metadata": {
        "colab": {
          "base_uri": "https://localhost:8080/",
          "height": 922
        },
        "id": "24Om_b6fRbRE",
        "outputId": "305632da-a926-4d0b-9727-aba3f9106b2b"
      },
      "outputs": [
        {
          "output_type": "execute_result",
          "data": {
            "text/plain": [
              "                                   name  year  selling_price  km_driven  \\\n",
              "0                maruti swift dzire vdi  2014         450000     145500   \n",
              "1          skoda rapid 1.5 tdi ambition  2014         370000     120000   \n",
              "2             hyundai i20 sportz diesel  2010         225000     127000   \n",
              "3                maruti swift vxi bsiii  2007         130000     120000   \n",
              "4         hyundai xcent 1.2 vtvt e plus  2017         440000      45000   \n",
              "...                                 ...   ...            ...        ...   \n",
              "5818            hyundai santro xing gls  2008         120000     191000   \n",
              "5819  maruti wagon r vxi bs iv with abs  2013         260000      50000   \n",
              "5820                  hyundai i20 magna  2013         320000     110000   \n",
              "5821              hyundai verna crdi sx  2007         135000     119000   \n",
              "5822             maruti swift dzire zdi  2009         382000     120000   \n",
              "\n",
              "        fuel seller_type transmission                 owner  mileage  engine  \\\n",
              "0     diesel  individual       manual           first owner    23.40  1248.0   \n",
              "1     diesel  individual       manual          second owner    21.14  1498.0   \n",
              "2     diesel  individual       manual           first owner    23.00  1396.0   \n",
              "3     petrol  individual       manual           first owner    16.10  1298.0   \n",
              "4     petrol  individual       manual           first owner    20.14  1197.0   \n",
              "...      ...         ...          ...                   ...      ...     ...   \n",
              "5818  petrol  individual       manual           first owner    17.92  1086.0   \n",
              "5819  petrol  individual       manual          second owner    18.90   998.0   \n",
              "5820  petrol  individual       manual           first owner    18.50  1197.0   \n",
              "5821  diesel  individual       manual  fourth & above owner    16.80  1493.0   \n",
              "5822  diesel  individual       manual           first owner    19.30  1248.0   \n",
              "\n",
              "      ...    brand   model       2       3         4     5     6     7     8  \\\n",
              "0     ...   maruti   swift   dzire     vdi      None  None  None  None  None   \n",
              "1     ...    skoda   rapid     1.5     tdi  ambition  None  None  None  None   \n",
              "2     ...  hyundai     i20  sportz  diesel      None  None  None  None  None   \n",
              "3     ...   maruti   swift     vxi   bsiii      None  None  None  None  None   \n",
              "4     ...  hyundai   xcent     1.2    vtvt         e  plus  None  None  None   \n",
              "...   ...      ...     ...     ...     ...       ...   ...   ...   ...   ...   \n",
              "5818  ...  hyundai  santro    xing     gls      None  None  None  None  None   \n",
              "5819  ...   maruti   wagon       r     vxi        bs    iv  with   abs  None   \n",
              "5820  ...  hyundai     i20   magna    None      None  None  None  None  None   \n",
              "5821  ...  hyundai   verna    crdi      sx      None  None  None  None  None   \n",
              "5822  ...   maruti   swift   dzire     zdi      None  None  None  None  None   \n",
              "\n",
              "         9  \n",
              "0     None  \n",
              "1     None  \n",
              "2     None  \n",
              "3     None  \n",
              "4     None  \n",
              "...    ...  \n",
              "5818  None  \n",
              "5819  None  \n",
              "5820  None  \n",
              "5821  None  \n",
              "5822  None  \n",
              "\n",
              "[5823 rows x 23 columns]"
            ],
            "text/html": [
              "\n",
              "  <div id=\"df-2dda6d2a-7223-463c-8d29-c7328e5ee5f6\">\n",
              "    <div class=\"colab-df-container\">\n",
              "      <div>\n",
              "<style scoped>\n",
              "    .dataframe tbody tr th:only-of-type {\n",
              "        vertical-align: middle;\n",
              "    }\n",
              "\n",
              "    .dataframe tbody tr th {\n",
              "        vertical-align: top;\n",
              "    }\n",
              "\n",
              "    .dataframe thead th {\n",
              "        text-align: right;\n",
              "    }\n",
              "</style>\n",
              "<table border=\"1\" class=\"dataframe\">\n",
              "  <thead>\n",
              "    <tr style=\"text-align: right;\">\n",
              "      <th></th>\n",
              "      <th>name</th>\n",
              "      <th>year</th>\n",
              "      <th>selling_price</th>\n",
              "      <th>km_driven</th>\n",
              "      <th>fuel</th>\n",
              "      <th>seller_type</th>\n",
              "      <th>transmission</th>\n",
              "      <th>owner</th>\n",
              "      <th>mileage</th>\n",
              "      <th>engine</th>\n",
              "      <th>...</th>\n",
              "      <th>brand</th>\n",
              "      <th>model</th>\n",
              "      <th>2</th>\n",
              "      <th>3</th>\n",
              "      <th>4</th>\n",
              "      <th>5</th>\n",
              "      <th>6</th>\n",
              "      <th>7</th>\n",
              "      <th>8</th>\n",
              "      <th>9</th>\n",
              "    </tr>\n",
              "  </thead>\n",
              "  <tbody>\n",
              "    <tr>\n",
              "      <th>0</th>\n",
              "      <td>maruti swift dzire vdi</td>\n",
              "      <td>2014</td>\n",
              "      <td>450000</td>\n",
              "      <td>145500</td>\n",
              "      <td>diesel</td>\n",
              "      <td>individual</td>\n",
              "      <td>manual</td>\n",
              "      <td>first owner</td>\n",
              "      <td>23.40</td>\n",
              "      <td>1248.0</td>\n",
              "      <td>...</td>\n",
              "      <td>maruti</td>\n",
              "      <td>swift</td>\n",
              "      <td>dzire</td>\n",
              "      <td>vdi</td>\n",
              "      <td>None</td>\n",
              "      <td>None</td>\n",
              "      <td>None</td>\n",
              "      <td>None</td>\n",
              "      <td>None</td>\n",
              "      <td>None</td>\n",
              "    </tr>\n",
              "    <tr>\n",
              "      <th>1</th>\n",
              "      <td>skoda rapid 1.5 tdi ambition</td>\n",
              "      <td>2014</td>\n",
              "      <td>370000</td>\n",
              "      <td>120000</td>\n",
              "      <td>diesel</td>\n",
              "      <td>individual</td>\n",
              "      <td>manual</td>\n",
              "      <td>second owner</td>\n",
              "      <td>21.14</td>\n",
              "      <td>1498.0</td>\n",
              "      <td>...</td>\n",
              "      <td>skoda</td>\n",
              "      <td>rapid</td>\n",
              "      <td>1.5</td>\n",
              "      <td>tdi</td>\n",
              "      <td>ambition</td>\n",
              "      <td>None</td>\n",
              "      <td>None</td>\n",
              "      <td>None</td>\n",
              "      <td>None</td>\n",
              "      <td>None</td>\n",
              "    </tr>\n",
              "    <tr>\n",
              "      <th>2</th>\n",
              "      <td>hyundai i20 sportz diesel</td>\n",
              "      <td>2010</td>\n",
              "      <td>225000</td>\n",
              "      <td>127000</td>\n",
              "      <td>diesel</td>\n",
              "      <td>individual</td>\n",
              "      <td>manual</td>\n",
              "      <td>first owner</td>\n",
              "      <td>23.00</td>\n",
              "      <td>1396.0</td>\n",
              "      <td>...</td>\n",
              "      <td>hyundai</td>\n",
              "      <td>i20</td>\n",
              "      <td>sportz</td>\n",
              "      <td>diesel</td>\n",
              "      <td>None</td>\n",
              "      <td>None</td>\n",
              "      <td>None</td>\n",
              "      <td>None</td>\n",
              "      <td>None</td>\n",
              "      <td>None</td>\n",
              "    </tr>\n",
              "    <tr>\n",
              "      <th>3</th>\n",
              "      <td>maruti swift vxi bsiii</td>\n",
              "      <td>2007</td>\n",
              "      <td>130000</td>\n",
              "      <td>120000</td>\n",
              "      <td>petrol</td>\n",
              "      <td>individual</td>\n",
              "      <td>manual</td>\n",
              "      <td>first owner</td>\n",
              "      <td>16.10</td>\n",
              "      <td>1298.0</td>\n",
              "      <td>...</td>\n",
              "      <td>maruti</td>\n",
              "      <td>swift</td>\n",
              "      <td>vxi</td>\n",
              "      <td>bsiii</td>\n",
              "      <td>None</td>\n",
              "      <td>None</td>\n",
              "      <td>None</td>\n",
              "      <td>None</td>\n",
              "      <td>None</td>\n",
              "      <td>None</td>\n",
              "    </tr>\n",
              "    <tr>\n",
              "      <th>4</th>\n",
              "      <td>hyundai xcent 1.2 vtvt e plus</td>\n",
              "      <td>2017</td>\n",
              "      <td>440000</td>\n",
              "      <td>45000</td>\n",
              "      <td>petrol</td>\n",
              "      <td>individual</td>\n",
              "      <td>manual</td>\n",
              "      <td>first owner</td>\n",
              "      <td>20.14</td>\n",
              "      <td>1197.0</td>\n",
              "      <td>...</td>\n",
              "      <td>hyundai</td>\n",
              "      <td>xcent</td>\n",
              "      <td>1.2</td>\n",
              "      <td>vtvt</td>\n",
              "      <td>e</td>\n",
              "      <td>plus</td>\n",
              "      <td>None</td>\n",
              "      <td>None</td>\n",
              "      <td>None</td>\n",
              "      <td>None</td>\n",
              "    </tr>\n",
              "    <tr>\n",
              "      <th>...</th>\n",
              "      <td>...</td>\n",
              "      <td>...</td>\n",
              "      <td>...</td>\n",
              "      <td>...</td>\n",
              "      <td>...</td>\n",
              "      <td>...</td>\n",
              "      <td>...</td>\n",
              "      <td>...</td>\n",
              "      <td>...</td>\n",
              "      <td>...</td>\n",
              "      <td>...</td>\n",
              "      <td>...</td>\n",
              "      <td>...</td>\n",
              "      <td>...</td>\n",
              "      <td>...</td>\n",
              "      <td>...</td>\n",
              "      <td>...</td>\n",
              "      <td>...</td>\n",
              "      <td>...</td>\n",
              "      <td>...</td>\n",
              "      <td>...</td>\n",
              "    </tr>\n",
              "    <tr>\n",
              "      <th>5818</th>\n",
              "      <td>hyundai santro xing gls</td>\n",
              "      <td>2008</td>\n",
              "      <td>120000</td>\n",
              "      <td>191000</td>\n",
              "      <td>petrol</td>\n",
              "      <td>individual</td>\n",
              "      <td>manual</td>\n",
              "      <td>first owner</td>\n",
              "      <td>17.92</td>\n",
              "      <td>1086.0</td>\n",
              "      <td>...</td>\n",
              "      <td>hyundai</td>\n",
              "      <td>santro</td>\n",
              "      <td>xing</td>\n",
              "      <td>gls</td>\n",
              "      <td>None</td>\n",
              "      <td>None</td>\n",
              "      <td>None</td>\n",
              "      <td>None</td>\n",
              "      <td>None</td>\n",
              "      <td>None</td>\n",
              "    </tr>\n",
              "    <tr>\n",
              "      <th>5819</th>\n",
              "      <td>maruti wagon r vxi bs iv with abs</td>\n",
              "      <td>2013</td>\n",
              "      <td>260000</td>\n",
              "      <td>50000</td>\n",
              "      <td>petrol</td>\n",
              "      <td>individual</td>\n",
              "      <td>manual</td>\n",
              "      <td>second owner</td>\n",
              "      <td>18.90</td>\n",
              "      <td>998.0</td>\n",
              "      <td>...</td>\n",
              "      <td>maruti</td>\n",
              "      <td>wagon</td>\n",
              "      <td>r</td>\n",
              "      <td>vxi</td>\n",
              "      <td>bs</td>\n",
              "      <td>iv</td>\n",
              "      <td>with</td>\n",
              "      <td>abs</td>\n",
              "      <td>None</td>\n",
              "      <td>None</td>\n",
              "    </tr>\n",
              "    <tr>\n",
              "      <th>5820</th>\n",
              "      <td>hyundai i20 magna</td>\n",
              "      <td>2013</td>\n",
              "      <td>320000</td>\n",
              "      <td>110000</td>\n",
              "      <td>petrol</td>\n",
              "      <td>individual</td>\n",
              "      <td>manual</td>\n",
              "      <td>first owner</td>\n",
              "      <td>18.50</td>\n",
              "      <td>1197.0</td>\n",
              "      <td>...</td>\n",
              "      <td>hyundai</td>\n",
              "      <td>i20</td>\n",
              "      <td>magna</td>\n",
              "      <td>None</td>\n",
              "      <td>None</td>\n",
              "      <td>None</td>\n",
              "      <td>None</td>\n",
              "      <td>None</td>\n",
              "      <td>None</td>\n",
              "      <td>None</td>\n",
              "    </tr>\n",
              "    <tr>\n",
              "      <th>5821</th>\n",
              "      <td>hyundai verna crdi sx</td>\n",
              "      <td>2007</td>\n",
              "      <td>135000</td>\n",
              "      <td>119000</td>\n",
              "      <td>diesel</td>\n",
              "      <td>individual</td>\n",
              "      <td>manual</td>\n",
              "      <td>fourth &amp; above owner</td>\n",
              "      <td>16.80</td>\n",
              "      <td>1493.0</td>\n",
              "      <td>...</td>\n",
              "      <td>hyundai</td>\n",
              "      <td>verna</td>\n",
              "      <td>crdi</td>\n",
              "      <td>sx</td>\n",
              "      <td>None</td>\n",
              "      <td>None</td>\n",
              "      <td>None</td>\n",
              "      <td>None</td>\n",
              "      <td>None</td>\n",
              "      <td>None</td>\n",
              "    </tr>\n",
              "    <tr>\n",
              "      <th>5822</th>\n",
              "      <td>maruti swift dzire zdi</td>\n",
              "      <td>2009</td>\n",
              "      <td>382000</td>\n",
              "      <td>120000</td>\n",
              "      <td>diesel</td>\n",
              "      <td>individual</td>\n",
              "      <td>manual</td>\n",
              "      <td>first owner</td>\n",
              "      <td>19.30</td>\n",
              "      <td>1248.0</td>\n",
              "      <td>...</td>\n",
              "      <td>maruti</td>\n",
              "      <td>swift</td>\n",
              "      <td>dzire</td>\n",
              "      <td>zdi</td>\n",
              "      <td>None</td>\n",
              "      <td>None</td>\n",
              "      <td>None</td>\n",
              "      <td>None</td>\n",
              "      <td>None</td>\n",
              "      <td>None</td>\n",
              "    </tr>\n",
              "  </tbody>\n",
              "</table>\n",
              "<p>5823 rows × 23 columns</p>\n",
              "</div>\n",
              "      <button class=\"colab-df-convert\" onclick=\"convertToInteractive('df-2dda6d2a-7223-463c-8d29-c7328e5ee5f6')\"\n",
              "              title=\"Convert this dataframe to an interactive table.\"\n",
              "              style=\"display:none;\">\n",
              "        \n",
              "  <svg xmlns=\"http://www.w3.org/2000/svg\" height=\"24px\"viewBox=\"0 0 24 24\"\n",
              "       width=\"24px\">\n",
              "    <path d=\"M0 0h24v24H0V0z\" fill=\"none\"/>\n",
              "    <path d=\"M18.56 5.44l.94 2.06.94-2.06 2.06-.94-2.06-.94-.94-2.06-.94 2.06-2.06.94zm-11 1L8.5 8.5l.94-2.06 2.06-.94-2.06-.94L8.5 2.5l-.94 2.06-2.06.94zm10 10l.94 2.06.94-2.06 2.06-.94-2.06-.94-.94-2.06-.94 2.06-2.06.94z\"/><path d=\"M17.41 7.96l-1.37-1.37c-.4-.4-.92-.59-1.43-.59-.52 0-1.04.2-1.43.59L10.3 9.45l-7.72 7.72c-.78.78-.78 2.05 0 2.83L4 21.41c.39.39.9.59 1.41.59.51 0 1.02-.2 1.41-.59l7.78-7.78 2.81-2.81c.8-.78.8-2.07 0-2.86zM5.41 20L4 18.59l7.72-7.72 1.47 1.35L5.41 20z\"/>\n",
              "  </svg>\n",
              "      </button>\n",
              "      \n",
              "  <style>\n",
              "    .colab-df-container {\n",
              "      display:flex;\n",
              "      flex-wrap:wrap;\n",
              "      gap: 12px;\n",
              "    }\n",
              "\n",
              "    .colab-df-convert {\n",
              "      background-color: #E8F0FE;\n",
              "      border: none;\n",
              "      border-radius: 50%;\n",
              "      cursor: pointer;\n",
              "      display: none;\n",
              "      fill: #1967D2;\n",
              "      height: 32px;\n",
              "      padding: 0 0 0 0;\n",
              "      width: 32px;\n",
              "    }\n",
              "\n",
              "    .colab-df-convert:hover {\n",
              "      background-color: #E2EBFA;\n",
              "      box-shadow: 0px 1px 2px rgba(60, 64, 67, 0.3), 0px 1px 3px 1px rgba(60, 64, 67, 0.15);\n",
              "      fill: #174EA6;\n",
              "    }\n",
              "\n",
              "    [theme=dark] .colab-df-convert {\n",
              "      background-color: #3B4455;\n",
              "      fill: #D2E3FC;\n",
              "    }\n",
              "\n",
              "    [theme=dark] .colab-df-convert:hover {\n",
              "      background-color: #434B5C;\n",
              "      box-shadow: 0px 1px 3px 1px rgba(0, 0, 0, 0.15);\n",
              "      filter: drop-shadow(0px 1px 2px rgba(0, 0, 0, 0.3));\n",
              "      fill: #FFFFFF;\n",
              "    }\n",
              "  </style>\n",
              "\n",
              "      <script>\n",
              "        const buttonEl =\n",
              "          document.querySelector('#df-2dda6d2a-7223-463c-8d29-c7328e5ee5f6 button.colab-df-convert');\n",
              "        buttonEl.style.display =\n",
              "          google.colab.kernel.accessAllowed ? 'block' : 'none';\n",
              "\n",
              "        async function convertToInteractive(key) {\n",
              "          const element = document.querySelector('#df-2dda6d2a-7223-463c-8d29-c7328e5ee5f6');\n",
              "          const dataTable =\n",
              "            await google.colab.kernel.invokeFunction('convertToInteractive',\n",
              "                                                     [key], {});\n",
              "          if (!dataTable) return;\n",
              "\n",
              "          const docLinkHtml = 'Like what you see? Visit the ' +\n",
              "            '<a target=\"_blank\" href=https://colab.research.google.com/notebooks/data_table.ipynb>data table notebook</a>'\n",
              "            + ' to learn more about interactive tables.';\n",
              "          element.innerHTML = '';\n",
              "          dataTable['output_type'] = 'display_data';\n",
              "          await google.colab.output.renderOutput(dataTable, element);\n",
              "          const docLink = document.createElement('div');\n",
              "          docLink.innerHTML = docLinkHtml;\n",
              "          element.appendChild(docLink);\n",
              "        }\n",
              "      </script>\n",
              "    </div>\n",
              "  </div>\n",
              "  "
            ]
          },
          "metadata": {},
          "execution_count": 26
        }
      ],
      "source": [
        "df"
      ]
    },
    {
      "cell_type": "code",
      "execution_count": 27,
      "metadata": {
        "id": "Q8RKsB66Tvbv"
      },
      "outputs": [],
      "source": [
        "df.fillna('', inplace=True)"
      ]
    },
    {
      "cell_type": "code",
      "execution_count": 28,
      "metadata": {
        "id": "4q1zH7K_Ri42"
      },
      "outputs": [],
      "source": [
        "df['variant'] = df[['2', '3', '4', '5', '6', '7', '8', '9']].agg(' '.join, axis=1)"
      ]
    },
    {
      "cell_type": "code",
      "source": [
        "df['brand'] = df[['brand', 'model']].agg(' '.join, axis=1)"
      ],
      "metadata": {
        "id": "FkSC9a_PIxEp"
      },
      "execution_count": 29,
      "outputs": []
    },
    {
      "cell_type": "code",
      "execution_count": 30,
      "metadata": {
        "colab": {
          "base_uri": "https://localhost:8080/",
          "height": 922
        },
        "id": "siJ4LeDvVQZ0",
        "outputId": "ff306e7b-9a3f-45c7-f467-7cfdfbae4f44"
      },
      "outputs": [
        {
          "output_type": "execute_result",
          "data": {
            "text/plain": [
              "                                   name  year  selling_price  km_driven  \\\n",
              "0                maruti swift dzire vdi  2014         450000     145500   \n",
              "1          skoda rapid 1.5 tdi ambition  2014         370000     120000   \n",
              "2             hyundai i20 sportz diesel  2010         225000     127000   \n",
              "3                maruti swift vxi bsiii  2007         130000     120000   \n",
              "4         hyundai xcent 1.2 vtvt e plus  2017         440000      45000   \n",
              "...                                 ...   ...            ...        ...   \n",
              "5818            hyundai santro xing gls  2008         120000     191000   \n",
              "5819  maruti wagon r vxi bs iv with abs  2013         260000      50000   \n",
              "5820                  hyundai i20 magna  2013         320000     110000   \n",
              "5821              hyundai verna crdi sx  2007         135000     119000   \n",
              "5822             maruti swift dzire zdi  2009         382000     120000   \n",
              "\n",
              "        fuel seller_type transmission                 owner  mileage  engine  \\\n",
              "0     diesel  individual       manual           first owner    23.40  1248.0   \n",
              "1     diesel  individual       manual          second owner    21.14  1498.0   \n",
              "2     diesel  individual       manual           first owner    23.00  1396.0   \n",
              "3     petrol  individual       manual           first owner    16.10  1298.0   \n",
              "4     petrol  individual       manual           first owner    20.14  1197.0   \n",
              "...      ...         ...          ...                   ...      ...     ...   \n",
              "5818  petrol  individual       manual           first owner    17.92  1086.0   \n",
              "5819  petrol  individual       manual          second owner    18.90   998.0   \n",
              "5820  petrol  individual       manual           first owner    18.50  1197.0   \n",
              "5821  diesel  individual       manual  fourth & above owner    16.80  1493.0   \n",
              "5822  diesel  individual       manual           first owner    19.30  1248.0   \n",
              "\n",
              "      ...   model       2       3         4     5     6    7 8  9   \\\n",
              "0     ...   swift   dzire     vdi                                    \n",
              "1     ...   rapid     1.5     tdi  ambition                          \n",
              "2     ...     i20  sportz  diesel                                    \n",
              "3     ...   swift     vxi   bsiii                                    \n",
              "4     ...   xcent     1.2    vtvt         e  plus                    \n",
              "...   ...     ...     ...     ...       ...   ...   ...  ... .. ..   \n",
              "5818  ...  santro    xing     gls                                    \n",
              "5819  ...   wagon       r     vxi        bs    iv  with  abs         \n",
              "5820  ...     i20   magna                                            \n",
              "5821  ...   verna    crdi      sx                                    \n",
              "5822  ...   swift   dzire     zdi                                    \n",
              "\n",
              "                     variant  \n",
              "0            dzire vdi        \n",
              "1      1.5 tdi ambition       \n",
              "2        sportz diesel        \n",
              "3            vxi bsiii        \n",
              "4        1.2 vtvt e plus      \n",
              "...                      ...  \n",
              "5818          xing gls        \n",
              "5819  r vxi bs iv with abs    \n",
              "5820            magna         \n",
              "5821           crdi sx        \n",
              "5822         dzire zdi        \n",
              "\n",
              "[5823 rows x 24 columns]"
            ],
            "text/html": [
              "\n",
              "  <div id=\"df-9ed79cb9-0daf-4041-9532-77ea5722405e\">\n",
              "    <div class=\"colab-df-container\">\n",
              "      <div>\n",
              "<style scoped>\n",
              "    .dataframe tbody tr th:only-of-type {\n",
              "        vertical-align: middle;\n",
              "    }\n",
              "\n",
              "    .dataframe tbody tr th {\n",
              "        vertical-align: top;\n",
              "    }\n",
              "\n",
              "    .dataframe thead th {\n",
              "        text-align: right;\n",
              "    }\n",
              "</style>\n",
              "<table border=\"1\" class=\"dataframe\">\n",
              "  <thead>\n",
              "    <tr style=\"text-align: right;\">\n",
              "      <th></th>\n",
              "      <th>name</th>\n",
              "      <th>year</th>\n",
              "      <th>selling_price</th>\n",
              "      <th>km_driven</th>\n",
              "      <th>fuel</th>\n",
              "      <th>seller_type</th>\n",
              "      <th>transmission</th>\n",
              "      <th>owner</th>\n",
              "      <th>mileage</th>\n",
              "      <th>engine</th>\n",
              "      <th>...</th>\n",
              "      <th>model</th>\n",
              "      <th>2</th>\n",
              "      <th>3</th>\n",
              "      <th>4</th>\n",
              "      <th>5</th>\n",
              "      <th>6</th>\n",
              "      <th>7</th>\n",
              "      <th>8</th>\n",
              "      <th>9</th>\n",
              "      <th>variant</th>\n",
              "    </tr>\n",
              "  </thead>\n",
              "  <tbody>\n",
              "    <tr>\n",
              "      <th>0</th>\n",
              "      <td>maruti swift dzire vdi</td>\n",
              "      <td>2014</td>\n",
              "      <td>450000</td>\n",
              "      <td>145500</td>\n",
              "      <td>diesel</td>\n",
              "      <td>individual</td>\n",
              "      <td>manual</td>\n",
              "      <td>first owner</td>\n",
              "      <td>23.40</td>\n",
              "      <td>1248.0</td>\n",
              "      <td>...</td>\n",
              "      <td>swift</td>\n",
              "      <td>dzire</td>\n",
              "      <td>vdi</td>\n",
              "      <td></td>\n",
              "      <td></td>\n",
              "      <td></td>\n",
              "      <td></td>\n",
              "      <td></td>\n",
              "      <td></td>\n",
              "      <td>dzire vdi</td>\n",
              "    </tr>\n",
              "    <tr>\n",
              "      <th>1</th>\n",
              "      <td>skoda rapid 1.5 tdi ambition</td>\n",
              "      <td>2014</td>\n",
              "      <td>370000</td>\n",
              "      <td>120000</td>\n",
              "      <td>diesel</td>\n",
              "      <td>individual</td>\n",
              "      <td>manual</td>\n",
              "      <td>second owner</td>\n",
              "      <td>21.14</td>\n",
              "      <td>1498.0</td>\n",
              "      <td>...</td>\n",
              "      <td>rapid</td>\n",
              "      <td>1.5</td>\n",
              "      <td>tdi</td>\n",
              "      <td>ambition</td>\n",
              "      <td></td>\n",
              "      <td></td>\n",
              "      <td></td>\n",
              "      <td></td>\n",
              "      <td></td>\n",
              "      <td>1.5 tdi ambition</td>\n",
              "    </tr>\n",
              "    <tr>\n",
              "      <th>2</th>\n",
              "      <td>hyundai i20 sportz diesel</td>\n",
              "      <td>2010</td>\n",
              "      <td>225000</td>\n",
              "      <td>127000</td>\n",
              "      <td>diesel</td>\n",
              "      <td>individual</td>\n",
              "      <td>manual</td>\n",
              "      <td>first owner</td>\n",
              "      <td>23.00</td>\n",
              "      <td>1396.0</td>\n",
              "      <td>...</td>\n",
              "      <td>i20</td>\n",
              "      <td>sportz</td>\n",
              "      <td>diesel</td>\n",
              "      <td></td>\n",
              "      <td></td>\n",
              "      <td></td>\n",
              "      <td></td>\n",
              "      <td></td>\n",
              "      <td></td>\n",
              "      <td>sportz diesel</td>\n",
              "    </tr>\n",
              "    <tr>\n",
              "      <th>3</th>\n",
              "      <td>maruti swift vxi bsiii</td>\n",
              "      <td>2007</td>\n",
              "      <td>130000</td>\n",
              "      <td>120000</td>\n",
              "      <td>petrol</td>\n",
              "      <td>individual</td>\n",
              "      <td>manual</td>\n",
              "      <td>first owner</td>\n",
              "      <td>16.10</td>\n",
              "      <td>1298.0</td>\n",
              "      <td>...</td>\n",
              "      <td>swift</td>\n",
              "      <td>vxi</td>\n",
              "      <td>bsiii</td>\n",
              "      <td></td>\n",
              "      <td></td>\n",
              "      <td></td>\n",
              "      <td></td>\n",
              "      <td></td>\n",
              "      <td></td>\n",
              "      <td>vxi bsiii</td>\n",
              "    </tr>\n",
              "    <tr>\n",
              "      <th>4</th>\n",
              "      <td>hyundai xcent 1.2 vtvt e plus</td>\n",
              "      <td>2017</td>\n",
              "      <td>440000</td>\n",
              "      <td>45000</td>\n",
              "      <td>petrol</td>\n",
              "      <td>individual</td>\n",
              "      <td>manual</td>\n",
              "      <td>first owner</td>\n",
              "      <td>20.14</td>\n",
              "      <td>1197.0</td>\n",
              "      <td>...</td>\n",
              "      <td>xcent</td>\n",
              "      <td>1.2</td>\n",
              "      <td>vtvt</td>\n",
              "      <td>e</td>\n",
              "      <td>plus</td>\n",
              "      <td></td>\n",
              "      <td></td>\n",
              "      <td></td>\n",
              "      <td></td>\n",
              "      <td>1.2 vtvt e plus</td>\n",
              "    </tr>\n",
              "    <tr>\n",
              "      <th>...</th>\n",
              "      <td>...</td>\n",
              "      <td>...</td>\n",
              "      <td>...</td>\n",
              "      <td>...</td>\n",
              "      <td>...</td>\n",
              "      <td>...</td>\n",
              "      <td>...</td>\n",
              "      <td>...</td>\n",
              "      <td>...</td>\n",
              "      <td>...</td>\n",
              "      <td>...</td>\n",
              "      <td>...</td>\n",
              "      <td>...</td>\n",
              "      <td>...</td>\n",
              "      <td>...</td>\n",
              "      <td>...</td>\n",
              "      <td>...</td>\n",
              "      <td>...</td>\n",
              "      <td>...</td>\n",
              "      <td>...</td>\n",
              "      <td>...</td>\n",
              "    </tr>\n",
              "    <tr>\n",
              "      <th>5818</th>\n",
              "      <td>hyundai santro xing gls</td>\n",
              "      <td>2008</td>\n",
              "      <td>120000</td>\n",
              "      <td>191000</td>\n",
              "      <td>petrol</td>\n",
              "      <td>individual</td>\n",
              "      <td>manual</td>\n",
              "      <td>first owner</td>\n",
              "      <td>17.92</td>\n",
              "      <td>1086.0</td>\n",
              "      <td>...</td>\n",
              "      <td>santro</td>\n",
              "      <td>xing</td>\n",
              "      <td>gls</td>\n",
              "      <td></td>\n",
              "      <td></td>\n",
              "      <td></td>\n",
              "      <td></td>\n",
              "      <td></td>\n",
              "      <td></td>\n",
              "      <td>xing gls</td>\n",
              "    </tr>\n",
              "    <tr>\n",
              "      <th>5819</th>\n",
              "      <td>maruti wagon r vxi bs iv with abs</td>\n",
              "      <td>2013</td>\n",
              "      <td>260000</td>\n",
              "      <td>50000</td>\n",
              "      <td>petrol</td>\n",
              "      <td>individual</td>\n",
              "      <td>manual</td>\n",
              "      <td>second owner</td>\n",
              "      <td>18.90</td>\n",
              "      <td>998.0</td>\n",
              "      <td>...</td>\n",
              "      <td>wagon</td>\n",
              "      <td>r</td>\n",
              "      <td>vxi</td>\n",
              "      <td>bs</td>\n",
              "      <td>iv</td>\n",
              "      <td>with</td>\n",
              "      <td>abs</td>\n",
              "      <td></td>\n",
              "      <td></td>\n",
              "      <td>r vxi bs iv with abs</td>\n",
              "    </tr>\n",
              "    <tr>\n",
              "      <th>5820</th>\n",
              "      <td>hyundai i20 magna</td>\n",
              "      <td>2013</td>\n",
              "      <td>320000</td>\n",
              "      <td>110000</td>\n",
              "      <td>petrol</td>\n",
              "      <td>individual</td>\n",
              "      <td>manual</td>\n",
              "      <td>first owner</td>\n",
              "      <td>18.50</td>\n",
              "      <td>1197.0</td>\n",
              "      <td>...</td>\n",
              "      <td>i20</td>\n",
              "      <td>magna</td>\n",
              "      <td></td>\n",
              "      <td></td>\n",
              "      <td></td>\n",
              "      <td></td>\n",
              "      <td></td>\n",
              "      <td></td>\n",
              "      <td></td>\n",
              "      <td>magna</td>\n",
              "    </tr>\n",
              "    <tr>\n",
              "      <th>5821</th>\n",
              "      <td>hyundai verna crdi sx</td>\n",
              "      <td>2007</td>\n",
              "      <td>135000</td>\n",
              "      <td>119000</td>\n",
              "      <td>diesel</td>\n",
              "      <td>individual</td>\n",
              "      <td>manual</td>\n",
              "      <td>fourth &amp; above owner</td>\n",
              "      <td>16.80</td>\n",
              "      <td>1493.0</td>\n",
              "      <td>...</td>\n",
              "      <td>verna</td>\n",
              "      <td>crdi</td>\n",
              "      <td>sx</td>\n",
              "      <td></td>\n",
              "      <td></td>\n",
              "      <td></td>\n",
              "      <td></td>\n",
              "      <td></td>\n",
              "      <td></td>\n",
              "      <td>crdi sx</td>\n",
              "    </tr>\n",
              "    <tr>\n",
              "      <th>5822</th>\n",
              "      <td>maruti swift dzire zdi</td>\n",
              "      <td>2009</td>\n",
              "      <td>382000</td>\n",
              "      <td>120000</td>\n",
              "      <td>diesel</td>\n",
              "      <td>individual</td>\n",
              "      <td>manual</td>\n",
              "      <td>first owner</td>\n",
              "      <td>19.30</td>\n",
              "      <td>1248.0</td>\n",
              "      <td>...</td>\n",
              "      <td>swift</td>\n",
              "      <td>dzire</td>\n",
              "      <td>zdi</td>\n",
              "      <td></td>\n",
              "      <td></td>\n",
              "      <td></td>\n",
              "      <td></td>\n",
              "      <td></td>\n",
              "      <td></td>\n",
              "      <td>dzire zdi</td>\n",
              "    </tr>\n",
              "  </tbody>\n",
              "</table>\n",
              "<p>5823 rows × 24 columns</p>\n",
              "</div>\n",
              "      <button class=\"colab-df-convert\" onclick=\"convertToInteractive('df-9ed79cb9-0daf-4041-9532-77ea5722405e')\"\n",
              "              title=\"Convert this dataframe to an interactive table.\"\n",
              "              style=\"display:none;\">\n",
              "        \n",
              "  <svg xmlns=\"http://www.w3.org/2000/svg\" height=\"24px\"viewBox=\"0 0 24 24\"\n",
              "       width=\"24px\">\n",
              "    <path d=\"M0 0h24v24H0V0z\" fill=\"none\"/>\n",
              "    <path d=\"M18.56 5.44l.94 2.06.94-2.06 2.06-.94-2.06-.94-.94-2.06-.94 2.06-2.06.94zm-11 1L8.5 8.5l.94-2.06 2.06-.94-2.06-.94L8.5 2.5l-.94 2.06-2.06.94zm10 10l.94 2.06.94-2.06 2.06-.94-2.06-.94-.94-2.06-.94 2.06-2.06.94z\"/><path d=\"M17.41 7.96l-1.37-1.37c-.4-.4-.92-.59-1.43-.59-.52 0-1.04.2-1.43.59L10.3 9.45l-7.72 7.72c-.78.78-.78 2.05 0 2.83L4 21.41c.39.39.9.59 1.41.59.51 0 1.02-.2 1.41-.59l7.78-7.78 2.81-2.81c.8-.78.8-2.07 0-2.86zM5.41 20L4 18.59l7.72-7.72 1.47 1.35L5.41 20z\"/>\n",
              "  </svg>\n",
              "      </button>\n",
              "      \n",
              "  <style>\n",
              "    .colab-df-container {\n",
              "      display:flex;\n",
              "      flex-wrap:wrap;\n",
              "      gap: 12px;\n",
              "    }\n",
              "\n",
              "    .colab-df-convert {\n",
              "      background-color: #E8F0FE;\n",
              "      border: none;\n",
              "      border-radius: 50%;\n",
              "      cursor: pointer;\n",
              "      display: none;\n",
              "      fill: #1967D2;\n",
              "      height: 32px;\n",
              "      padding: 0 0 0 0;\n",
              "      width: 32px;\n",
              "    }\n",
              "\n",
              "    .colab-df-convert:hover {\n",
              "      background-color: #E2EBFA;\n",
              "      box-shadow: 0px 1px 2px rgba(60, 64, 67, 0.3), 0px 1px 3px 1px rgba(60, 64, 67, 0.15);\n",
              "      fill: #174EA6;\n",
              "    }\n",
              "\n",
              "    [theme=dark] .colab-df-convert {\n",
              "      background-color: #3B4455;\n",
              "      fill: #D2E3FC;\n",
              "    }\n",
              "\n",
              "    [theme=dark] .colab-df-convert:hover {\n",
              "      background-color: #434B5C;\n",
              "      box-shadow: 0px 1px 3px 1px rgba(0, 0, 0, 0.15);\n",
              "      filter: drop-shadow(0px 1px 2px rgba(0, 0, 0, 0.3));\n",
              "      fill: #FFFFFF;\n",
              "    }\n",
              "  </style>\n",
              "\n",
              "      <script>\n",
              "        const buttonEl =\n",
              "          document.querySelector('#df-9ed79cb9-0daf-4041-9532-77ea5722405e button.colab-df-convert');\n",
              "        buttonEl.style.display =\n",
              "          google.colab.kernel.accessAllowed ? 'block' : 'none';\n",
              "\n",
              "        async function convertToInteractive(key) {\n",
              "          const element = document.querySelector('#df-9ed79cb9-0daf-4041-9532-77ea5722405e');\n",
              "          const dataTable =\n",
              "            await google.colab.kernel.invokeFunction('convertToInteractive',\n",
              "                                                     [key], {});\n",
              "          if (!dataTable) return;\n",
              "\n",
              "          const docLinkHtml = 'Like what you see? Visit the ' +\n",
              "            '<a target=\"_blank\" href=https://colab.research.google.com/notebooks/data_table.ipynb>data table notebook</a>'\n",
              "            + ' to learn more about interactive tables.';\n",
              "          element.innerHTML = '';\n",
              "          dataTable['output_type'] = 'display_data';\n",
              "          await google.colab.output.renderOutput(dataTable, element);\n",
              "          const docLink = document.createElement('div');\n",
              "          docLink.innerHTML = docLinkHtml;\n",
              "          element.appendChild(docLink);\n",
              "        }\n",
              "      </script>\n",
              "    </div>\n",
              "  </div>\n",
              "  "
            ]
          },
          "metadata": {},
          "execution_count": 30
        }
      ],
      "source": [
        "df"
      ]
    },
    {
      "cell_type": "code",
      "execution_count": 31,
      "metadata": {
        "colab": {
          "base_uri": "https://localhost:8080/"
        },
        "id": "DF2s_Lbdonpy",
        "outputId": "9c289cc0-93f8-4e76-c1da-9679dd69b083"
      },
      "outputs": [
        {
          "output_type": "execute_result",
          "data": {
            "text/plain": [
              "123                400nm\n",
              "337                400nm\n",
              "1270      510@ 1600-2400\n",
              "2597       135.4nm@ 2500\n",
              "3103       135.4nm@ 2500\n",
              "3159    190nm@ 2000-3000\n",
              "3167          210 / 1900\n",
              "4034          210 / 1900\n",
              "4177          210 / 1900\n",
              "4633          210 / 1900\n",
              "4814       135.4nm@ 2500\n",
              "5160          210 / 1900\n",
              "5276          210 / 1900\n",
              "5447          210 / 1900\n",
              "5680               400nm\n",
              "Name: torque, dtype: object"
            ]
          },
          "metadata": {},
          "execution_count": 31
        }
      ],
      "source": [
        "df['torque'].loc[df['torque'].str.contains('rpm') == False]"
      ]
    },
    {
      "cell_type": "code",
      "execution_count": 32,
      "metadata": {
        "colab": {
          "base_uri": "https://localhost:8080/",
          "height": 376
        },
        "id": "QKedsO2apop1",
        "outputId": "98eaf5c0-ca04-4a0d-bfc6-65627074f938"
      },
      "outputs": [
        {
          "output_type": "execute_result",
          "data": {
            "text/plain": [
              "                                name  year  selling_price  km_driven    fuel  \\\n",
              "123           volvo xc40 d4 r-design  2018        3400000      22000  diesel   \n",
              "337   volvo xc40 d4 inscription bsiv  2019        3800000      20000  diesel   \n",
              "5680   volvo s90 d4 inscription bsiv  2019        5500000      17000  diesel   \n",
              "\n",
              "     seller_type transmission        owner  mileage  engine  ...  model   2  \\\n",
              "123       dealer    automatic  first owner     18.0  1969.0  ...   xc40  d4   \n",
              "337   individual    automatic  first owner     18.0  1969.0  ...   xc40  d4   \n",
              "5680  individual    automatic  first owner     18.0  1969.0  ...    s90  d4   \n",
              "\n",
              "                3     4 5 6 7 8 9                   variant  \n",
              "123      r-design                         d4 r-design        \n",
              "337   inscription  bsiv            d4 inscription bsiv       \n",
              "5680  inscription  bsiv            d4 inscription bsiv       \n",
              "\n",
              "[3 rows x 24 columns]"
            ],
            "text/html": [
              "\n",
              "  <div id=\"df-c9753e02-6e07-4b24-862a-9c3b9c191939\">\n",
              "    <div class=\"colab-df-container\">\n",
              "      <div>\n",
              "<style scoped>\n",
              "    .dataframe tbody tr th:only-of-type {\n",
              "        vertical-align: middle;\n",
              "    }\n",
              "\n",
              "    .dataframe tbody tr th {\n",
              "        vertical-align: top;\n",
              "    }\n",
              "\n",
              "    .dataframe thead th {\n",
              "        text-align: right;\n",
              "    }\n",
              "</style>\n",
              "<table border=\"1\" class=\"dataframe\">\n",
              "  <thead>\n",
              "    <tr style=\"text-align: right;\">\n",
              "      <th></th>\n",
              "      <th>name</th>\n",
              "      <th>year</th>\n",
              "      <th>selling_price</th>\n",
              "      <th>km_driven</th>\n",
              "      <th>fuel</th>\n",
              "      <th>seller_type</th>\n",
              "      <th>transmission</th>\n",
              "      <th>owner</th>\n",
              "      <th>mileage</th>\n",
              "      <th>engine</th>\n",
              "      <th>...</th>\n",
              "      <th>model</th>\n",
              "      <th>2</th>\n",
              "      <th>3</th>\n",
              "      <th>4</th>\n",
              "      <th>5</th>\n",
              "      <th>6</th>\n",
              "      <th>7</th>\n",
              "      <th>8</th>\n",
              "      <th>9</th>\n",
              "      <th>variant</th>\n",
              "    </tr>\n",
              "  </thead>\n",
              "  <tbody>\n",
              "    <tr>\n",
              "      <th>123</th>\n",
              "      <td>volvo xc40 d4 r-design</td>\n",
              "      <td>2018</td>\n",
              "      <td>3400000</td>\n",
              "      <td>22000</td>\n",
              "      <td>diesel</td>\n",
              "      <td>dealer</td>\n",
              "      <td>automatic</td>\n",
              "      <td>first owner</td>\n",
              "      <td>18.0</td>\n",
              "      <td>1969.0</td>\n",
              "      <td>...</td>\n",
              "      <td>xc40</td>\n",
              "      <td>d4</td>\n",
              "      <td>r-design</td>\n",
              "      <td></td>\n",
              "      <td></td>\n",
              "      <td></td>\n",
              "      <td></td>\n",
              "      <td></td>\n",
              "      <td></td>\n",
              "      <td>d4 r-design</td>\n",
              "    </tr>\n",
              "    <tr>\n",
              "      <th>337</th>\n",
              "      <td>volvo xc40 d4 inscription bsiv</td>\n",
              "      <td>2019</td>\n",
              "      <td>3800000</td>\n",
              "      <td>20000</td>\n",
              "      <td>diesel</td>\n",
              "      <td>individual</td>\n",
              "      <td>automatic</td>\n",
              "      <td>first owner</td>\n",
              "      <td>18.0</td>\n",
              "      <td>1969.0</td>\n",
              "      <td>...</td>\n",
              "      <td>xc40</td>\n",
              "      <td>d4</td>\n",
              "      <td>inscription</td>\n",
              "      <td>bsiv</td>\n",
              "      <td></td>\n",
              "      <td></td>\n",
              "      <td></td>\n",
              "      <td></td>\n",
              "      <td></td>\n",
              "      <td>d4 inscription bsiv</td>\n",
              "    </tr>\n",
              "    <tr>\n",
              "      <th>5680</th>\n",
              "      <td>volvo s90 d4 inscription bsiv</td>\n",
              "      <td>2019</td>\n",
              "      <td>5500000</td>\n",
              "      <td>17000</td>\n",
              "      <td>diesel</td>\n",
              "      <td>individual</td>\n",
              "      <td>automatic</td>\n",
              "      <td>first owner</td>\n",
              "      <td>18.0</td>\n",
              "      <td>1969.0</td>\n",
              "      <td>...</td>\n",
              "      <td>s90</td>\n",
              "      <td>d4</td>\n",
              "      <td>inscription</td>\n",
              "      <td>bsiv</td>\n",
              "      <td></td>\n",
              "      <td></td>\n",
              "      <td></td>\n",
              "      <td></td>\n",
              "      <td></td>\n",
              "      <td>d4 inscription bsiv</td>\n",
              "    </tr>\n",
              "  </tbody>\n",
              "</table>\n",
              "<p>3 rows × 24 columns</p>\n",
              "</div>\n",
              "      <button class=\"colab-df-convert\" onclick=\"convertToInteractive('df-c9753e02-6e07-4b24-862a-9c3b9c191939')\"\n",
              "              title=\"Convert this dataframe to an interactive table.\"\n",
              "              style=\"display:none;\">\n",
              "        \n",
              "  <svg xmlns=\"http://www.w3.org/2000/svg\" height=\"24px\"viewBox=\"0 0 24 24\"\n",
              "       width=\"24px\">\n",
              "    <path d=\"M0 0h24v24H0V0z\" fill=\"none\"/>\n",
              "    <path d=\"M18.56 5.44l.94 2.06.94-2.06 2.06-.94-2.06-.94-.94-2.06-.94 2.06-2.06.94zm-11 1L8.5 8.5l.94-2.06 2.06-.94-2.06-.94L8.5 2.5l-.94 2.06-2.06.94zm10 10l.94 2.06.94-2.06 2.06-.94-2.06-.94-.94-2.06-.94 2.06-2.06.94z\"/><path d=\"M17.41 7.96l-1.37-1.37c-.4-.4-.92-.59-1.43-.59-.52 0-1.04.2-1.43.59L10.3 9.45l-7.72 7.72c-.78.78-.78 2.05 0 2.83L4 21.41c.39.39.9.59 1.41.59.51 0 1.02-.2 1.41-.59l7.78-7.78 2.81-2.81c.8-.78.8-2.07 0-2.86zM5.41 20L4 18.59l7.72-7.72 1.47 1.35L5.41 20z\"/>\n",
              "  </svg>\n",
              "      </button>\n",
              "      \n",
              "  <style>\n",
              "    .colab-df-container {\n",
              "      display:flex;\n",
              "      flex-wrap:wrap;\n",
              "      gap: 12px;\n",
              "    }\n",
              "\n",
              "    .colab-df-convert {\n",
              "      background-color: #E8F0FE;\n",
              "      border: none;\n",
              "      border-radius: 50%;\n",
              "      cursor: pointer;\n",
              "      display: none;\n",
              "      fill: #1967D2;\n",
              "      height: 32px;\n",
              "      padding: 0 0 0 0;\n",
              "      width: 32px;\n",
              "    }\n",
              "\n",
              "    .colab-df-convert:hover {\n",
              "      background-color: #E2EBFA;\n",
              "      box-shadow: 0px 1px 2px rgba(60, 64, 67, 0.3), 0px 1px 3px 1px rgba(60, 64, 67, 0.15);\n",
              "      fill: #174EA6;\n",
              "    }\n",
              "\n",
              "    [theme=dark] .colab-df-convert {\n",
              "      background-color: #3B4455;\n",
              "      fill: #D2E3FC;\n",
              "    }\n",
              "\n",
              "    [theme=dark] .colab-df-convert:hover {\n",
              "      background-color: #434B5C;\n",
              "      box-shadow: 0px 1px 3px 1px rgba(0, 0, 0, 0.15);\n",
              "      filter: drop-shadow(0px 1px 2px rgba(0, 0, 0, 0.3));\n",
              "      fill: #FFFFFF;\n",
              "    }\n",
              "  </style>\n",
              "\n",
              "      <script>\n",
              "        const buttonEl =\n",
              "          document.querySelector('#df-c9753e02-6e07-4b24-862a-9c3b9c191939 button.colab-df-convert');\n",
              "        buttonEl.style.display =\n",
              "          google.colab.kernel.accessAllowed ? 'block' : 'none';\n",
              "\n",
              "        async function convertToInteractive(key) {\n",
              "          const element = document.querySelector('#df-c9753e02-6e07-4b24-862a-9c3b9c191939');\n",
              "          const dataTable =\n",
              "            await google.colab.kernel.invokeFunction('convertToInteractive',\n",
              "                                                     [key], {});\n",
              "          if (!dataTable) return;\n",
              "\n",
              "          const docLinkHtml = 'Like what you see? Visit the ' +\n",
              "            '<a target=\"_blank\" href=https://colab.research.google.com/notebooks/data_table.ipynb>data table notebook</a>'\n",
              "            + ' to learn more about interactive tables.';\n",
              "          element.innerHTML = '';\n",
              "          dataTable['output_type'] = 'display_data';\n",
              "          await google.colab.output.renderOutput(dataTable, element);\n",
              "          const docLink = document.createElement('div');\n",
              "          docLink.innerHTML = docLinkHtml;\n",
              "          element.appendChild(docLink);\n",
              "        }\n",
              "      </script>\n",
              "    </div>\n",
              "  </div>\n",
              "  "
            ]
          },
          "metadata": {},
          "execution_count": 32
        }
      ],
      "source": [
        "df.loc[df['torque'] == '400nm']"
      ]
    },
    {
      "cell_type": "code",
      "execution_count": 33,
      "metadata": {
        "colab": {
          "base_uri": "https://localhost:8080/"
        },
        "id": "1dwYSJCZP4Ef",
        "outputId": "bb536f1b-8f28-4db4-912e-a56ac94fd998"
      },
      "outputs": [
        {
          "output_type": "execute_result",
          "data": {
            "text/plain": [
              "array(['190nm@ 2000rpm', '250nm@ 1500-2500rpm',\n",
              "       '22.4 kgm at 1750-2750rpm', '11.5@ 4,500(kgm@ rpm)',\n",
              "       '113.75nm@ 4000rpm', '7.8@ 4,500(kgm@ rpm)', '59nm@ 2500rpm',\n",
              "       '170nm@ 1800-2400rpm', '160nm@ 2000rpm', '248nm@ 2250rpm',\n",
              "       '78nm@ 4500rpm', '84nm@ 3500rpm', '115nm@ 3500-3600rpm',\n",
              "       '62nm@ 3000rpm', '219.7nm@ 1500-2750rpm', '200nm@ 1750rpm',\n",
              "       '115nm@ 4000rpm', '69nm@ 3500rpm', '172.5nm@ 1750rpm',\n",
              "       '6.1kgm@ 3000rpm', '60nm@ 3500rpm', '90nm@ 3500rpm',\n",
              "       '151nm@ 4850rpm', '104nm@ 4000rpm', '320nm@ 1700-2700rpm',\n",
              "       '250nm@ 1750-2500rpm', '145nm@ 4600rpm', '146nm@ 4800rpm',\n",
              "       '343nm@ 1400-3400rpm', '200nm@ 1400-3400rpm',\n",
              "       '200nm@ 1250-4000rpm', '400nm@ 2000-2500rpm',\n",
              "       '360nm@ 1200-3400rpm', '200nm@ 1200-3600rpm',\n",
              "       '380nm@ 1750-2500rpm', '400nm@ 1750-3000rpm',\n",
              "       '400nm@ 1400-2800rpm', '200nm@ 1750-3000rpm', '111.7nm@ 4000rpm',\n",
              "       '219.6nm@ 1500-2750rpm', '112nm@ 4000rpm', '250nm@ 1500-3000rpm',\n",
              "       '130nm@ 4000rpm', '205nm@ 1750-3250rpm', '280nm@ 1350-4600rpm',\n",
              "       '99.04nm@ 4500rpm', '77nm@ 3500rpm', '110nm@ 3750rpm',\n",
              "       '153nm@ 3800rpm', '113.7nm@ 4000rpm', '114nm@ 4000rpm',\n",
              "       '113nm@ 4200rpm', '290nm@ 1800-2800rpm', '120nm@ 4250rpm',\n",
              "       '250nm@ 1500~4500rpm', '360nm@ 1750-2800rpm', '135nm@ 2500rpm',\n",
              "       '259.8nm@ 1900-2750rpm', '173nm@ 4000rpm', '200nm@ 1900rpm',\n",
              "       '259.9nm@ 1900-2750rpm', '91nm@ 4250rpm', '96.1nm@ 3000rpm',\n",
              "       '109nm@ 4500rpm', '202nm@ 3600-5200rpm', '430nm@ 1750-2500rpm',\n",
              "       '382nm@ 1750-2250rpm', '620nm@ 1600-2400rpm',\n",
              "       '400nm@ 1750-2500rpm', '250@ 1250-5000rpm', '500nm@ 1600-1800rpm',\n",
              "       '250nm@ 1600-3600rpm', '400nm', '550nm@ 1750-2750rpm',\n",
              "       '490nm@ 1600rpm', '250 nm at 2750 rpm', '170nm@ 1750-4000rpm',\n",
              "       '177.5nm@ 4700rpm', '300nm@ 1200-4000rpm', '300nm@ 1200-1400rpm',\n",
              "       '260nm@ 1500-2750rpm', '213nm@ 4500rpm', '224nm@ 4000rpm',\n",
              "       '640nm@ 1740rpm', '114.7nm@ 4000rpm', '113nm@ 4500rpm',\n",
              "       '95nm@ 3000-4300rpm', '13.1kgm@ 4600rpm', '205nm@ 1800-2800rpm',\n",
              "       '71nm@ 3500rpm', '190nm@ 1750-3000rpm', '146nm at 4800 rpm',\n",
              "       '115nm@ 3200rpm', '114nm@ 3500rpm', '320nm@ 1500-3000rpm',\n",
              "       '11.4 kgm at 4,000 rpm', '140nm@ 1500-4000rpm', '134nm@ 4000rpm',\n",
              "       '150nm@ 4500rpm', '340nm@ 1800-3250rpm', '240nm@ 1600-2800rpm',\n",
              "       '72nm@ 4386rpm', '330nm@ 1600-2800rpm', '101nm@ 3000rpm',\n",
              "       '12.5@ 3,500(kgm@ rpm)', '110nm@ 4800rpm', '111.8nm@ 4000rpm',\n",
              "       '11.8@ 3,200(kgm@ rpm)', '135.4nm@ 2500rpm', '300nm@ 1750-2500rpm',\n",
              "       '190.25nm@ 1750-2250rpm', '140nm@ 1800-3000rpm', '117nm@ 4000rpm',\n",
              "       '20.4@ 1400-3400(kgm@ rpm)', '247nm@ 1800-2000rpm',\n",
              "       '180 nm at 1440-1500rpm', '195nm@ 1400-2200rpm',\n",
              "       '154.9nm@ 4200rpm', '114.73nm@ 4000rpm', '160nm@ 1500-2750rpm',\n",
              "       '108nm@ 4400rpm', '190.24nm@ 1750-2250rpm', '420nm@ 1400-2600rpm',\n",
              "       '100nm@ 2700rpm', '51nm@ 4000rpm', '250nm@ 1250-5300rpm',\n",
              "       '132nm@ 3000rpm', '350nm@ 1500-2750rpm', '218nm@ 4200rpm',\n",
              "       '24@ 1,900-2,750(kgm@ rpm)', '13.5@ 2,500(kgm@ rpm)',\n",
              "       '85nm@ 3000rpm', '160nm@ 1750rpm', '180.4nm@ 1750-2500rpm',\n",
              "       '230nm@ 1500-2500rpm', '219.66nm@ 1500-2750rpm', '245nm@ 1750rpm',\n",
              "       '360nm@ 1400-3200rpm', '320nm@ 2000rpm', '135 nm at 2500  rpm ',\n",
              "       '24 kgm at 1900-2750 rpm', '204nm@ 2000-2750rpm',\n",
              "       '14.3@ 1,800-3,000(kgm@ rpm)', '190nm@ 1750-2250rpm',\n",
              "       '250nm@ 1500-2750rpm', '125nm@ 2000rpm', '172nm@ 4300rpm',\n",
              "       '150nm@ 1750rpm', '102nm@ 4000rpm', '85nm@ 2500rpm',\n",
              "       '8.5@ 2,500(kgm@ rpm)', '180nm@ 1440-1500rpm', '106.5nm@ 4400rpm',\n",
              "       '108.5nm@ 5000rpm', '350nm@ 1750-2500rpm', '144.15nm@ 4500rpm',\n",
              "       '104nm@ 4400rpm', '74.5nm@ 4000rpm', '200nm@ 2000rpm',\n",
              "       '280nm@ 1800-2800rpm', '142.5nm@ 1750rpm', '115@ 2,500(kgm@ rpm)',\n",
              "       '196nm@ 5000rpm', '9.8@ 3,000(kgm@ rpm)', '209nm@ 2000rpm',\n",
              "       '140nm@ 4200rpm', '220nm at 1400-2600 rpm',\n",
              "       '260 nm at 1800-2200 rpm', '171nm@ 1800rpm',\n",
              "       '277.5nm@ 1700-2200rpm', '215nm@ 3600rpm', '195nm@ 1440-2200rpm',\n",
              "       '13@ 2,500(kgm@ rpm)', '180nm@ 2000rpm', '200nm@ 1400-2200rpm',\n",
              "       '380nm(38.7kgm)@ 2500rpm', '110nm@ 4400rpm', '72nm@ 4388rpm',\n",
              "       '263.7nm@ 2500rpm', '12.7@ 2,700(kgm@ rpm)', '320nm@ 1600-2800rpm',\n",
              "       '16.3@ 2,000(kgm@ rpm)', '190 nm at 1750 rpm ', '94.14nm@ 3500rpm',\n",
              "       '12@ 3,500(kgm@ rpm)', '280nm@ 2400-2800rpm', '96nm@ 3500rpm',\n",
              "       '16@ 2,000(kgm@ rpm)', '320nm@ 1750-3000rpm',\n",
              "       '320nm@ 1750-2500rpm', '138nm@ 4400rpm', '99nm@ 4500rpm',\n",
              "       '190nm@ 1750rpm', '789nm@ 2250rpm', '259.87nm@ 1900-2750rpm',\n",
              "       '205nm@ 1750rpm', '436.39nm@ 1800-2500rpm',\n",
              "       '182.5nm@ 1500-1800rpm', '90.3nm@ 4200rpm',\n",
              "       '14.9@ 3,000(kgm@ rpm)', '305nm@ 2000rpm', '14.9 kgm at 3000 rpm',\n",
              "       '215nm@ 1750-3000rpm', '540nm@ 2000rpm', '327nm@ 2600rpm',\n",
              "       '300nm@ 1600-3000rpm', '620nm@ 2000-2500rpm',\n",
              "       '19@ 1,800(kgm@ rpm)', '9.2@ 4,200(kgm@ rpm)',\n",
              "       '145@ 4,100(kgm@ rpm)', '51nm@ 4000+/-500rpm', '110nm@ 3000rpm',\n",
              "       '148nm@ 3500rpm', '12.5@ 2,500(kgm@ rpm)', '116nm@ 4750rpm',\n",
              "       '148nm@ 4000rpm', '222nm@ 4300rpm', '135.3nm@ 5000rpm',\n",
              "       '98nm@ 1600-3000rpm', '343nm@ 1400-2800rpm', '402nm@ 1600-3000rpm',\n",
              "       '113nm@ 3300rpm', '99.07nm@ 4500rpm', '210nm@ 1600-2200rpm',\n",
              "       '190 nm at 1750  rpm ', '224nm@ 1500-2750rpm',\n",
              "       '215nm@ 1750-2500rpm', '25@ 1,800-2,800(kgm@ rpm)',\n",
              "       '136.3nm@ 4200rpm', '470nm@ 1750-2500rpm', '11@ 3,000(kgm@ rpm)',\n",
              "       '450nm@ 1600-2400rpm', '140nm@ 4400rpm', '347nm@ 4300rpm',\n",
              "       '142nm@ 4000rpm', '145nm@ 4100rpm', '320nm@ 1500-2800rpm',\n",
              "       '123nm@ 1000-2500rpm', '510@ 1600-2400', '220nm@ 1500-2750rpm',\n",
              "       '380nm@ 2000rpm', '104nm@ 3100rpm', '20@ 3,750(kgm@ rpm)',\n",
              "       '46.5@ 1,400-2,800(kgm@ rpm)', '15@ 3,800(kgm@ rpm)',\n",
              "       '136nm@ 4250rpm', '228nm@ 4400rpm', '149nm@ 4500rpm',\n",
              "       '187nm@ 2500rpm', '146nm@ 3400rpm', '218nm@ 1400-2600rpm',\n",
              "       '8.6@ 3,500(kgm@ rpm)', '219.7nm@ 1750-2750rpm', '450nm@ 2000rpm',\n",
              "       '300nm@ 2000rpm', '230nm@ 1800-2000rpm', '42@ 2,000(kgm@ rpm)',\n",
              "       '110nm@ 3000-4300rpm', '330nm@ 1800rpm', '219.6nm@ 1750-2750rpm',\n",
              "       '380nm@ 1750-2750rpm', '28.3@ 1,700-2,200(kgm@ rpm)',\n",
              "       '197nm@ 1750rpm', '259.88nm@ 1900-2750rpm', '580nm@ 1400-3250rpm',\n",
              "       '400 nm /2000 rpm', '127nm@ 3500rpm', '300nm@ 1500-2500rpm',\n",
              "       '132.3nm@ 4000rpm', '113nm@ 4400rpm', '153nm@ 3750-3800rpm',\n",
              "       '10.7@ 2,500(kgm@ rpm)', '78nm@ 3500rpm', '219.9nm@ 1750-2750rpm',\n",
              "       '420.7nm@ 1800-2500rpm', '113nm@ 5000rpm', '130nm@ 3000rpm',\n",
              "       '424nm@ 2000rpm', '130@ 2500(kgm@ rpm)', '99.8nm@ 2700rpm',\n",
              "       '11.2@ 4,400(kgm@ rpm)', '380nm@ 2500rpm', '240nm@ 1850rpm',\n",
              "       '16.1@ 4,200(kgm@ rpm)', '320nm@ 1750-2700rpm', '115nm@ 4500rpm',\n",
              "       '245nm@ 4000rpm', '321nm@ 1600-2400rpm', '619nm@ 1600-2400rpm',\n",
              "       '380nm@ 1750-3000rpm', '560nm@ 1500rpm', '230nm@ 1500-2250rpm',\n",
              "       '90nm@ 2650rpm', '260nm@ 1800-2200rpm', '113nm@ 4,500rpm',\n",
              "       '259.87nm@ 1500-3000rpm', '16.6@ 4,500(kgm@ rpm)',\n",
              "       '12.5@ 3,000(kgm@ rpm)', '620nm@ 1500-2500rpm',\n",
              "       '250nm@ 1500-4500rpm', '14.9@ 3,400(kgm@ rpm)',\n",
              "       '25.5@ 1,900(kgm@ rpm)', '33.7@ 1,800(kgm@ rpm)',\n",
              "       '285nm@ 2400-4000rpm', '10.7@ 2,600(kgm@ rpm)', '240nm@ 1750rpm',\n",
              "       '226nm@ 4400rpm', '510nm@ 1600-2800rpm', '155 nm at 1600-2800 rpm',\n",
              "       '240nm@ 2000rpm', '103nm@ 4500rpm', '13.5@ 4,800(kgm@ rpm)',\n",
              "       '400nm@ 1750-2750rpm', '175nm@ 1500-4100rpm', '72.9nm@ 2250rpm',\n",
              "       '135.4nm@ 2500', '245nm@ 5000rpm', '57nm@ 2500rpm',\n",
              "       '10.4@ 3,200(kgm@ rpm)', '128nm@ 3100rpm', '131nm@ 4400rpm',\n",
              "       '250nm@ 4250rpm', '96nm@ 2500rpm', '135 nm at 2500 rpm',\n",
              "       '12@ 2500(kgm@ rpm)', '12.4@ 2,600(kgm@ rpm)', '102nm@ 2600rpm',\n",
              "       '250nm@ 1000-2000rpm', '170nm@ 4200rpm', '380nm@ 1800-2800rpm',\n",
              "       '24.5@ 3,500-4,500(kgm@ rpm)', '22.9@ 1,950-4,700(kgm@ rpm)',\n",
              "       '190nm@ 2000-3000', '210 / 1900', '400nm@ 175-2750rpm',\n",
              "       '350nm@ 1500-3500rpm', '175nm@ 1750-4000rpm',\n",
              "       '115@ 2500(kgm@ rpm)', '110nm@ 4500rpm', '190nm@ 2000-3000rpm',\n",
              "       '223nm@ 1600-2200rpm', '106nm@ 2200rpm',\n",
              "       '21.4@ 1,750-4,600(kgm@ rpm)', '96nm@ 3000rpm', '600nm@ 2000rpm',\n",
              "       '23.6@ 4,250(kgm@ rpm)', '96 nm at 3000 rpm', '11.3kgm@ 4700rpm',\n",
              "       '35.7@ 1,750-3,000(kgm@ rpm)', '6@ 2,500(kgm@ rpm)',\n",
              "       '13.9 kgm at 4200 rpm', '320nm@ 1400-4100rpm', '113.8nm@ 4000rpm',\n",
              "       '110@ 3,000(kgm@ rpm)', '151nm@ 2400rpm', '200nm@ 2000-3500rpm',\n",
              "       '124.6nm@ 3500rpm', '62nm@ 2500rpm', '18@ 1,600-2,200(kgm@ rpm)',\n",
              "       '83nm@ 3000rpm', '124.5nm@ 3500rpm', '300nm@ 1600-4000rpm',\n",
              "       '21.4@ 1,900(kgm@ rpm)', '225nm@ 1500-2500rpm',\n",
              "       '190@ 21,800(kgm@ rpm)', '5.7@ 2,500(kgm@ rpm)', '88.4nm@ 4200rpm',\n",
              "       '250 nm at 1,500-3,000 rpm', '36.6@ 1,750-2,500(kgm@ rpm)',\n",
              "       '12.5kgm@ 3500rpm', '6.1@ 3,000(kgm@ rpm)', '110nm@ 4000rpm',\n",
              "       '350nm@ 1800-2600rpm', '4.8kgm@ 3000rpm', '355nm@ 4500rpm',\n",
              "       '51@ 1,750-3,000(kgm@ rpm)', '410nm@ 1600-2800rpm',\n",
              "       '174nm@ 4300rpm', '99.1nm@ 4500rpm', '385nm@ 1600-2500rpm',\n",
              "       '180 nm at 2000rpm', '190 nm at 1750 rpm', '119nm@ 4250rpm',\n",
              "       '360nm@ 1400-2600rpm', '420nm@ 2000rpm',\n",
              "       '48@ 3,000+/-500(nm@ rpm)', '17.5@ 4,300(kgm@ rpm)',\n",
              "       '145nm@ 3750rpm', '85nm@ 3500rpm', '190nm@ 4200rpm',\n",
              "       '190 nm at 2000rpm', '13.5@ 2500(kgm@ rpm)', '150nm@ 1700-4500rpm',\n",
              "       '500nm@ 2000rpm', '333nm@ 1600-3200rpm', '400nm@ 2800rpm',\n",
              "       '360nm@ 2000rpm', '170nm@ 1400-4500rpm', '10.2@ 2,600(kgm@ rpm)',\n",
              "       '190nm@ 4300rpm', '171.6nm@ 1500-4000rpm', '320nm@ 1800-2800rpm',\n",
              "       '380nm@ 1750rpm', '250.06nm@ 1500-2750rpm',\n",
              "       '436.4nm@ 1800-2500rpm', '250nm@ 1250-5000rpm'], dtype=object)"
            ]
          },
          "metadata": {},
          "execution_count": 33
        }
      ],
      "source": [
        "df['torque'].unique()"
      ]
    },
    {
      "cell_type": "code",
      "execution_count": 34,
      "metadata": {
        "id": "IK5EhkWifk9t"
      },
      "outputs": [],
      "source": [
        "df['torque'] = df['torque'].str.replace('(', '').str.replace(')', '').str.replace(',', '').str.replace(' ', '')"
      ]
    },
    {
      "cell_type": "code",
      "execution_count": 35,
      "metadata": {
        "colab": {
          "base_uri": "https://localhost:8080/"
        },
        "id": "4k2OncuwWvyy",
        "outputId": "ae9a6f7b-6b04-4708-ca26-93c2be08416d"
      },
      "outputs": [
        {
          "output_type": "execute_result",
          "data": {
            "text/plain": [
              "array(['190nm@2000rpm', '250nm@1500-2500rpm', '22.4kgmat1750-2750rpm',\n",
              "       '11.5@4500kgm@rpm', '113.75nm@4000rpm', '7.8@4500kgm@rpm',\n",
              "       '59nm@2500rpm', '170nm@1800-2400rpm', '160nm@2000rpm',\n",
              "       '248nm@2250rpm', '78nm@4500rpm', '84nm@3500rpm',\n",
              "       '115nm@3500-3600rpm', '62nm@3000rpm', '219.7nm@1500-2750rpm',\n",
              "       '200nm@1750rpm', '115nm@4000rpm', '69nm@3500rpm',\n",
              "       '172.5nm@1750rpm', '6.1kgm@3000rpm', '60nm@3500rpm',\n",
              "       '90nm@3500rpm', '151nm@4850rpm', '104nm@4000rpm',\n",
              "       '320nm@1700-2700rpm', '250nm@1750-2500rpm', '145nm@4600rpm',\n",
              "       '146nm@4800rpm', '343nm@1400-3400rpm', '200nm@1400-3400rpm',\n",
              "       '200nm@1250-4000rpm', '400nm@2000-2500rpm', '360nm@1200-3400rpm',\n",
              "       '200nm@1200-3600rpm', '380nm@1750-2500rpm', '400nm@1750-3000rpm',\n",
              "       '400nm@1400-2800rpm', '200nm@1750-3000rpm', '111.7nm@4000rpm',\n",
              "       '219.6nm@1500-2750rpm', '112nm@4000rpm', '250nm@1500-3000rpm',\n",
              "       '130nm@4000rpm', '205nm@1750-3250rpm', '280nm@1350-4600rpm',\n",
              "       '99.04nm@4500rpm', '77nm@3500rpm', '110nm@3750rpm',\n",
              "       '153nm@3800rpm', '113.7nm@4000rpm', '114nm@4000rpm',\n",
              "       '113nm@4200rpm', '290nm@1800-2800rpm', '120nm@4250rpm',\n",
              "       '250nm@1500~4500rpm', '360nm@1750-2800rpm', '135nm@2500rpm',\n",
              "       '259.8nm@1900-2750rpm', '173nm@4000rpm', '200nm@1900rpm',\n",
              "       '259.9nm@1900-2750rpm', '91nm@4250rpm', '96.1nm@3000rpm',\n",
              "       '109nm@4500rpm', '202nm@3600-5200rpm', '430nm@1750-2500rpm',\n",
              "       '382nm@1750-2250rpm', '620nm@1600-2400rpm', '400nm@1750-2500rpm',\n",
              "       '250@1250-5000rpm', '500nm@1600-1800rpm', '250nm@1600-3600rpm',\n",
              "       '400nm', '550nm@1750-2750rpm', '490nm@1600rpm', '250nmat2750rpm',\n",
              "       '170nm@1750-4000rpm', '177.5nm@4700rpm', '300nm@1200-4000rpm',\n",
              "       '300nm@1200-1400rpm', '260nm@1500-2750rpm', '213nm@4500rpm',\n",
              "       '224nm@4000rpm', '640nm@1740rpm', '114.7nm@4000rpm',\n",
              "       '113nm@4500rpm', '95nm@3000-4300rpm', '13.1kgm@4600rpm',\n",
              "       '205nm@1800-2800rpm', '71nm@3500rpm', '190nm@1750-3000rpm',\n",
              "       '146nmat4800rpm', '115nm@3200rpm', '114nm@3500rpm',\n",
              "       '320nm@1500-3000rpm', '11.4kgmat4000rpm', '140nm@1500-4000rpm',\n",
              "       '134nm@4000rpm', '150nm@4500rpm', '340nm@1800-3250rpm',\n",
              "       '240nm@1600-2800rpm', '72nm@4386rpm', '330nm@1600-2800rpm',\n",
              "       '101nm@3000rpm', '12.5@3500kgm@rpm', '110nm@4800rpm',\n",
              "       '111.8nm@4000rpm', '11.8@3200kgm@rpm', '135.4nm@2500rpm',\n",
              "       '300nm@1750-2500rpm', '190.25nm@1750-2250rpm',\n",
              "       '140nm@1800-3000rpm', '117nm@4000rpm', '20.4@1400-3400kgm@rpm',\n",
              "       '247nm@1800-2000rpm', '180nmat1440-1500rpm', '195nm@1400-2200rpm',\n",
              "       '154.9nm@4200rpm', '114.73nm@4000rpm', '160nm@1500-2750rpm',\n",
              "       '108nm@4400rpm', '190.24nm@1750-2250rpm', '420nm@1400-2600rpm',\n",
              "       '100nm@2700rpm', '51nm@4000rpm', '250nm@1250-5300rpm',\n",
              "       '132nm@3000rpm', '350nm@1500-2750rpm', '218nm@4200rpm',\n",
              "       '24@1900-2750kgm@rpm', '13.5@2500kgm@rpm', '85nm@3000rpm',\n",
              "       '160nm@1750rpm', '180.4nm@1750-2500rpm', '230nm@1500-2500rpm',\n",
              "       '219.66nm@1500-2750rpm', '245nm@1750rpm', '360nm@1400-3200rpm',\n",
              "       '320nm@2000rpm', '135nmat2500rpm', '24kgmat1900-2750rpm',\n",
              "       '204nm@2000-2750rpm', '14.3@1800-3000kgm@rpm',\n",
              "       '190nm@1750-2250rpm', '250nm@1500-2750rpm', '125nm@2000rpm',\n",
              "       '172nm@4300rpm', '150nm@1750rpm', '102nm@4000rpm', '85nm@2500rpm',\n",
              "       '8.5@2500kgm@rpm', '180nm@1440-1500rpm', '106.5nm@4400rpm',\n",
              "       '108.5nm@5000rpm', '350nm@1750-2500rpm', '144.15nm@4500rpm',\n",
              "       '104nm@4400rpm', '74.5nm@4000rpm', '200nm@2000rpm',\n",
              "       '280nm@1800-2800rpm', '142.5nm@1750rpm', '115@2500kgm@rpm',\n",
              "       '196nm@5000rpm', '9.8@3000kgm@rpm', '209nm@2000rpm',\n",
              "       '140nm@4200rpm', '220nmat1400-2600rpm', '260nmat1800-2200rpm',\n",
              "       '171nm@1800rpm', '277.5nm@1700-2200rpm', '215nm@3600rpm',\n",
              "       '195nm@1440-2200rpm', '13@2500kgm@rpm', '180nm@2000rpm',\n",
              "       '200nm@1400-2200rpm', '380nm38.7kgm@2500rpm', '110nm@4400rpm',\n",
              "       '72nm@4388rpm', '263.7nm@2500rpm', '12.7@2700kgm@rpm',\n",
              "       '320nm@1600-2800rpm', '16.3@2000kgm@rpm', '190nmat1750rpm',\n",
              "       '94.14nm@3500rpm', '12@3500kgm@rpm', '280nm@2400-2800rpm',\n",
              "       '96nm@3500rpm', '16@2000kgm@rpm', '320nm@1750-3000rpm',\n",
              "       '320nm@1750-2500rpm', '138nm@4400rpm', '99nm@4500rpm',\n",
              "       '190nm@1750rpm', '789nm@2250rpm', '259.87nm@1900-2750rpm',\n",
              "       '205nm@1750rpm', '436.39nm@1800-2500rpm', '182.5nm@1500-1800rpm',\n",
              "       '90.3nm@4200rpm', '14.9@3000kgm@rpm', '305nm@2000rpm',\n",
              "       '14.9kgmat3000rpm', '215nm@1750-3000rpm', '540nm@2000rpm',\n",
              "       '327nm@2600rpm', '300nm@1600-3000rpm', '620nm@2000-2500rpm',\n",
              "       '19@1800kgm@rpm', '9.2@4200kgm@rpm', '145@4100kgm@rpm',\n",
              "       '51nm@4000+/-500rpm', '110nm@3000rpm', '148nm@3500rpm',\n",
              "       '12.5@2500kgm@rpm', '116nm@4750rpm', '148nm@4000rpm',\n",
              "       '222nm@4300rpm', '135.3nm@5000rpm', '98nm@1600-3000rpm',\n",
              "       '343nm@1400-2800rpm', '402nm@1600-3000rpm', '113nm@3300rpm',\n",
              "       '99.07nm@4500rpm', '210nm@1600-2200rpm', '224nm@1500-2750rpm',\n",
              "       '215nm@1750-2500rpm', '25@1800-2800kgm@rpm', '136.3nm@4200rpm',\n",
              "       '470nm@1750-2500rpm', '11@3000kgm@rpm', '450nm@1600-2400rpm',\n",
              "       '140nm@4400rpm', '347nm@4300rpm', '142nm@4000rpm', '145nm@4100rpm',\n",
              "       '320nm@1500-2800rpm', '123nm@1000-2500rpm', '510@1600-2400',\n",
              "       '220nm@1500-2750rpm', '380nm@2000rpm', '104nm@3100rpm',\n",
              "       '20@3750kgm@rpm', '46.5@1400-2800kgm@rpm', '15@3800kgm@rpm',\n",
              "       '136nm@4250rpm', '228nm@4400rpm', '149nm@4500rpm', '187nm@2500rpm',\n",
              "       '146nm@3400rpm', '218nm@1400-2600rpm', '8.6@3500kgm@rpm',\n",
              "       '219.7nm@1750-2750rpm', '450nm@2000rpm', '300nm@2000rpm',\n",
              "       '230nm@1800-2000rpm', '42@2000kgm@rpm', '110nm@3000-4300rpm',\n",
              "       '330nm@1800rpm', '219.6nm@1750-2750rpm', '380nm@1750-2750rpm',\n",
              "       '28.3@1700-2200kgm@rpm', '197nm@1750rpm', '259.88nm@1900-2750rpm',\n",
              "       '580nm@1400-3250rpm', '400nm/2000rpm', '127nm@3500rpm',\n",
              "       '300nm@1500-2500rpm', '132.3nm@4000rpm', '113nm@4400rpm',\n",
              "       '153nm@3750-3800rpm', '10.7@2500kgm@rpm', '78nm@3500rpm',\n",
              "       '219.9nm@1750-2750rpm', '420.7nm@1800-2500rpm', '113nm@5000rpm',\n",
              "       '130nm@3000rpm', '424nm@2000rpm', '130@2500kgm@rpm',\n",
              "       '99.8nm@2700rpm', '11.2@4400kgm@rpm', '380nm@2500rpm',\n",
              "       '240nm@1850rpm', '16.1@4200kgm@rpm', '320nm@1750-2700rpm',\n",
              "       '115nm@4500rpm', '245nm@4000rpm', '321nm@1600-2400rpm',\n",
              "       '619nm@1600-2400rpm', '380nm@1750-3000rpm', '560nm@1500rpm',\n",
              "       '230nm@1500-2250rpm', '90nm@2650rpm', '260nm@1800-2200rpm',\n",
              "       '259.87nm@1500-3000rpm', '16.6@4500kgm@rpm', '12.5@3000kgm@rpm',\n",
              "       '620nm@1500-2500rpm', '250nm@1500-4500rpm', '14.9@3400kgm@rpm',\n",
              "       '25.5@1900kgm@rpm', '33.7@1800kgm@rpm', '285nm@2400-4000rpm',\n",
              "       '10.7@2600kgm@rpm', '240nm@1750rpm', '226nm@4400rpm',\n",
              "       '510nm@1600-2800rpm', '155nmat1600-2800rpm', '240nm@2000rpm',\n",
              "       '103nm@4500rpm', '13.5@4800kgm@rpm', '400nm@1750-2750rpm',\n",
              "       '175nm@1500-4100rpm', '72.9nm@2250rpm', '135.4nm@2500',\n",
              "       '245nm@5000rpm', '57nm@2500rpm', '10.4@3200kgm@rpm',\n",
              "       '128nm@3100rpm', '131nm@4400rpm', '250nm@4250rpm', '96nm@2500rpm',\n",
              "       '12@2500kgm@rpm', '12.4@2600kgm@rpm', '102nm@2600rpm',\n",
              "       '250nm@1000-2000rpm', '170nm@4200rpm', '380nm@1800-2800rpm',\n",
              "       '24.5@3500-4500kgm@rpm', '22.9@1950-4700kgm@rpm',\n",
              "       '190nm@2000-3000', '210/1900', '400nm@175-2750rpm',\n",
              "       '350nm@1500-3500rpm', '175nm@1750-4000rpm', '110nm@4500rpm',\n",
              "       '190nm@2000-3000rpm', '223nm@1600-2200rpm', '106nm@2200rpm',\n",
              "       '21.4@1750-4600kgm@rpm', '96nm@3000rpm', '600nm@2000rpm',\n",
              "       '23.6@4250kgm@rpm', '96nmat3000rpm', '11.3kgm@4700rpm',\n",
              "       '35.7@1750-3000kgm@rpm', '6@2500kgm@rpm', '13.9kgmat4200rpm',\n",
              "       '320nm@1400-4100rpm', '113.8nm@4000rpm', '110@3000kgm@rpm',\n",
              "       '151nm@2400rpm', '200nm@2000-3500rpm', '124.6nm@3500rpm',\n",
              "       '62nm@2500rpm', '18@1600-2200kgm@rpm', '83nm@3000rpm',\n",
              "       '124.5nm@3500rpm', '300nm@1600-4000rpm', '21.4@1900kgm@rpm',\n",
              "       '225nm@1500-2500rpm', '190@21800kgm@rpm', '5.7@2500kgm@rpm',\n",
              "       '88.4nm@4200rpm', '250nmat1500-3000rpm', '36.6@1750-2500kgm@rpm',\n",
              "       '12.5kgm@3500rpm', '6.1@3000kgm@rpm', '110nm@4000rpm',\n",
              "       '350nm@1800-2600rpm', '4.8kgm@3000rpm', '355nm@4500rpm',\n",
              "       '51@1750-3000kgm@rpm', '410nm@1600-2800rpm', '174nm@4300rpm',\n",
              "       '99.1nm@4500rpm', '385nm@1600-2500rpm', '180nmat2000rpm',\n",
              "       '119nm@4250rpm', '360nm@1400-2600rpm', '420nm@2000rpm',\n",
              "       '48@3000+/-500nm@rpm', '17.5@4300kgm@rpm', '145nm@3750rpm',\n",
              "       '85nm@3500rpm', '190nm@4200rpm', '190nmat2000rpm',\n",
              "       '150nm@1700-4500rpm', '500nm@2000rpm', '333nm@1600-3200rpm',\n",
              "       '400nm@2800rpm', '360nm@2000rpm', '170nm@1400-4500rpm',\n",
              "       '10.2@2600kgm@rpm', '190nm@4300rpm', '171.6nm@1500-4000rpm',\n",
              "       '320nm@1800-2800rpm', '380nm@1750rpm', '250.06nm@1500-2750rpm',\n",
              "       '436.4nm@1800-2500rpm', '250nm@1250-5000rpm'], dtype=object)"
            ]
          },
          "metadata": {},
          "execution_count": 35
        }
      ],
      "source": [
        "df['torque'].unique()"
      ]
    },
    {
      "cell_type": "code",
      "execution_count": 36,
      "metadata": {
        "id": "8ne1znMuGurD"
      },
      "outputs": [],
      "source": [
        "df[['torque_nm','torque_max_rpm', 'torque_del1', 'torque_del2']] = df['torque'].str.split(\"@|at|/\", expand=True)"
      ]
    },
    {
      "cell_type": "code",
      "execution_count": 37,
      "metadata": {
        "colab": {
          "base_uri": "https://localhost:8080/"
        },
        "id": "dOtbxx3jXu_t",
        "outputId": "9d9a62d3-dfb6-4102-9471-4aadef310012"
      },
      "outputs": [
        {
          "output_type": "execute_result",
          "data": {
            "text/plain": [
              "array([None, 'rpm', '-500rpm', '-500nm'], dtype=object)"
            ]
          },
          "metadata": {},
          "execution_count": 37
        }
      ],
      "source": [
        "df['torque_del1'].unique()"
      ]
    },
    {
      "cell_type": "code",
      "execution_count": 38,
      "metadata": {
        "colab": {
          "base_uri": "https://localhost:8080/"
        },
        "id": "feOTe0jXYaRP",
        "outputId": "e84063b6-427f-42c0-c627-ea5a33b17c48"
      },
      "outputs": [
        {
          "output_type": "execute_result",
          "data": {
            "text/plain": [
              "array([None, 'rpm'], dtype=object)"
            ]
          },
          "metadata": {},
          "execution_count": 38
        }
      ],
      "source": [
        "df['torque_del2'].unique()"
      ]
    },
    {
      "cell_type": "code",
      "execution_count": 39,
      "metadata": {
        "colab": {
          "base_uri": "https://localhost:8080/"
        },
        "id": "82GpqPpyaBLE",
        "outputId": "fca440a4-0518-42e9-9867-9c3b457f02e1"
      },
      "outputs": [
        {
          "output_type": "execute_result",
          "data": {
            "text/plain": [
              "array(['190nm', '250nm', '22.4kgm', '11.5', '113.75nm', '7.8', '59nm',\n",
              "       '170nm', '160nm', '248nm', '78nm', '84nm', '115nm', '62nm',\n",
              "       '219.7nm', '200nm', '69nm', '172.5nm', '6.1kgm', '60nm', '90nm',\n",
              "       '151nm', '104nm', '320nm', '145nm', '146nm', '343nm', '400nm',\n",
              "       '360nm', '380nm', '111.7nm', '219.6nm', '112nm', '130nm', '205nm',\n",
              "       '280nm', '99.04nm', '77nm', '110nm', '153nm', '113.7nm', '114nm',\n",
              "       '113nm', '290nm', '120nm', '135nm', '259.8nm', '173nm', '259.9nm',\n",
              "       '91nm', '96.1nm', '109nm', '202nm', '430nm', '382nm', '620nm',\n",
              "       '250', '500nm', '550nm', '490nm', '177.5nm', '300nm', '260nm',\n",
              "       '213nm', '224nm', '640nm', '114.7nm', '95nm', '13.1kgm', '71nm',\n",
              "       '11.4kgm', '140nm', '134nm', '150nm', '340nm', '240nm', '72nm',\n",
              "       '330nm', '101nm', '12.5', '111.8nm', '11.8', '135.4nm', '190.25nm',\n",
              "       '117nm', '20.4', '247nm', '180nm', '195nm', '154.9nm', '114.73nm',\n",
              "       '108nm', '190.24nm', '420nm', '100nm', '51nm', '132nm', '350nm',\n",
              "       '218nm', '24', '13.5', '85nm', '180.4nm', '230nm', '219.66nm',\n",
              "       '245nm', '24kgm', '204nm', '14.3', '125nm', '172nm', '102nm',\n",
              "       '8.5', '106.5nm', '108.5nm', '144.15nm', '74.5nm', '142.5nm',\n",
              "       '115', '196nm', '9.8', '209nm', '220nm', '171nm', '277.5nm',\n",
              "       '215nm', '13', '380nm38.7kgm', '263.7nm', '12.7', '16.3',\n",
              "       '94.14nm', '12', '96nm', '16', '138nm', '99nm', '789nm',\n",
              "       '259.87nm', '436.39nm', '182.5nm', '90.3nm', '14.9', '305nm',\n",
              "       '14.9kgm', '540nm', '327nm', '19', '9.2', '145', '148nm', '116nm',\n",
              "       '222nm', '135.3nm', '98nm', '402nm', '99.07nm', '210nm', '25',\n",
              "       '136.3nm', '470nm', '11', '450nm', '347nm', '142nm', '123nm',\n",
              "       '510', '20', '46.5', '15', '136nm', '228nm', '149nm', '187nm',\n",
              "       '8.6', '42', '28.3', '197nm', '259.88nm', '580nm', '127nm',\n",
              "       '132.3nm', '10.7', '219.9nm', '420.7nm', '424nm', '130', '99.8nm',\n",
              "       '11.2', '16.1', '321nm', '619nm', '560nm', '16.6', '25.5', '33.7',\n",
              "       '285nm', '226nm', '510nm', '155nm', '103nm', '175nm', '72.9nm',\n",
              "       '57nm', '10.4', '128nm', '131nm', '12.4', '24.5', '22.9', '210',\n",
              "       '223nm', '106nm', '21.4', '600nm', '23.6', '11.3kgm', '35.7', '6',\n",
              "       '13.9kgm', '113.8nm', '110', '124.6nm', '18', '83nm', '124.5nm',\n",
              "       '225nm', '190', '5.7', '88.4nm', '36.6', '12.5kgm', '6.1',\n",
              "       '4.8kgm', '355nm', '51', '410nm', '174nm', '99.1nm', '385nm',\n",
              "       '119nm', '48', '17.5', '333nm', '10.2', '171.6nm', '250.06nm',\n",
              "       '436.4nm'], dtype=object)"
            ]
          },
          "metadata": {},
          "execution_count": 39
        }
      ],
      "source": [
        "df['torque_nm'].unique()"
      ]
    },
    {
      "cell_type": "code",
      "execution_count": 40,
      "metadata": {
        "colab": {
          "base_uri": "https://localhost:8080/"
        },
        "id": "tGvO54T3IhoE",
        "outputId": "2a25c835-a5f5-4069-bc82-04007b6a91cb"
      },
      "outputs": [
        {
          "output_type": "execute_result",
          "data": {
            "text/plain": [
              "<bound method IndexOpsMixin.value_counts of 0            2000rpm\n",
              "1       1500-2500rpm\n",
              "2       1750-2750rpm\n",
              "3            4500kgm\n",
              "4            4000rpm\n",
              "            ...     \n",
              "5818         3000rpm\n",
              "5819         3500rpm\n",
              "5820         4000rpm\n",
              "5821    1900-2750kgm\n",
              "5822         2000rpm\n",
              "Name: torque_max_rpm, Length: 5823, dtype: object>"
            ]
          },
          "metadata": {},
          "execution_count": 40
        }
      ],
      "source": [
        "df['torque_max_rpm'].value_counts"
      ]
    },
    {
      "cell_type": "code",
      "execution_count": 41,
      "metadata": {
        "id": "KIOxn26mW-aN"
      },
      "outputs": [],
      "source": [
        "df['torque_nm'] = df['torque_nm'].replace(to_replace=('nm','kgm'), value= '',  regex=True).astype(float)"
      ]
    },
    {
      "cell_type": "code",
      "execution_count": 42,
      "metadata": {
        "id": "sVVx20rva8uq"
      },
      "outputs": [],
      "source": [
        "df['torque_nm'].values[610] = 38.7"
      ]
    },
    {
      "cell_type": "code",
      "execution_count": 43,
      "metadata": {
        "colab": {
          "base_uri": "https://localhost:8080/"
        },
        "id": "lSjsff3veGlh",
        "outputId": "57afb222-5e97-4622-bc97-0dfaaa095542"
      },
      "outputs": [
        {
          "output_type": "execute_result",
          "data": {
            "text/plain": [
              "torque_nm\n",
              "200.0    517\n",
              "190.0    483\n",
              "90.0     304\n",
              "114.0    196\n",
              "113.0    154\n",
              "        ... \n",
              "155.0      1\n",
              "72.9       1\n",
              "128.0      1\n",
              "131.0      1\n",
              "436.4      1\n",
              "Name: count, Length: 235, dtype: int64"
            ]
          },
          "metadata": {},
          "execution_count": 43
        }
      ],
      "source": [
        "df['torque_nm'].value_counts()"
      ]
    },
    {
      "cell_type": "code",
      "execution_count": 44,
      "metadata": {
        "colab": {
          "base_uri": "https://localhost:8080/"
        },
        "id": "VMNhCwS2ZJVT",
        "outputId": "d3267585-388a-4f7b-be06-21a7a56176fd"
      },
      "outputs": [
        {
          "output_type": "stream",
          "name": "stderr",
          "text": [
            "<ipython-input-44-59897b90421b>:1: SettingWithCopyWarning: \n",
            "A value is trying to be set on a copy of a slice from a DataFrame\n",
            "\n",
            "See the caveats in the documentation: https://pandas.pydata.org/pandas-docs/stable/user_guide/indexing.html#returning-a-view-versus-a-copy\n",
            "  df['torque_nm'].loc[df['torque'].str.contains('kgm')] = df['torque_nm'].loc[df['torque'].str.contains('kgm')] * 10\n"
          ]
        }
      ],
      "source": [
        "df['torque_nm'].loc[df['torque'].str.contains('kgm')] = df['torque_nm'].loc[df['torque'].str.contains('kgm')] * 10"
      ]
    },
    {
      "cell_type": "code",
      "execution_count": 45,
      "metadata": {
        "colab": {
          "base_uri": "https://localhost:8080/"
        },
        "id": "_le4ma7nPgVu",
        "outputId": "65603a21-0e42-412a-c84d-6343f7aa0a32"
      },
      "outputs": [
        {
          "output_type": "execute_result",
          "data": {
            "text/plain": [
              "3900    1900.0\n",
              "891     1450.0\n",
              "4069    1450.0\n",
              "3146    1450.0\n",
              "1770    1450.0\n",
              "         ...  \n",
              "4111      51.0\n",
              "5487      51.0\n",
              "4733      51.0\n",
              "4255      48.0\n",
              "4853      48.0\n",
              "Name: torque_nm, Length: 5823, dtype: float64"
            ]
          },
          "metadata": {},
          "execution_count": 45
        }
      ],
      "source": [
        "df['torque_nm'].sort_values(ascending=False)"
      ]
    },
    {
      "cell_type": "code",
      "execution_count": 46,
      "metadata": {
        "colab": {
          "base_uri": "https://localhost:8080/",
          "height": 525
        },
        "id": "XwTVU7MpTJ0k",
        "outputId": "9d0aa764-3b27-4fa7-bcc1-8648dad0993a"
      },
      "outputs": [
        {
          "output_type": "execute_result",
          "data": {
            "text/plain": [
              "                            name  year  selling_price  km_driven    fuel  \\\n",
              "0         maruti swift dzire vdi  2014         450000     145500  diesel   \n",
              "1   skoda rapid 1.5 tdi ambition  2014         370000     120000  diesel   \n",
              "2      hyundai i20 sportz diesel  2010         225000     127000  diesel   \n",
              "3         maruti swift vxi bsiii  2007         130000     120000  petrol   \n",
              "4  hyundai xcent 1.2 vtvt e plus  2017         440000      45000  petrol   \n",
              "\n",
              "  seller_type transmission         owner  mileage  engine  ...     5 6  7 8 9  \\\n",
              "0  individual       manual   first owner    23.40  1248.0  ...                  \n",
              "1  individual       manual  second owner    21.14  1498.0  ...                  \n",
              "2  individual       manual   first owner    23.00  1396.0  ...                  \n",
              "3  individual       manual   first owner    16.10  1298.0  ...                  \n",
              "4  individual       manual   first owner    20.14  1197.0  ...  plus            \n",
              "\n",
              "                 variant torque_nm torque_max_rpm torque_del1 torque_del2  \n",
              "0        dzire vdi          190.00        2000rpm        None        None  \n",
              "1  1.5 tdi ambition         250.00   1500-2500rpm        None        None  \n",
              "2    sportz diesel          224.00   1750-2750rpm        None        None  \n",
              "3        vxi bsiii          115.00        4500kgm         rpm        None  \n",
              "4    1.2 vtvt e plus        113.75        4000rpm        None        None  \n",
              "\n",
              "[5 rows x 28 columns]"
            ],
            "text/html": [
              "\n",
              "  <div id=\"df-35197a7b-18e7-4b99-a958-8df50e719f11\">\n",
              "    <div class=\"colab-df-container\">\n",
              "      <div>\n",
              "<style scoped>\n",
              "    .dataframe tbody tr th:only-of-type {\n",
              "        vertical-align: middle;\n",
              "    }\n",
              "\n",
              "    .dataframe tbody tr th {\n",
              "        vertical-align: top;\n",
              "    }\n",
              "\n",
              "    .dataframe thead th {\n",
              "        text-align: right;\n",
              "    }\n",
              "</style>\n",
              "<table border=\"1\" class=\"dataframe\">\n",
              "  <thead>\n",
              "    <tr style=\"text-align: right;\">\n",
              "      <th></th>\n",
              "      <th>name</th>\n",
              "      <th>year</th>\n",
              "      <th>selling_price</th>\n",
              "      <th>km_driven</th>\n",
              "      <th>fuel</th>\n",
              "      <th>seller_type</th>\n",
              "      <th>transmission</th>\n",
              "      <th>owner</th>\n",
              "      <th>mileage</th>\n",
              "      <th>engine</th>\n",
              "      <th>...</th>\n",
              "      <th>5</th>\n",
              "      <th>6</th>\n",
              "      <th>7</th>\n",
              "      <th>8</th>\n",
              "      <th>9</th>\n",
              "      <th>variant</th>\n",
              "      <th>torque_nm</th>\n",
              "      <th>torque_max_rpm</th>\n",
              "      <th>torque_del1</th>\n",
              "      <th>torque_del2</th>\n",
              "    </tr>\n",
              "  </thead>\n",
              "  <tbody>\n",
              "    <tr>\n",
              "      <th>0</th>\n",
              "      <td>maruti swift dzire vdi</td>\n",
              "      <td>2014</td>\n",
              "      <td>450000</td>\n",
              "      <td>145500</td>\n",
              "      <td>diesel</td>\n",
              "      <td>individual</td>\n",
              "      <td>manual</td>\n",
              "      <td>first owner</td>\n",
              "      <td>23.40</td>\n",
              "      <td>1248.0</td>\n",
              "      <td>...</td>\n",
              "      <td></td>\n",
              "      <td></td>\n",
              "      <td></td>\n",
              "      <td></td>\n",
              "      <td></td>\n",
              "      <td>dzire vdi</td>\n",
              "      <td>190.00</td>\n",
              "      <td>2000rpm</td>\n",
              "      <td>None</td>\n",
              "      <td>None</td>\n",
              "    </tr>\n",
              "    <tr>\n",
              "      <th>1</th>\n",
              "      <td>skoda rapid 1.5 tdi ambition</td>\n",
              "      <td>2014</td>\n",
              "      <td>370000</td>\n",
              "      <td>120000</td>\n",
              "      <td>diesel</td>\n",
              "      <td>individual</td>\n",
              "      <td>manual</td>\n",
              "      <td>second owner</td>\n",
              "      <td>21.14</td>\n",
              "      <td>1498.0</td>\n",
              "      <td>...</td>\n",
              "      <td></td>\n",
              "      <td></td>\n",
              "      <td></td>\n",
              "      <td></td>\n",
              "      <td></td>\n",
              "      <td>1.5 tdi ambition</td>\n",
              "      <td>250.00</td>\n",
              "      <td>1500-2500rpm</td>\n",
              "      <td>None</td>\n",
              "      <td>None</td>\n",
              "    </tr>\n",
              "    <tr>\n",
              "      <th>2</th>\n",
              "      <td>hyundai i20 sportz diesel</td>\n",
              "      <td>2010</td>\n",
              "      <td>225000</td>\n",
              "      <td>127000</td>\n",
              "      <td>diesel</td>\n",
              "      <td>individual</td>\n",
              "      <td>manual</td>\n",
              "      <td>first owner</td>\n",
              "      <td>23.00</td>\n",
              "      <td>1396.0</td>\n",
              "      <td>...</td>\n",
              "      <td></td>\n",
              "      <td></td>\n",
              "      <td></td>\n",
              "      <td></td>\n",
              "      <td></td>\n",
              "      <td>sportz diesel</td>\n",
              "      <td>224.00</td>\n",
              "      <td>1750-2750rpm</td>\n",
              "      <td>None</td>\n",
              "      <td>None</td>\n",
              "    </tr>\n",
              "    <tr>\n",
              "      <th>3</th>\n",
              "      <td>maruti swift vxi bsiii</td>\n",
              "      <td>2007</td>\n",
              "      <td>130000</td>\n",
              "      <td>120000</td>\n",
              "      <td>petrol</td>\n",
              "      <td>individual</td>\n",
              "      <td>manual</td>\n",
              "      <td>first owner</td>\n",
              "      <td>16.10</td>\n",
              "      <td>1298.0</td>\n",
              "      <td>...</td>\n",
              "      <td></td>\n",
              "      <td></td>\n",
              "      <td></td>\n",
              "      <td></td>\n",
              "      <td></td>\n",
              "      <td>vxi bsiii</td>\n",
              "      <td>115.00</td>\n",
              "      <td>4500kgm</td>\n",
              "      <td>rpm</td>\n",
              "      <td>None</td>\n",
              "    </tr>\n",
              "    <tr>\n",
              "      <th>4</th>\n",
              "      <td>hyundai xcent 1.2 vtvt e plus</td>\n",
              "      <td>2017</td>\n",
              "      <td>440000</td>\n",
              "      <td>45000</td>\n",
              "      <td>petrol</td>\n",
              "      <td>individual</td>\n",
              "      <td>manual</td>\n",
              "      <td>first owner</td>\n",
              "      <td>20.14</td>\n",
              "      <td>1197.0</td>\n",
              "      <td>...</td>\n",
              "      <td>plus</td>\n",
              "      <td></td>\n",
              "      <td></td>\n",
              "      <td></td>\n",
              "      <td></td>\n",
              "      <td>1.2 vtvt e plus</td>\n",
              "      <td>113.75</td>\n",
              "      <td>4000rpm</td>\n",
              "      <td>None</td>\n",
              "      <td>None</td>\n",
              "    </tr>\n",
              "  </tbody>\n",
              "</table>\n",
              "<p>5 rows × 28 columns</p>\n",
              "</div>\n",
              "      <button class=\"colab-df-convert\" onclick=\"convertToInteractive('df-35197a7b-18e7-4b99-a958-8df50e719f11')\"\n",
              "              title=\"Convert this dataframe to an interactive table.\"\n",
              "              style=\"display:none;\">\n",
              "        \n",
              "  <svg xmlns=\"http://www.w3.org/2000/svg\" height=\"24px\"viewBox=\"0 0 24 24\"\n",
              "       width=\"24px\">\n",
              "    <path d=\"M0 0h24v24H0V0z\" fill=\"none\"/>\n",
              "    <path d=\"M18.56 5.44l.94 2.06.94-2.06 2.06-.94-2.06-.94-.94-2.06-.94 2.06-2.06.94zm-11 1L8.5 8.5l.94-2.06 2.06-.94-2.06-.94L8.5 2.5l-.94 2.06-2.06.94zm10 10l.94 2.06.94-2.06 2.06-.94-2.06-.94-.94-2.06-.94 2.06-2.06.94z\"/><path d=\"M17.41 7.96l-1.37-1.37c-.4-.4-.92-.59-1.43-.59-.52 0-1.04.2-1.43.59L10.3 9.45l-7.72 7.72c-.78.78-.78 2.05 0 2.83L4 21.41c.39.39.9.59 1.41.59.51 0 1.02-.2 1.41-.59l7.78-7.78 2.81-2.81c.8-.78.8-2.07 0-2.86zM5.41 20L4 18.59l7.72-7.72 1.47 1.35L5.41 20z\"/>\n",
              "  </svg>\n",
              "      </button>\n",
              "      \n",
              "  <style>\n",
              "    .colab-df-container {\n",
              "      display:flex;\n",
              "      flex-wrap:wrap;\n",
              "      gap: 12px;\n",
              "    }\n",
              "\n",
              "    .colab-df-convert {\n",
              "      background-color: #E8F0FE;\n",
              "      border: none;\n",
              "      border-radius: 50%;\n",
              "      cursor: pointer;\n",
              "      display: none;\n",
              "      fill: #1967D2;\n",
              "      height: 32px;\n",
              "      padding: 0 0 0 0;\n",
              "      width: 32px;\n",
              "    }\n",
              "\n",
              "    .colab-df-convert:hover {\n",
              "      background-color: #E2EBFA;\n",
              "      box-shadow: 0px 1px 2px rgba(60, 64, 67, 0.3), 0px 1px 3px 1px rgba(60, 64, 67, 0.15);\n",
              "      fill: #174EA6;\n",
              "    }\n",
              "\n",
              "    [theme=dark] .colab-df-convert {\n",
              "      background-color: #3B4455;\n",
              "      fill: #D2E3FC;\n",
              "    }\n",
              "\n",
              "    [theme=dark] .colab-df-convert:hover {\n",
              "      background-color: #434B5C;\n",
              "      box-shadow: 0px 1px 3px 1px rgba(0, 0, 0, 0.15);\n",
              "      filter: drop-shadow(0px 1px 2px rgba(0, 0, 0, 0.3));\n",
              "      fill: #FFFFFF;\n",
              "    }\n",
              "  </style>\n",
              "\n",
              "      <script>\n",
              "        const buttonEl =\n",
              "          document.querySelector('#df-35197a7b-18e7-4b99-a958-8df50e719f11 button.colab-df-convert');\n",
              "        buttonEl.style.display =\n",
              "          google.colab.kernel.accessAllowed ? 'block' : 'none';\n",
              "\n",
              "        async function convertToInteractive(key) {\n",
              "          const element = document.querySelector('#df-35197a7b-18e7-4b99-a958-8df50e719f11');\n",
              "          const dataTable =\n",
              "            await google.colab.kernel.invokeFunction('convertToInteractive',\n",
              "                                                     [key], {});\n",
              "          if (!dataTable) return;\n",
              "\n",
              "          const docLinkHtml = 'Like what you see? Visit the ' +\n",
              "            '<a target=\"_blank\" href=https://colab.research.google.com/notebooks/data_table.ipynb>data table notebook</a>'\n",
              "            + ' to learn more about interactive tables.';\n",
              "          element.innerHTML = '';\n",
              "          dataTable['output_type'] = 'display_data';\n",
              "          await google.colab.output.renderOutput(dataTable, element);\n",
              "          const docLink = document.createElement('div');\n",
              "          docLink.innerHTML = docLinkHtml;\n",
              "          element.appendChild(docLink);\n",
              "        }\n",
              "      </script>\n",
              "    </div>\n",
              "  </div>\n",
              "  "
            ]
          },
          "metadata": {},
          "execution_count": 46
        }
      ],
      "source": [
        "df.head()"
      ]
    },
    {
      "cell_type": "code",
      "execution_count": 47,
      "metadata": {
        "colab": {
          "base_uri": "https://localhost:8080/"
        },
        "id": "Zbiogo0fTT7w",
        "outputId": "0e72eda5-e178-4773-dc13-1cd7e29f03c8"
      },
      "outputs": [
        {
          "output_type": "execute_result",
          "data": {
            "text/plain": [
              "array([None, 'rpm', '-500rpm', '-500nm'], dtype=object)"
            ]
          },
          "metadata": {},
          "execution_count": 47
        }
      ],
      "source": [
        "df['torque_del1'].unique()"
      ]
    },
    {
      "cell_type": "code",
      "execution_count": 48,
      "metadata": {
        "colab": {
          "base_uri": "https://localhost:8080/"
        },
        "id": "WNRgpmrDTbtF",
        "outputId": "3b8f52ac-9fa1-49a4-ad84-69d5a7078d34"
      },
      "outputs": [
        {
          "output_type": "execute_result",
          "data": {
            "text/plain": [
              "array(['2000rpm', '1500-2500rpm', '1750-2750rpm', '4500kgm', '4000rpm',\n",
              "       '2500rpm', '1800-2400rpm', '2250rpm', '4500rpm', '3500rpm',\n",
              "       '3500-3600rpm', '3000rpm', '1500-2750rpm', '1750rpm', '4850rpm',\n",
              "       '1700-2700rpm', '1750-2500rpm', '4600rpm', '4800rpm',\n",
              "       '1400-3400rpm', '1250-4000rpm', '2000-2500rpm', '1200-3400rpm',\n",
              "       '1200-3600rpm', '1750-3000rpm', '1400-2800rpm', '1500-3000rpm',\n",
              "       '1750-3250rpm', '1350-4600rpm', '3750rpm', '3800rpm', '4200rpm',\n",
              "       '1800-2800rpm', '4250rpm', '1500~4500rpm', '1750-2800rpm',\n",
              "       '1900-2750rpm', '1900rpm', '3600-5200rpm', '1750-2250rpm',\n",
              "       '1600-2400rpm', '1250-5000rpm', '1600-1800rpm', '1600-3600rpm',\n",
              "       None, '1600rpm', '2750rpm', '1750-4000rpm', '4700rpm',\n",
              "       '1200-4000rpm', '1200-1400rpm', '1740rpm', '3000-4300rpm',\n",
              "       '3200rpm', '1500-4000rpm', '1800-3250rpm', '1600-2800rpm',\n",
              "       '4386rpm', '3500kgm', '3200kgm', '1800-3000rpm', '1400-3400kgm',\n",
              "       '1800-2000rpm', '1440-1500rpm', '1400-2200rpm', '4400rpm',\n",
              "       '1400-2600rpm', '2700rpm', '1250-5300rpm', '1900-2750kgm',\n",
              "       '2500kgm', '1400-3200rpm', '2000-2750rpm', '1800-3000kgm',\n",
              "       '4300rpm', '5000rpm', '3000kgm', '1800-2200rpm', '1800rpm',\n",
              "       '1700-2200rpm', '3600rpm', '1440-2200rpm', '4388rpm', '2700kgm',\n",
              "       '2000kgm', '2400-2800rpm', '1800-2500rpm', '1500-1800rpm',\n",
              "       '2600rpm', '1600-3000rpm', '1800kgm', '4200kgm', '4100kgm',\n",
              "       '4000+', '4750rpm', '3300rpm', '1600-2200rpm', '1800-2800kgm',\n",
              "       '4100rpm', '1500-2800rpm', '1000-2500rpm', '1600-2400', '3100rpm',\n",
              "       '3750kgm', '1400-2800kgm', '3800kgm', '3400rpm', '1700-2200kgm',\n",
              "       '1400-3250rpm', '3750-3800rpm', '4400kgm', '1850rpm',\n",
              "       '1750-2700rpm', '1500rpm', '1500-2250rpm', '2650rpm',\n",
              "       '1500-4500rpm', '3400kgm', '1900kgm', '2400-4000rpm', '2600kgm',\n",
              "       '4800kgm', '1500-4100rpm', '2500', '1000-2000rpm', '3500-4500kgm',\n",
              "       '1950-4700kgm', '2000-3000', '1900', '175-2750rpm', '1500-3500rpm',\n",
              "       '2000-3000rpm', '2200rpm', '1750-4600kgm', '4250kgm',\n",
              "       '1750-3000kgm', '1400-4100rpm', '2400rpm', '2000-3500rpm',\n",
              "       '1600-2200kgm', '1600-4000rpm', '21800kgm', '1750-2500kgm',\n",
              "       '1800-2600rpm', '1600-2500rpm', '3000+', '4300kgm', '1700-4500rpm',\n",
              "       '1600-3200rpm', '2800rpm', '1400-4500rpm'], dtype=object)"
            ]
          },
          "metadata": {},
          "execution_count": 48
        }
      ],
      "source": [
        "df['torque_max_rpm'].unique()"
      ]
    },
    {
      "cell_type": "code",
      "execution_count": 49,
      "metadata": {
        "id": "UGoN8m3PUiHg"
      },
      "outputs": [],
      "source": [
        "df['torque_max_rpm'] = df['torque_max_rpm'].str.replace('(', '').str.replace(')', '').str.replace('kgm', '').str.replace('rpm', '')"
      ]
    },
    {
      "cell_type": "code",
      "execution_count": 50,
      "metadata": {
        "id": "-7Jgj0bSVdcL"
      },
      "outputs": [],
      "source": [
        "df['torque_max_rpm'] = df['torque_max_rpm'].str[-5:]\n"
      ]
    },
    {
      "cell_type": "code",
      "execution_count": 51,
      "metadata": {
        "colab": {
          "base_uri": "https://localhost:8080/"
        },
        "id": "IME-FDOJVlZa",
        "outputId": "1aed2f6f-4690-4276-a58b-d263bd84c183"
      },
      "outputs": [
        {
          "output_type": "execute_result",
          "data": {
            "text/plain": [
              "array(['2000', '-2500', '-2750', '4500', '4000', '2500', '-2400', '2250',\n",
              "       '3500', '-3600', '3000', '1750', '4850', '-2700', '4600', '4800',\n",
              "       '-3400', '-4000', '-3000', '-2800', '-3250', '-4600', '3750',\n",
              "       '3800', '4200', '4250', '~4500', '1900', '-5200', '-2250', '-5000',\n",
              "       '-1800', None, '1600', '2750', '4700', '-1400', '1740', '-4300',\n",
              "       '3200', '4386', '-2000', '-1500', '-2200', '4400', '-2600', '2700',\n",
              "       '-5300', '-3200', '4300', '5000', '1800', '3600', '4388', '2600',\n",
              "       '4100', '4000+', '4750', '3300', '3100', '3400', '-3800', '1850',\n",
              "       '1500', '2650', '-4500', '-4100', '-4700', '-3500', '2200', '2400',\n",
              "       '21800', '3000+', '2800'], dtype=object)"
            ]
          },
          "metadata": {},
          "execution_count": 51
        }
      ],
      "source": [
        "df['torque_max_rpm'].unique()"
      ]
    },
    {
      "cell_type": "code",
      "execution_count": 52,
      "metadata": {
        "id": "2guwhgkZbZHF"
      },
      "outputs": [],
      "source": [
        "df['torque_max_rpm'] = df['torque_max_rpm'].str.replace('-', '').str.replace('~', '').str.replace('+', '')"
      ]
    },
    {
      "cell_type": "code",
      "execution_count": 53,
      "metadata": {
        "colab": {
          "base_uri": "https://localhost:8080/"
        },
        "id": "6BxEyiJrfoXi",
        "outputId": "68fb93b4-4f96-4fff-a2e7-cea1edaca491"
      },
      "outputs": [
        {
          "output_type": "execute_result",
          "data": {
            "text/plain": [
              "torque_max_rpm\n",
              "4000     757\n",
              "2000     686\n",
              "3500     592\n",
              "3000     513\n",
              "2500     466\n",
              "1750     444\n",
              "2750     358\n",
              "2800     324\n",
              "4200     197\n",
              "4500     185\n",
              "2200     143\n",
              "3400     139\n",
              "2700      90\n",
              "2250      87\n",
              "4800      76\n",
              "1500      66\n",
              "4250      62\n",
              "4386      60\n",
              "4400      56\n",
              "3250      56\n",
              "2400      52\n",
              "4600      51\n",
              "3600      48\n",
              "1900      46\n",
              "2600      44\n",
              "1800      38\n",
              "4300      30\n",
              "4100      25\n",
              "5000      22\n",
              "3750      20\n",
              "3200      19\n",
              "4850      19\n",
              "3800      15\n",
              "4700       8\n",
              "4750       7\n",
              "3100       6\n",
              "3300       3\n",
              "1400       2\n",
              "1850       1\n",
              "2650       1\n",
              "5200       1\n",
              "4388       1\n",
              "5300       1\n",
              "1740       1\n",
              "1600       1\n",
              "21800      1\n",
              "Name: count, dtype: int64"
            ]
          },
          "metadata": {},
          "execution_count": 53
        }
      ],
      "source": [
        "df['torque_max_rpm'].value_counts()"
      ]
    },
    {
      "cell_type": "code",
      "execution_count": 54,
      "metadata": {
        "colab": {
          "base_uri": "https://localhost:8080/",
          "height": 525
        },
        "id": "an9v-oQ7hk2I",
        "outputId": "a07c4dfd-e32c-485f-b509-9d68348e5a4c"
      },
      "outputs": [
        {
          "output_type": "execute_result",
          "data": {
            "text/plain": [
              "                            name  year  selling_price  km_driven    fuel  \\\n",
              "0         maruti swift dzire vdi  2014         450000     145500  diesel   \n",
              "1   skoda rapid 1.5 tdi ambition  2014         370000     120000  diesel   \n",
              "2      hyundai i20 sportz diesel  2010         225000     127000  diesel   \n",
              "3         maruti swift vxi bsiii  2007         130000     120000  petrol   \n",
              "4  hyundai xcent 1.2 vtvt e plus  2017         440000      45000  petrol   \n",
              "\n",
              "  seller_type transmission         owner  mileage  engine  ...     5 6  7 8 9  \\\n",
              "0  individual       manual   first owner    23.40  1248.0  ...                  \n",
              "1  individual       manual  second owner    21.14  1498.0  ...                  \n",
              "2  individual       manual   first owner    23.00  1396.0  ...                  \n",
              "3  individual       manual   first owner    16.10  1298.0  ...                  \n",
              "4  individual       manual   first owner    20.14  1197.0  ...  plus            \n",
              "\n",
              "                 variant torque_nm torque_max_rpm torque_del1 torque_del2  \n",
              "0        dzire vdi          190.00           2000        None        None  \n",
              "1  1.5 tdi ambition         250.00           2500        None        None  \n",
              "2    sportz diesel          224.00           2750        None        None  \n",
              "3        vxi bsiii          115.00           4500         rpm        None  \n",
              "4    1.2 vtvt e plus        113.75           4000        None        None  \n",
              "\n",
              "[5 rows x 28 columns]"
            ],
            "text/html": [
              "\n",
              "  <div id=\"df-8d4ffa61-50e3-4722-8e16-c0ea65865cc0\">\n",
              "    <div class=\"colab-df-container\">\n",
              "      <div>\n",
              "<style scoped>\n",
              "    .dataframe tbody tr th:only-of-type {\n",
              "        vertical-align: middle;\n",
              "    }\n",
              "\n",
              "    .dataframe tbody tr th {\n",
              "        vertical-align: top;\n",
              "    }\n",
              "\n",
              "    .dataframe thead th {\n",
              "        text-align: right;\n",
              "    }\n",
              "</style>\n",
              "<table border=\"1\" class=\"dataframe\">\n",
              "  <thead>\n",
              "    <tr style=\"text-align: right;\">\n",
              "      <th></th>\n",
              "      <th>name</th>\n",
              "      <th>year</th>\n",
              "      <th>selling_price</th>\n",
              "      <th>km_driven</th>\n",
              "      <th>fuel</th>\n",
              "      <th>seller_type</th>\n",
              "      <th>transmission</th>\n",
              "      <th>owner</th>\n",
              "      <th>mileage</th>\n",
              "      <th>engine</th>\n",
              "      <th>...</th>\n",
              "      <th>5</th>\n",
              "      <th>6</th>\n",
              "      <th>7</th>\n",
              "      <th>8</th>\n",
              "      <th>9</th>\n",
              "      <th>variant</th>\n",
              "      <th>torque_nm</th>\n",
              "      <th>torque_max_rpm</th>\n",
              "      <th>torque_del1</th>\n",
              "      <th>torque_del2</th>\n",
              "    </tr>\n",
              "  </thead>\n",
              "  <tbody>\n",
              "    <tr>\n",
              "      <th>0</th>\n",
              "      <td>maruti swift dzire vdi</td>\n",
              "      <td>2014</td>\n",
              "      <td>450000</td>\n",
              "      <td>145500</td>\n",
              "      <td>diesel</td>\n",
              "      <td>individual</td>\n",
              "      <td>manual</td>\n",
              "      <td>first owner</td>\n",
              "      <td>23.40</td>\n",
              "      <td>1248.0</td>\n",
              "      <td>...</td>\n",
              "      <td></td>\n",
              "      <td></td>\n",
              "      <td></td>\n",
              "      <td></td>\n",
              "      <td></td>\n",
              "      <td>dzire vdi</td>\n",
              "      <td>190.00</td>\n",
              "      <td>2000</td>\n",
              "      <td>None</td>\n",
              "      <td>None</td>\n",
              "    </tr>\n",
              "    <tr>\n",
              "      <th>1</th>\n",
              "      <td>skoda rapid 1.5 tdi ambition</td>\n",
              "      <td>2014</td>\n",
              "      <td>370000</td>\n",
              "      <td>120000</td>\n",
              "      <td>diesel</td>\n",
              "      <td>individual</td>\n",
              "      <td>manual</td>\n",
              "      <td>second owner</td>\n",
              "      <td>21.14</td>\n",
              "      <td>1498.0</td>\n",
              "      <td>...</td>\n",
              "      <td></td>\n",
              "      <td></td>\n",
              "      <td></td>\n",
              "      <td></td>\n",
              "      <td></td>\n",
              "      <td>1.5 tdi ambition</td>\n",
              "      <td>250.00</td>\n",
              "      <td>2500</td>\n",
              "      <td>None</td>\n",
              "      <td>None</td>\n",
              "    </tr>\n",
              "    <tr>\n",
              "      <th>2</th>\n",
              "      <td>hyundai i20 sportz diesel</td>\n",
              "      <td>2010</td>\n",
              "      <td>225000</td>\n",
              "      <td>127000</td>\n",
              "      <td>diesel</td>\n",
              "      <td>individual</td>\n",
              "      <td>manual</td>\n",
              "      <td>first owner</td>\n",
              "      <td>23.00</td>\n",
              "      <td>1396.0</td>\n",
              "      <td>...</td>\n",
              "      <td></td>\n",
              "      <td></td>\n",
              "      <td></td>\n",
              "      <td></td>\n",
              "      <td></td>\n",
              "      <td>sportz diesel</td>\n",
              "      <td>224.00</td>\n",
              "      <td>2750</td>\n",
              "      <td>None</td>\n",
              "      <td>None</td>\n",
              "    </tr>\n",
              "    <tr>\n",
              "      <th>3</th>\n",
              "      <td>maruti swift vxi bsiii</td>\n",
              "      <td>2007</td>\n",
              "      <td>130000</td>\n",
              "      <td>120000</td>\n",
              "      <td>petrol</td>\n",
              "      <td>individual</td>\n",
              "      <td>manual</td>\n",
              "      <td>first owner</td>\n",
              "      <td>16.10</td>\n",
              "      <td>1298.0</td>\n",
              "      <td>...</td>\n",
              "      <td></td>\n",
              "      <td></td>\n",
              "      <td></td>\n",
              "      <td></td>\n",
              "      <td></td>\n",
              "      <td>vxi bsiii</td>\n",
              "      <td>115.00</td>\n",
              "      <td>4500</td>\n",
              "      <td>rpm</td>\n",
              "      <td>None</td>\n",
              "    </tr>\n",
              "    <tr>\n",
              "      <th>4</th>\n",
              "      <td>hyundai xcent 1.2 vtvt e plus</td>\n",
              "      <td>2017</td>\n",
              "      <td>440000</td>\n",
              "      <td>45000</td>\n",
              "      <td>petrol</td>\n",
              "      <td>individual</td>\n",
              "      <td>manual</td>\n",
              "      <td>first owner</td>\n",
              "      <td>20.14</td>\n",
              "      <td>1197.0</td>\n",
              "      <td>...</td>\n",
              "      <td>plus</td>\n",
              "      <td></td>\n",
              "      <td></td>\n",
              "      <td></td>\n",
              "      <td></td>\n",
              "      <td>1.2 vtvt e plus</td>\n",
              "      <td>113.75</td>\n",
              "      <td>4000</td>\n",
              "      <td>None</td>\n",
              "      <td>None</td>\n",
              "    </tr>\n",
              "  </tbody>\n",
              "</table>\n",
              "<p>5 rows × 28 columns</p>\n",
              "</div>\n",
              "      <button class=\"colab-df-convert\" onclick=\"convertToInteractive('df-8d4ffa61-50e3-4722-8e16-c0ea65865cc0')\"\n",
              "              title=\"Convert this dataframe to an interactive table.\"\n",
              "              style=\"display:none;\">\n",
              "        \n",
              "  <svg xmlns=\"http://www.w3.org/2000/svg\" height=\"24px\"viewBox=\"0 0 24 24\"\n",
              "       width=\"24px\">\n",
              "    <path d=\"M0 0h24v24H0V0z\" fill=\"none\"/>\n",
              "    <path d=\"M18.56 5.44l.94 2.06.94-2.06 2.06-.94-2.06-.94-.94-2.06-.94 2.06-2.06.94zm-11 1L8.5 8.5l.94-2.06 2.06-.94-2.06-.94L8.5 2.5l-.94 2.06-2.06.94zm10 10l.94 2.06.94-2.06 2.06-.94-2.06-.94-.94-2.06-.94 2.06-2.06.94z\"/><path d=\"M17.41 7.96l-1.37-1.37c-.4-.4-.92-.59-1.43-.59-.52 0-1.04.2-1.43.59L10.3 9.45l-7.72 7.72c-.78.78-.78 2.05 0 2.83L4 21.41c.39.39.9.59 1.41.59.51 0 1.02-.2 1.41-.59l7.78-7.78 2.81-2.81c.8-.78.8-2.07 0-2.86zM5.41 20L4 18.59l7.72-7.72 1.47 1.35L5.41 20z\"/>\n",
              "  </svg>\n",
              "      </button>\n",
              "      \n",
              "  <style>\n",
              "    .colab-df-container {\n",
              "      display:flex;\n",
              "      flex-wrap:wrap;\n",
              "      gap: 12px;\n",
              "    }\n",
              "\n",
              "    .colab-df-convert {\n",
              "      background-color: #E8F0FE;\n",
              "      border: none;\n",
              "      border-radius: 50%;\n",
              "      cursor: pointer;\n",
              "      display: none;\n",
              "      fill: #1967D2;\n",
              "      height: 32px;\n",
              "      padding: 0 0 0 0;\n",
              "      width: 32px;\n",
              "    }\n",
              "\n",
              "    .colab-df-convert:hover {\n",
              "      background-color: #E2EBFA;\n",
              "      box-shadow: 0px 1px 2px rgba(60, 64, 67, 0.3), 0px 1px 3px 1px rgba(60, 64, 67, 0.15);\n",
              "      fill: #174EA6;\n",
              "    }\n",
              "\n",
              "    [theme=dark] .colab-df-convert {\n",
              "      background-color: #3B4455;\n",
              "      fill: #D2E3FC;\n",
              "    }\n",
              "\n",
              "    [theme=dark] .colab-df-convert:hover {\n",
              "      background-color: #434B5C;\n",
              "      box-shadow: 0px 1px 3px 1px rgba(0, 0, 0, 0.15);\n",
              "      filter: drop-shadow(0px 1px 2px rgba(0, 0, 0, 0.3));\n",
              "      fill: #FFFFFF;\n",
              "    }\n",
              "  </style>\n",
              "\n",
              "      <script>\n",
              "        const buttonEl =\n",
              "          document.querySelector('#df-8d4ffa61-50e3-4722-8e16-c0ea65865cc0 button.colab-df-convert');\n",
              "        buttonEl.style.display =\n",
              "          google.colab.kernel.accessAllowed ? 'block' : 'none';\n",
              "\n",
              "        async function convertToInteractive(key) {\n",
              "          const element = document.querySelector('#df-8d4ffa61-50e3-4722-8e16-c0ea65865cc0');\n",
              "          const dataTable =\n",
              "            await google.colab.kernel.invokeFunction('convertToInteractive',\n",
              "                                                     [key], {});\n",
              "          if (!dataTable) return;\n",
              "\n",
              "          const docLinkHtml = 'Like what you see? Visit the ' +\n",
              "            '<a target=\"_blank\" href=https://colab.research.google.com/notebooks/data_table.ipynb>data table notebook</a>'\n",
              "            + ' to learn more about interactive tables.';\n",
              "          element.innerHTML = '';\n",
              "          dataTable['output_type'] = 'display_data';\n",
              "          await google.colab.output.renderOutput(dataTable, element);\n",
              "          const docLink = document.createElement('div');\n",
              "          docLink.innerHTML = docLinkHtml;\n",
              "          element.appendChild(docLink);\n",
              "        }\n",
              "      </script>\n",
              "    </div>\n",
              "  </div>\n",
              "  "
            ]
          },
          "metadata": {},
          "execution_count": 54
        }
      ],
      "source": [
        "df.head()"
      ]
    },
    {
      "cell_type": "code",
      "execution_count": 55,
      "metadata": {
        "id": "2qfAPElIh7sw"
      },
      "outputs": [],
      "source": [
        "df.drop(['name', '2', '3', '4', '5', '6', '7', '8', '9','torque', 'torque_del1','torque_del2'], axis= 1 , inplace= True )"
      ]
    },
    {
      "cell_type": "code",
      "execution_count": 56,
      "metadata": {
        "id": "KYuEmis8Zm-p"
      },
      "outputs": [],
      "source": [
        "df = df.dropna(axis = 0, how ='any')"
      ]
    },
    {
      "cell_type": "code",
      "execution_count": 57,
      "metadata": {
        "id": "9rFcCZC5Z9o1"
      },
      "outputs": [],
      "source": [
        "df = df.reset_index(drop = True)"
      ]
    },
    {
      "cell_type": "code",
      "execution_count": 58,
      "metadata": {
        "id": "GswOD92YRL9a"
      },
      "outputs": [],
      "source": [
        "df['torque_max_rpm'] = df['torque_max_rpm'].astype(int)"
      ]
    },
    {
      "cell_type": "code",
      "execution_count": 59,
      "metadata": {
        "colab": {
          "base_uri": "https://localhost:8080/"
        },
        "id": "R9xQth3BgotS",
        "outputId": "1094e08e-1143-4d22-f597-7c42a71a8bf2"
      },
      "outputs": [
        {
          "output_type": "stream",
          "name": "stdout",
          "text": [
            "<class 'pandas.core.frame.DataFrame'>\n",
            "RangeIndex: 5820 entries, 0 to 5819\n",
            "Data columns (total 16 columns):\n",
            " #   Column          Non-Null Count  Dtype  \n",
            "---  ------          --------------  -----  \n",
            " 0   year            5820 non-null   int64  \n",
            " 1   selling_price   5820 non-null   int64  \n",
            " 2   km_driven       5820 non-null   int64  \n",
            " 3   fuel            5820 non-null   object \n",
            " 4   seller_type     5820 non-null   object \n",
            " 5   transmission    5820 non-null   object \n",
            " 6   owner           5820 non-null   object \n",
            " 7   mileage         5820 non-null   float64\n",
            " 8   engine          5820 non-null   float64\n",
            " 9   max_power       5820 non-null   float64\n",
            " 10  seats           5820 non-null   float64\n",
            " 11  brand           5820 non-null   object \n",
            " 12  model           5820 non-null   object \n",
            " 13  variant         5820 non-null   object \n",
            " 14  torque_nm       5820 non-null   float64\n",
            " 15  torque_max_rpm  5820 non-null   int64  \n",
            "dtypes: float64(5), int64(4), object(7)\n",
            "memory usage: 727.6+ KB\n"
          ]
        }
      ],
      "source": [
        "df.info()"
      ]
    },
    {
      "cell_type": "code",
      "execution_count": 60,
      "metadata": {
        "colab": {
          "base_uri": "https://localhost:8080/",
          "height": 731
        },
        "id": "-p32ZjfZkyTG",
        "outputId": "01bb1097-51ee-4f3e-d780-cdda51494d58"
      },
      "outputs": [
        {
          "output_type": "execute_result",
          "data": {
            "text/plain": [
              "      year  selling_price  km_driven    fuel seller_type transmission  \\\n",
              "4114  1997          29999      80000  petrol  individual       manual   \n",
              "1631  2001          30000      10000  petrol  individual       manual   \n",
              "1447  2004          31504     110000  petrol  individual       manual   \n",
              "1725  2007          35000      10000  petrol  individual       manual   \n",
              "5741  1998          35000      40000  petrol  individual       manual   \n",
              "...    ...            ...        ...     ...         ...          ...   \n",
              "3439  2018        6000000      27000  diesel      dealer    automatic   \n",
              "3558  2019        6223000       7800  petrol      dealer    automatic   \n",
              "3560  2019        6523000      23600  petrol      dealer    automatic   \n",
              "2240  2020        7200000       5000  diesel  individual    automatic   \n",
              "144   2017       10000000      30000  petrol  individual    automatic   \n",
              "\n",
              "               owner  mileage  engine  max_power  seats       brand model  \\\n",
              "4114     third owner    16.10   796.0      37.00    4.0  maruti 800   800   \n",
              "1631     first owner    17.30   993.0      60.00    5.0  maruti zen   zen   \n",
              "1447     third owner    16.10   796.0      37.00    4.0  maruti 800   800   \n",
              "1725     first owner    16.10   796.0      37.00    4.0  maruti 800   800   \n",
              "5741    second owner    16.10   796.0      37.00    4.0  maruti 800   800   \n",
              "...              ...      ...     ...        ...    ...         ...   ...   \n",
              "3439     first owner    17.09  2993.0     261.40    4.0       bmw 6     6   \n",
              "3558  test drive car    15.26  1798.0     187.74    5.0     audi a6    a6   \n",
              "3560  test drive car    15.26  1798.0     187.74    5.0     audi a6    a6   \n",
              "2240     first owner    13.38  2993.0     265.00    7.0      bmw x7    x7   \n",
              "144      first owner    42.00  1969.0     400.00    4.0  volvo xc90  xc90   \n",
              "\n",
              "                            variant  torque_nm  torque_max_rpm  \n",
              "4114                      ac              59.0            2500  \n",
              "1631                     lxi              78.0            4500  \n",
              "1447                     std              59.0            2500  \n",
              "1725                      ac              59.0            2500  \n",
              "5741                      ac              59.0            2500  \n",
              "...                             ...        ...             ...  \n",
              "3439  series gt 630d luxury line         620.0            2500  \n",
              "3558            35 tfsi matrix           320.0            4100  \n",
              "3560            35 tfsi matrix           320.0            4100  \n",
              "2240            xdrive 30d dpe           620.0            2500  \n",
              "144         t8 excellence bsiv           640.0            1740  \n",
              "\n",
              "[5820 rows x 16 columns]"
            ],
            "text/html": [
              "\n",
              "  <div id=\"df-bbf5f746-9340-443b-be1c-52a306e76e15\">\n",
              "    <div class=\"colab-df-container\">\n",
              "      <div>\n",
              "<style scoped>\n",
              "    .dataframe tbody tr th:only-of-type {\n",
              "        vertical-align: middle;\n",
              "    }\n",
              "\n",
              "    .dataframe tbody tr th {\n",
              "        vertical-align: top;\n",
              "    }\n",
              "\n",
              "    .dataframe thead th {\n",
              "        text-align: right;\n",
              "    }\n",
              "</style>\n",
              "<table border=\"1\" class=\"dataframe\">\n",
              "  <thead>\n",
              "    <tr style=\"text-align: right;\">\n",
              "      <th></th>\n",
              "      <th>year</th>\n",
              "      <th>selling_price</th>\n",
              "      <th>km_driven</th>\n",
              "      <th>fuel</th>\n",
              "      <th>seller_type</th>\n",
              "      <th>transmission</th>\n",
              "      <th>owner</th>\n",
              "      <th>mileage</th>\n",
              "      <th>engine</th>\n",
              "      <th>max_power</th>\n",
              "      <th>seats</th>\n",
              "      <th>brand</th>\n",
              "      <th>model</th>\n",
              "      <th>variant</th>\n",
              "      <th>torque_nm</th>\n",
              "      <th>torque_max_rpm</th>\n",
              "    </tr>\n",
              "  </thead>\n",
              "  <tbody>\n",
              "    <tr>\n",
              "      <th>4114</th>\n",
              "      <td>1997</td>\n",
              "      <td>29999</td>\n",
              "      <td>80000</td>\n",
              "      <td>petrol</td>\n",
              "      <td>individual</td>\n",
              "      <td>manual</td>\n",
              "      <td>third owner</td>\n",
              "      <td>16.10</td>\n",
              "      <td>796.0</td>\n",
              "      <td>37.00</td>\n",
              "      <td>4.0</td>\n",
              "      <td>maruti 800</td>\n",
              "      <td>800</td>\n",
              "      <td>ac</td>\n",
              "      <td>59.0</td>\n",
              "      <td>2500</td>\n",
              "    </tr>\n",
              "    <tr>\n",
              "      <th>1631</th>\n",
              "      <td>2001</td>\n",
              "      <td>30000</td>\n",
              "      <td>10000</td>\n",
              "      <td>petrol</td>\n",
              "      <td>individual</td>\n",
              "      <td>manual</td>\n",
              "      <td>first owner</td>\n",
              "      <td>17.30</td>\n",
              "      <td>993.0</td>\n",
              "      <td>60.00</td>\n",
              "      <td>5.0</td>\n",
              "      <td>maruti zen</td>\n",
              "      <td>zen</td>\n",
              "      <td>lxi</td>\n",
              "      <td>78.0</td>\n",
              "      <td>4500</td>\n",
              "    </tr>\n",
              "    <tr>\n",
              "      <th>1447</th>\n",
              "      <td>2004</td>\n",
              "      <td>31504</td>\n",
              "      <td>110000</td>\n",
              "      <td>petrol</td>\n",
              "      <td>individual</td>\n",
              "      <td>manual</td>\n",
              "      <td>third owner</td>\n",
              "      <td>16.10</td>\n",
              "      <td>796.0</td>\n",
              "      <td>37.00</td>\n",
              "      <td>4.0</td>\n",
              "      <td>maruti 800</td>\n",
              "      <td>800</td>\n",
              "      <td>std</td>\n",
              "      <td>59.0</td>\n",
              "      <td>2500</td>\n",
              "    </tr>\n",
              "    <tr>\n",
              "      <th>1725</th>\n",
              "      <td>2007</td>\n",
              "      <td>35000</td>\n",
              "      <td>10000</td>\n",
              "      <td>petrol</td>\n",
              "      <td>individual</td>\n",
              "      <td>manual</td>\n",
              "      <td>first owner</td>\n",
              "      <td>16.10</td>\n",
              "      <td>796.0</td>\n",
              "      <td>37.00</td>\n",
              "      <td>4.0</td>\n",
              "      <td>maruti 800</td>\n",
              "      <td>800</td>\n",
              "      <td>ac</td>\n",
              "      <td>59.0</td>\n",
              "      <td>2500</td>\n",
              "    </tr>\n",
              "    <tr>\n",
              "      <th>5741</th>\n",
              "      <td>1998</td>\n",
              "      <td>35000</td>\n",
              "      <td>40000</td>\n",
              "      <td>petrol</td>\n",
              "      <td>individual</td>\n",
              "      <td>manual</td>\n",
              "      <td>second owner</td>\n",
              "      <td>16.10</td>\n",
              "      <td>796.0</td>\n",
              "      <td>37.00</td>\n",
              "      <td>4.0</td>\n",
              "      <td>maruti 800</td>\n",
              "      <td>800</td>\n",
              "      <td>ac</td>\n",
              "      <td>59.0</td>\n",
              "      <td>2500</td>\n",
              "    </tr>\n",
              "    <tr>\n",
              "      <th>...</th>\n",
              "      <td>...</td>\n",
              "      <td>...</td>\n",
              "      <td>...</td>\n",
              "      <td>...</td>\n",
              "      <td>...</td>\n",
              "      <td>...</td>\n",
              "      <td>...</td>\n",
              "      <td>...</td>\n",
              "      <td>...</td>\n",
              "      <td>...</td>\n",
              "      <td>...</td>\n",
              "      <td>...</td>\n",
              "      <td>...</td>\n",
              "      <td>...</td>\n",
              "      <td>...</td>\n",
              "      <td>...</td>\n",
              "    </tr>\n",
              "    <tr>\n",
              "      <th>3439</th>\n",
              "      <td>2018</td>\n",
              "      <td>6000000</td>\n",
              "      <td>27000</td>\n",
              "      <td>diesel</td>\n",
              "      <td>dealer</td>\n",
              "      <td>automatic</td>\n",
              "      <td>first owner</td>\n",
              "      <td>17.09</td>\n",
              "      <td>2993.0</td>\n",
              "      <td>261.40</td>\n",
              "      <td>4.0</td>\n",
              "      <td>bmw 6</td>\n",
              "      <td>6</td>\n",
              "      <td>series gt 630d luxury line</td>\n",
              "      <td>620.0</td>\n",
              "      <td>2500</td>\n",
              "    </tr>\n",
              "    <tr>\n",
              "      <th>3558</th>\n",
              "      <td>2019</td>\n",
              "      <td>6223000</td>\n",
              "      <td>7800</td>\n",
              "      <td>petrol</td>\n",
              "      <td>dealer</td>\n",
              "      <td>automatic</td>\n",
              "      <td>test drive car</td>\n",
              "      <td>15.26</td>\n",
              "      <td>1798.0</td>\n",
              "      <td>187.74</td>\n",
              "      <td>5.0</td>\n",
              "      <td>audi a6</td>\n",
              "      <td>a6</td>\n",
              "      <td>35 tfsi matrix</td>\n",
              "      <td>320.0</td>\n",
              "      <td>4100</td>\n",
              "    </tr>\n",
              "    <tr>\n",
              "      <th>3560</th>\n",
              "      <td>2019</td>\n",
              "      <td>6523000</td>\n",
              "      <td>23600</td>\n",
              "      <td>petrol</td>\n",
              "      <td>dealer</td>\n",
              "      <td>automatic</td>\n",
              "      <td>test drive car</td>\n",
              "      <td>15.26</td>\n",
              "      <td>1798.0</td>\n",
              "      <td>187.74</td>\n",
              "      <td>5.0</td>\n",
              "      <td>audi a6</td>\n",
              "      <td>a6</td>\n",
              "      <td>35 tfsi matrix</td>\n",
              "      <td>320.0</td>\n",
              "      <td>4100</td>\n",
              "    </tr>\n",
              "    <tr>\n",
              "      <th>2240</th>\n",
              "      <td>2020</td>\n",
              "      <td>7200000</td>\n",
              "      <td>5000</td>\n",
              "      <td>diesel</td>\n",
              "      <td>individual</td>\n",
              "      <td>automatic</td>\n",
              "      <td>first owner</td>\n",
              "      <td>13.38</td>\n",
              "      <td>2993.0</td>\n",
              "      <td>265.00</td>\n",
              "      <td>7.0</td>\n",
              "      <td>bmw x7</td>\n",
              "      <td>x7</td>\n",
              "      <td>xdrive 30d dpe</td>\n",
              "      <td>620.0</td>\n",
              "      <td>2500</td>\n",
              "    </tr>\n",
              "    <tr>\n",
              "      <th>144</th>\n",
              "      <td>2017</td>\n",
              "      <td>10000000</td>\n",
              "      <td>30000</td>\n",
              "      <td>petrol</td>\n",
              "      <td>individual</td>\n",
              "      <td>automatic</td>\n",
              "      <td>first owner</td>\n",
              "      <td>42.00</td>\n",
              "      <td>1969.0</td>\n",
              "      <td>400.00</td>\n",
              "      <td>4.0</td>\n",
              "      <td>volvo xc90</td>\n",
              "      <td>xc90</td>\n",
              "      <td>t8 excellence bsiv</td>\n",
              "      <td>640.0</td>\n",
              "      <td>1740</td>\n",
              "    </tr>\n",
              "  </tbody>\n",
              "</table>\n",
              "<p>5820 rows × 16 columns</p>\n",
              "</div>\n",
              "      <button class=\"colab-df-convert\" onclick=\"convertToInteractive('df-bbf5f746-9340-443b-be1c-52a306e76e15')\"\n",
              "              title=\"Convert this dataframe to an interactive table.\"\n",
              "              style=\"display:none;\">\n",
              "        \n",
              "  <svg xmlns=\"http://www.w3.org/2000/svg\" height=\"24px\"viewBox=\"0 0 24 24\"\n",
              "       width=\"24px\">\n",
              "    <path d=\"M0 0h24v24H0V0z\" fill=\"none\"/>\n",
              "    <path d=\"M18.56 5.44l.94 2.06.94-2.06 2.06-.94-2.06-.94-.94-2.06-.94 2.06-2.06.94zm-11 1L8.5 8.5l.94-2.06 2.06-.94-2.06-.94L8.5 2.5l-.94 2.06-2.06.94zm10 10l.94 2.06.94-2.06 2.06-.94-2.06-.94-.94-2.06-.94 2.06-2.06.94z\"/><path d=\"M17.41 7.96l-1.37-1.37c-.4-.4-.92-.59-1.43-.59-.52 0-1.04.2-1.43.59L10.3 9.45l-7.72 7.72c-.78.78-.78 2.05 0 2.83L4 21.41c.39.39.9.59 1.41.59.51 0 1.02-.2 1.41-.59l7.78-7.78 2.81-2.81c.8-.78.8-2.07 0-2.86zM5.41 20L4 18.59l7.72-7.72 1.47 1.35L5.41 20z\"/>\n",
              "  </svg>\n",
              "      </button>\n",
              "      \n",
              "  <style>\n",
              "    .colab-df-container {\n",
              "      display:flex;\n",
              "      flex-wrap:wrap;\n",
              "      gap: 12px;\n",
              "    }\n",
              "\n",
              "    .colab-df-convert {\n",
              "      background-color: #E8F0FE;\n",
              "      border: none;\n",
              "      border-radius: 50%;\n",
              "      cursor: pointer;\n",
              "      display: none;\n",
              "      fill: #1967D2;\n",
              "      height: 32px;\n",
              "      padding: 0 0 0 0;\n",
              "      width: 32px;\n",
              "    }\n",
              "\n",
              "    .colab-df-convert:hover {\n",
              "      background-color: #E2EBFA;\n",
              "      box-shadow: 0px 1px 2px rgba(60, 64, 67, 0.3), 0px 1px 3px 1px rgba(60, 64, 67, 0.15);\n",
              "      fill: #174EA6;\n",
              "    }\n",
              "\n",
              "    [theme=dark] .colab-df-convert {\n",
              "      background-color: #3B4455;\n",
              "      fill: #D2E3FC;\n",
              "    }\n",
              "\n",
              "    [theme=dark] .colab-df-convert:hover {\n",
              "      background-color: #434B5C;\n",
              "      box-shadow: 0px 1px 3px 1px rgba(0, 0, 0, 0.15);\n",
              "      filter: drop-shadow(0px 1px 2px rgba(0, 0, 0, 0.3));\n",
              "      fill: #FFFFFF;\n",
              "    }\n",
              "  </style>\n",
              "\n",
              "      <script>\n",
              "        const buttonEl =\n",
              "          document.querySelector('#df-bbf5f746-9340-443b-be1c-52a306e76e15 button.colab-df-convert');\n",
              "        buttonEl.style.display =\n",
              "          google.colab.kernel.accessAllowed ? 'block' : 'none';\n",
              "\n",
              "        async function convertToInteractive(key) {\n",
              "          const element = document.querySelector('#df-bbf5f746-9340-443b-be1c-52a306e76e15');\n",
              "          const dataTable =\n",
              "            await google.colab.kernel.invokeFunction('convertToInteractive',\n",
              "                                                     [key], {});\n",
              "          if (!dataTable) return;\n",
              "\n",
              "          const docLinkHtml = 'Like what you see? Visit the ' +\n",
              "            '<a target=\"_blank\" href=https://colab.research.google.com/notebooks/data_table.ipynb>data table notebook</a>'\n",
              "            + ' to learn more about interactive tables.';\n",
              "          element.innerHTML = '';\n",
              "          dataTable['output_type'] = 'display_data';\n",
              "          await google.colab.output.renderOutput(dataTable, element);\n",
              "          const docLink = document.createElement('div');\n",
              "          docLink.innerHTML = docLinkHtml;\n",
              "          element.appendChild(docLink);\n",
              "        }\n",
              "      </script>\n",
              "    </div>\n",
              "  </div>\n",
              "  "
            ]
          },
          "metadata": {},
          "execution_count": 60
        }
      ],
      "source": [
        "df.sort_values(by = ['selling_price'])"
      ]
    },
    {
      "cell_type": "code",
      "execution_count": 61,
      "metadata": {
        "colab": {
          "base_uri": "https://localhost:8080/"
        },
        "id": "oad72mZja6Vg",
        "outputId": "e3e6b299-8859-40e8-fb69-d2b6198434d3"
      },
      "outputs": [
        {
          "output_type": "execute_result",
          "data": {
            "text/plain": [
              "array(['maruti swift', 'skoda rapid', 'hyundai i20', 'hyundai xcent',\n",
              "       'maruti wagon', 'maruti 800', 'toyota etios', 'ford figo',\n",
              "       'renault duster', 'maruti zen', 'mahindra kuv', 'maruti alto',\n",
              "       'mahindra verito', 'honda wr-v', 'maruti sx4', 'maruti baleno',\n",
              "       'chevrolet enjoy', 'maruti omni', 'maruti vitara', 'hyundai verna',\n",
              "       'datsun go', 'tata safari', 'jeep compass', 'honda city',\n",
              "       'toyota fortuner', 'toyota innova', 'mercedes-benz b',\n",
              "       'honda amaze', 'mitsubishi pajero', 'honda jazz', 'audi a6',\n",
              "       'mercedes-benz new', 'tata manza', 'hyundai i10',\n",
              "       'volkswagen ameo', 'maruti ertiga', 'volkswagen vento',\n",
              "       'ford ecosport', 'bmw x1', 'maruti celerio', 'volkswagen polo',\n",
              "       'mahindra scorpio', 'ford freestyle', 'volkswagen passat',\n",
              "       'mahindra xuv500', 'tata indigo', 'toyota corolla',\n",
              "       'nissan terrano', 'hyundai creta', 'renault kwid',\n",
              "       'hyundai santro', 'audi q5', 'lexus es', 'jaguar xf',\n",
              "       'land-rover discovery', 'mercedes-benz s-class', 'bmw 5', 'bmw x4',\n",
              "       'skoda superb', 'mercedes-benz e-class', 'mg hector', 'audi q7',\n",
              "       'maruti ciaz', 'jaguar xe', 'tata nexon', 'hyundai elantra',\n",
              "       'mercedes-benz cla', 'toyota glanza', 'bmw 3', 'toyota camry',\n",
              "       'volvo xc90', 'maruti ritz', 'hyundai grand', 'daewoo matiz',\n",
              "       'tata zest', 'hyundai getz', 'tata tigor', 'tata hexa',\n",
              "       'nissan sunny', 'mahindra ssangyong', 'mahindra quanto',\n",
              "       'maruti eeco', 'hyundai accent', 'tata indica', 'maruti ignis',\n",
              "       'mahindra marazzo', 'tata tiago', 'hyundai elite', 'mahindra thar',\n",
              "       'honda brio', 'mahindra bolero', 'mercedes-benz gl-class',\n",
              "       'chevrolet beat', 'nissan micra', 'maruti a-star', 'tata nano',\n",
              "       'volkswagen gti', 'volvo v40', 'honda cr-v', 'datsun redigo',\n",
              "       'chevrolet captiva', 'ford fiesta', 'kia seltos', 'honda civic',\n",
              "       'tata new', 'chevrolet sail', 'tata venture', 'ford classic',\n",
              "       'honda br-v', 'hyundai eon', 'tata aria', 'tata sumo',\n",
              "       'mahindra tuv', 'tata bolt', 'honda accord', 'fiat grande',\n",
              "       'maruti s-cross', 'toyota yaris', 'mahindra xylo',\n",
              "       'chevrolet tavera', 'fiat linea', 'ford endeavour',\n",
              "       'chevrolet aveo', 'renault triber', 'ford fusion', 'skoda octavia',\n",
              "       'audi a4', 'maruti xl6', 'hyundai santa', 'chevrolet spark',\n",
              "       'chevrolet optra', 'honda mobilio', 'honda brv', 'bmw x6',\n",
              "       'chevrolet cruze', 'mercedes-benz gla', 'bmw 6', 'renault lodgy',\n",
              "       'renault pulse', 'mahindra supro', 'mahindra renault',\n",
              "       'jeep wrangler', 'nissan kicks', 'mahindra nuvosport',\n",
              "       'volkswagen jetta', 'mercedes-benz m-class', 'ford aspire',\n",
              "       'nissan teana', 'skoda yeti', 'audi q3', 'force gurkha',\n",
              "       'mahindra logan', 'audi a3', 'land-rover freelander',\n",
              "       'mahindra xuv300', 'maruti dzire', 'ford ikon', 'renault fluence',\n",
              "       'tata xenon', 'force one', 'bmw 7', 'volvo s60',\n",
              "       'mitsubishi lancer', 'bmw x7', 'skoda fabia', 'toyota platinum',\n",
              "       'renault captur', 'maruti gypsy', 'renault koleos',\n",
              "       'ambassador classic', 'tata harrier', 'fiat avventura',\n",
              "       'skoda laura', 'hyundai sonata', 'fiat punto', 'isuzu mux',\n",
              "       'hyundai tucson', 'maruti esteem', 'tata winger', 'toyota qualis',\n",
              "       'tata spacio', 'volkswagen crosspolo', 'isuzu d-max', 'bmw x3',\n",
              "       'toyota land', 'land-rover range', 'chevrolet trailblazer',\n",
              "       'isuzu mu', 'mercedes-benz glc', 'hyundai venue', 'renault scala',\n",
              "       'ambassador grand', 'maruti s-presso'], dtype=object)"
            ]
          },
          "metadata": {},
          "execution_count": 61
        }
      ],
      "source": [
        "df['brand'].unique()"
      ]
    },
    {
      "cell_type": "code",
      "execution_count": 62,
      "metadata": {
        "colab": {
          "base_uri": "https://localhost:8080/"
        },
        "id": "nTgxEUr4-cks",
        "outputId": "5fb8d4fb-edf9-434e-ea49-47abebb2047e"
      },
      "outputs": [
        {
          "output_type": "execute_result",
          "data": {
            "text/plain": [
              "brand\n",
              "maruti swift            544\n",
              "maruti alto             337\n",
              "hyundai i20             253\n",
              "maruti wagon            215\n",
              "toyota innova           162\n",
              "                       ... \n",
              "volvo xc90                1\n",
              "mercedes-benz cla         1\n",
              "land-rover discovery      1\n",
              "lexus es                  1\n",
              "maruti s-presso           1\n",
              "Name: count, Length: 193, dtype: int64"
            ]
          },
          "metadata": {},
          "execution_count": 62
        }
      ],
      "source": [
        "df['brand'].value_counts()"
      ]
    },
    {
      "cell_type": "code",
      "execution_count": 63,
      "metadata": {
        "id": "Ja1-_iB4-TcE"
      },
      "outputs": [],
      "source": [
        "vc = df['brand'].value_counts()"
      ]
    },
    {
      "cell_type": "code",
      "execution_count": 64,
      "metadata": {
        "id": "zb20TBQ0FmCm"
      },
      "outputs": [],
      "source": [
        "vc = vc[vc.between(3,1000)].index.to_list()"
      ]
    },
    {
      "cell_type": "code",
      "execution_count": 65,
      "metadata": {
        "id": "ThXzmE53H4H2"
      },
      "outputs": [],
      "source": [
        "df = df[df['brand'].isin(vc)]"
      ]
    },
    {
      "cell_type": "code",
      "execution_count": 66,
      "metadata": {
        "id": "PD5d5lGap5Kw"
      },
      "outputs": [],
      "source": [
        "df = df.reset_index(drop = True)"
      ]
    },
    {
      "cell_type": "code",
      "execution_count": 67,
      "metadata": {
        "colab": {
          "base_uri": "https://localhost:8080/"
        },
        "id": "PHf6mP2oHl33",
        "outputId": "47789e4c-b339-41c4-d595-1cf1e47d1146"
      },
      "outputs": [
        {
          "output_type": "execute_result",
          "data": {
            "text/plain": [
              "brand\n",
              "maruti swift          544\n",
              "maruti alto           337\n",
              "hyundai i20           253\n",
              "maruti wagon          215\n",
              "toyota innova         162\n",
              "                     ... \n",
              "mahindra nuvosport      3\n",
              "nissan kicks            3\n",
              "kia seltos              3\n",
              "tata venture            3\n",
              "skoda superb            3\n",
              "Name: count, Length: 153, dtype: int64"
            ]
          },
          "metadata": {},
          "execution_count": 67
        }
      ],
      "source": [
        "df['brand'].value_counts()"
      ]
    },
    {
      "cell_type": "code",
      "execution_count": 68,
      "metadata": {
        "colab": {
          "base_uri": "https://localhost:8080/",
          "height": 696
        },
        "id": "_XDnveZVzkf7",
        "outputId": "45e05468-9665-4dd0-8f7f-acee037d3b50"
      },
      "outputs": [
        {
          "output_type": "execute_result",
          "data": {
            "text/plain": [
              "      year  selling_price  km_driven    fuel seller_type transmission  \\\n",
              "0     2014         450000     145500  diesel  individual       manual   \n",
              "1     2014         370000     120000  diesel  individual       manual   \n",
              "2     2010         225000     127000  diesel  individual       manual   \n",
              "3     2007         130000     120000  petrol  individual       manual   \n",
              "4     2017         440000      45000  petrol  individual       manual   \n",
              "...    ...            ...        ...     ...         ...          ...   \n",
              "5761  2008         120000     191000  petrol  individual       manual   \n",
              "5762  2013         260000      50000  petrol  individual       manual   \n",
              "5763  2013         320000     110000  petrol  individual       manual   \n",
              "5764  2007         135000     119000  diesel  individual       manual   \n",
              "5765  2009         382000     120000  diesel  individual       manual   \n",
              "\n",
              "                     owner  mileage  engine  max_power  seats           brand  \\\n",
              "0              first owner    23.40  1248.0      74.00    5.0    maruti swift   \n",
              "1             second owner    21.14  1498.0     103.52    5.0     skoda rapid   \n",
              "2              first owner    23.00  1396.0      90.00    5.0     hyundai i20   \n",
              "3              first owner    16.10  1298.0      88.20    5.0    maruti swift   \n",
              "4              first owner    20.14  1197.0      81.86    5.0   hyundai xcent   \n",
              "...                    ...      ...     ...        ...    ...             ...   \n",
              "5761           first owner    17.92  1086.0      62.10    5.0  hyundai santro   \n",
              "5762          second owner    18.90   998.0      67.10    5.0    maruti wagon   \n",
              "5763           first owner    18.50  1197.0      82.85    5.0     hyundai i20   \n",
              "5764  fourth & above owner    16.80  1493.0     110.00    5.0   hyundai verna   \n",
              "5765           first owner    19.30  1248.0      73.90    5.0    maruti swift   \n",
              "\n",
              "       model                 variant  torque_nm  torque_max_rpm  \n",
              "0      swift         dzire vdi           190.00            2000  \n",
              "1      rapid   1.5 tdi ambition          250.00            2500  \n",
              "2        i20     sportz diesel           224.00            2750  \n",
              "3      swift         vxi bsiii           115.00            4500  \n",
              "4      xcent     1.2 vtvt e plus         113.75            4000  \n",
              "...      ...                     ...        ...             ...  \n",
              "5761  santro          xing gls            96.10            3000  \n",
              "5762   wagon  r vxi bs iv with abs        90.00            3500  \n",
              "5763     i20            magna            113.70            4000  \n",
              "5764   verna           crdi sx           240.00            2750  \n",
              "5765   swift         dzire zdi           190.00            2000  \n",
              "\n",
              "[5766 rows x 16 columns]"
            ],
            "text/html": [
              "\n",
              "  <div id=\"df-a90ae90d-fb74-4a67-b5c6-5760ee94d979\">\n",
              "    <div class=\"colab-df-container\">\n",
              "      <div>\n",
              "<style scoped>\n",
              "    .dataframe tbody tr th:only-of-type {\n",
              "        vertical-align: middle;\n",
              "    }\n",
              "\n",
              "    .dataframe tbody tr th {\n",
              "        vertical-align: top;\n",
              "    }\n",
              "\n",
              "    .dataframe thead th {\n",
              "        text-align: right;\n",
              "    }\n",
              "</style>\n",
              "<table border=\"1\" class=\"dataframe\">\n",
              "  <thead>\n",
              "    <tr style=\"text-align: right;\">\n",
              "      <th></th>\n",
              "      <th>year</th>\n",
              "      <th>selling_price</th>\n",
              "      <th>km_driven</th>\n",
              "      <th>fuel</th>\n",
              "      <th>seller_type</th>\n",
              "      <th>transmission</th>\n",
              "      <th>owner</th>\n",
              "      <th>mileage</th>\n",
              "      <th>engine</th>\n",
              "      <th>max_power</th>\n",
              "      <th>seats</th>\n",
              "      <th>brand</th>\n",
              "      <th>model</th>\n",
              "      <th>variant</th>\n",
              "      <th>torque_nm</th>\n",
              "      <th>torque_max_rpm</th>\n",
              "    </tr>\n",
              "  </thead>\n",
              "  <tbody>\n",
              "    <tr>\n",
              "      <th>0</th>\n",
              "      <td>2014</td>\n",
              "      <td>450000</td>\n",
              "      <td>145500</td>\n",
              "      <td>diesel</td>\n",
              "      <td>individual</td>\n",
              "      <td>manual</td>\n",
              "      <td>first owner</td>\n",
              "      <td>23.40</td>\n",
              "      <td>1248.0</td>\n",
              "      <td>74.00</td>\n",
              "      <td>5.0</td>\n",
              "      <td>maruti swift</td>\n",
              "      <td>swift</td>\n",
              "      <td>dzire vdi</td>\n",
              "      <td>190.00</td>\n",
              "      <td>2000</td>\n",
              "    </tr>\n",
              "    <tr>\n",
              "      <th>1</th>\n",
              "      <td>2014</td>\n",
              "      <td>370000</td>\n",
              "      <td>120000</td>\n",
              "      <td>diesel</td>\n",
              "      <td>individual</td>\n",
              "      <td>manual</td>\n",
              "      <td>second owner</td>\n",
              "      <td>21.14</td>\n",
              "      <td>1498.0</td>\n",
              "      <td>103.52</td>\n",
              "      <td>5.0</td>\n",
              "      <td>skoda rapid</td>\n",
              "      <td>rapid</td>\n",
              "      <td>1.5 tdi ambition</td>\n",
              "      <td>250.00</td>\n",
              "      <td>2500</td>\n",
              "    </tr>\n",
              "    <tr>\n",
              "      <th>2</th>\n",
              "      <td>2010</td>\n",
              "      <td>225000</td>\n",
              "      <td>127000</td>\n",
              "      <td>diesel</td>\n",
              "      <td>individual</td>\n",
              "      <td>manual</td>\n",
              "      <td>first owner</td>\n",
              "      <td>23.00</td>\n",
              "      <td>1396.0</td>\n",
              "      <td>90.00</td>\n",
              "      <td>5.0</td>\n",
              "      <td>hyundai i20</td>\n",
              "      <td>i20</td>\n",
              "      <td>sportz diesel</td>\n",
              "      <td>224.00</td>\n",
              "      <td>2750</td>\n",
              "    </tr>\n",
              "    <tr>\n",
              "      <th>3</th>\n",
              "      <td>2007</td>\n",
              "      <td>130000</td>\n",
              "      <td>120000</td>\n",
              "      <td>petrol</td>\n",
              "      <td>individual</td>\n",
              "      <td>manual</td>\n",
              "      <td>first owner</td>\n",
              "      <td>16.10</td>\n",
              "      <td>1298.0</td>\n",
              "      <td>88.20</td>\n",
              "      <td>5.0</td>\n",
              "      <td>maruti swift</td>\n",
              "      <td>swift</td>\n",
              "      <td>vxi bsiii</td>\n",
              "      <td>115.00</td>\n",
              "      <td>4500</td>\n",
              "    </tr>\n",
              "    <tr>\n",
              "      <th>4</th>\n",
              "      <td>2017</td>\n",
              "      <td>440000</td>\n",
              "      <td>45000</td>\n",
              "      <td>petrol</td>\n",
              "      <td>individual</td>\n",
              "      <td>manual</td>\n",
              "      <td>first owner</td>\n",
              "      <td>20.14</td>\n",
              "      <td>1197.0</td>\n",
              "      <td>81.86</td>\n",
              "      <td>5.0</td>\n",
              "      <td>hyundai xcent</td>\n",
              "      <td>xcent</td>\n",
              "      <td>1.2 vtvt e plus</td>\n",
              "      <td>113.75</td>\n",
              "      <td>4000</td>\n",
              "    </tr>\n",
              "    <tr>\n",
              "      <th>...</th>\n",
              "      <td>...</td>\n",
              "      <td>...</td>\n",
              "      <td>...</td>\n",
              "      <td>...</td>\n",
              "      <td>...</td>\n",
              "      <td>...</td>\n",
              "      <td>...</td>\n",
              "      <td>...</td>\n",
              "      <td>...</td>\n",
              "      <td>...</td>\n",
              "      <td>...</td>\n",
              "      <td>...</td>\n",
              "      <td>...</td>\n",
              "      <td>...</td>\n",
              "      <td>...</td>\n",
              "      <td>...</td>\n",
              "    </tr>\n",
              "    <tr>\n",
              "      <th>5761</th>\n",
              "      <td>2008</td>\n",
              "      <td>120000</td>\n",
              "      <td>191000</td>\n",
              "      <td>petrol</td>\n",
              "      <td>individual</td>\n",
              "      <td>manual</td>\n",
              "      <td>first owner</td>\n",
              "      <td>17.92</td>\n",
              "      <td>1086.0</td>\n",
              "      <td>62.10</td>\n",
              "      <td>5.0</td>\n",
              "      <td>hyundai santro</td>\n",
              "      <td>santro</td>\n",
              "      <td>xing gls</td>\n",
              "      <td>96.10</td>\n",
              "      <td>3000</td>\n",
              "    </tr>\n",
              "    <tr>\n",
              "      <th>5762</th>\n",
              "      <td>2013</td>\n",
              "      <td>260000</td>\n",
              "      <td>50000</td>\n",
              "      <td>petrol</td>\n",
              "      <td>individual</td>\n",
              "      <td>manual</td>\n",
              "      <td>second owner</td>\n",
              "      <td>18.90</td>\n",
              "      <td>998.0</td>\n",
              "      <td>67.10</td>\n",
              "      <td>5.0</td>\n",
              "      <td>maruti wagon</td>\n",
              "      <td>wagon</td>\n",
              "      <td>r vxi bs iv with abs</td>\n",
              "      <td>90.00</td>\n",
              "      <td>3500</td>\n",
              "    </tr>\n",
              "    <tr>\n",
              "      <th>5763</th>\n",
              "      <td>2013</td>\n",
              "      <td>320000</td>\n",
              "      <td>110000</td>\n",
              "      <td>petrol</td>\n",
              "      <td>individual</td>\n",
              "      <td>manual</td>\n",
              "      <td>first owner</td>\n",
              "      <td>18.50</td>\n",
              "      <td>1197.0</td>\n",
              "      <td>82.85</td>\n",
              "      <td>5.0</td>\n",
              "      <td>hyundai i20</td>\n",
              "      <td>i20</td>\n",
              "      <td>magna</td>\n",
              "      <td>113.70</td>\n",
              "      <td>4000</td>\n",
              "    </tr>\n",
              "    <tr>\n",
              "      <th>5764</th>\n",
              "      <td>2007</td>\n",
              "      <td>135000</td>\n",
              "      <td>119000</td>\n",
              "      <td>diesel</td>\n",
              "      <td>individual</td>\n",
              "      <td>manual</td>\n",
              "      <td>fourth &amp; above owner</td>\n",
              "      <td>16.80</td>\n",
              "      <td>1493.0</td>\n",
              "      <td>110.00</td>\n",
              "      <td>5.0</td>\n",
              "      <td>hyundai verna</td>\n",
              "      <td>verna</td>\n",
              "      <td>crdi sx</td>\n",
              "      <td>240.00</td>\n",
              "      <td>2750</td>\n",
              "    </tr>\n",
              "    <tr>\n",
              "      <th>5765</th>\n",
              "      <td>2009</td>\n",
              "      <td>382000</td>\n",
              "      <td>120000</td>\n",
              "      <td>diesel</td>\n",
              "      <td>individual</td>\n",
              "      <td>manual</td>\n",
              "      <td>first owner</td>\n",
              "      <td>19.30</td>\n",
              "      <td>1248.0</td>\n",
              "      <td>73.90</td>\n",
              "      <td>5.0</td>\n",
              "      <td>maruti swift</td>\n",
              "      <td>swift</td>\n",
              "      <td>dzire zdi</td>\n",
              "      <td>190.00</td>\n",
              "      <td>2000</td>\n",
              "    </tr>\n",
              "  </tbody>\n",
              "</table>\n",
              "<p>5766 rows × 16 columns</p>\n",
              "</div>\n",
              "      <button class=\"colab-df-convert\" onclick=\"convertToInteractive('df-a90ae90d-fb74-4a67-b5c6-5760ee94d979')\"\n",
              "              title=\"Convert this dataframe to an interactive table.\"\n",
              "              style=\"display:none;\">\n",
              "        \n",
              "  <svg xmlns=\"http://www.w3.org/2000/svg\" height=\"24px\"viewBox=\"0 0 24 24\"\n",
              "       width=\"24px\">\n",
              "    <path d=\"M0 0h24v24H0V0z\" fill=\"none\"/>\n",
              "    <path d=\"M18.56 5.44l.94 2.06.94-2.06 2.06-.94-2.06-.94-.94-2.06-.94 2.06-2.06.94zm-11 1L8.5 8.5l.94-2.06 2.06-.94-2.06-.94L8.5 2.5l-.94 2.06-2.06.94zm10 10l.94 2.06.94-2.06 2.06-.94-2.06-.94-.94-2.06-.94 2.06-2.06.94z\"/><path d=\"M17.41 7.96l-1.37-1.37c-.4-.4-.92-.59-1.43-.59-.52 0-1.04.2-1.43.59L10.3 9.45l-7.72 7.72c-.78.78-.78 2.05 0 2.83L4 21.41c.39.39.9.59 1.41.59.51 0 1.02-.2 1.41-.59l7.78-7.78 2.81-2.81c.8-.78.8-2.07 0-2.86zM5.41 20L4 18.59l7.72-7.72 1.47 1.35L5.41 20z\"/>\n",
              "  </svg>\n",
              "      </button>\n",
              "      \n",
              "  <style>\n",
              "    .colab-df-container {\n",
              "      display:flex;\n",
              "      flex-wrap:wrap;\n",
              "      gap: 12px;\n",
              "    }\n",
              "\n",
              "    .colab-df-convert {\n",
              "      background-color: #E8F0FE;\n",
              "      border: none;\n",
              "      border-radius: 50%;\n",
              "      cursor: pointer;\n",
              "      display: none;\n",
              "      fill: #1967D2;\n",
              "      height: 32px;\n",
              "      padding: 0 0 0 0;\n",
              "      width: 32px;\n",
              "    }\n",
              "\n",
              "    .colab-df-convert:hover {\n",
              "      background-color: #E2EBFA;\n",
              "      box-shadow: 0px 1px 2px rgba(60, 64, 67, 0.3), 0px 1px 3px 1px rgba(60, 64, 67, 0.15);\n",
              "      fill: #174EA6;\n",
              "    }\n",
              "\n",
              "    [theme=dark] .colab-df-convert {\n",
              "      background-color: #3B4455;\n",
              "      fill: #D2E3FC;\n",
              "    }\n",
              "\n",
              "    [theme=dark] .colab-df-convert:hover {\n",
              "      background-color: #434B5C;\n",
              "      box-shadow: 0px 1px 3px 1px rgba(0, 0, 0, 0.15);\n",
              "      filter: drop-shadow(0px 1px 2px rgba(0, 0, 0, 0.3));\n",
              "      fill: #FFFFFF;\n",
              "    }\n",
              "  </style>\n",
              "\n",
              "      <script>\n",
              "        const buttonEl =\n",
              "          document.querySelector('#df-a90ae90d-fb74-4a67-b5c6-5760ee94d979 button.colab-df-convert');\n",
              "        buttonEl.style.display =\n",
              "          google.colab.kernel.accessAllowed ? 'block' : 'none';\n",
              "\n",
              "        async function convertToInteractive(key) {\n",
              "          const element = document.querySelector('#df-a90ae90d-fb74-4a67-b5c6-5760ee94d979');\n",
              "          const dataTable =\n",
              "            await google.colab.kernel.invokeFunction('convertToInteractive',\n",
              "                                                     [key], {});\n",
              "          if (!dataTable) return;\n",
              "\n",
              "          const docLinkHtml = 'Like what you see? Visit the ' +\n",
              "            '<a target=\"_blank\" href=https://colab.research.google.com/notebooks/data_table.ipynb>data table notebook</a>'\n",
              "            + ' to learn more about interactive tables.';\n",
              "          element.innerHTML = '';\n",
              "          dataTable['output_type'] = 'display_data';\n",
              "          await google.colab.output.renderOutput(dataTable, element);\n",
              "          const docLink = document.createElement('div');\n",
              "          docLink.innerHTML = docLinkHtml;\n",
              "          element.appendChild(docLink);\n",
              "        }\n",
              "      </script>\n",
              "    </div>\n",
              "  </div>\n",
              "  "
            ]
          },
          "metadata": {},
          "execution_count": 68
        }
      ],
      "source": [
        "df"
      ]
    },
    {
      "cell_type": "code",
      "source": [
        "df.drop(['model', 'variant'], axis= 1 , inplace= True )"
      ],
      "metadata": {
        "id": "VUj7K_-8FSjW"
      },
      "execution_count": 69,
      "outputs": []
    },
    {
      "cell_type": "code",
      "source": [
        "df['seats'] = df['seats'].astype(int)"
      ],
      "metadata": {
        "id": "MK8kRS3pGHIt"
      },
      "execution_count": 70,
      "outputs": []
    },
    {
      "cell_type": "code",
      "source": [
        "df['mileage'].sort_values(ascending = True)"
      ],
      "metadata": {
        "colab": {
          "base_uri": "https://localhost:8080/"
        },
        "id": "OX2MKeNwJLLD",
        "outputId": "a96095e5-b72a-471c-8e5c-51b7af4beee8"
      },
      "execution_count": 71,
      "outputs": [
        {
          "output_type": "execute_result",
          "data": {
            "text/plain": [
              "4237     0.00\n",
              "4187     0.00\n",
              "4691     0.00\n",
              "1791     0.00\n",
              "4184     0.00\n",
              "        ...  \n",
              "669     45.69\n",
              "1749    48.78\n",
              "4161    49.50\n",
              "29      50.16\n",
              "2879    50.16\n",
              "Name: mileage, Length: 5766, dtype: float64"
            ]
          },
          "metadata": {},
          "execution_count": 71
        }
      ]
    },
    {
      "cell_type": "code",
      "execution_count": 72,
      "metadata": {
        "colab": {
          "base_uri": "https://localhost:8080/"
        },
        "id": "FsfK9we4KSzs",
        "outputId": "e8b96e45-7548-4210-b937-c7cc8eb30acf"
      },
      "outputs": [
        {
          "output_type": "stream",
          "name": "stdout",
          "text": [
            "<class 'pandas.core.frame.DataFrame'>\n",
            "RangeIndex: 5766 entries, 0 to 5765\n",
            "Data columns (total 14 columns):\n",
            " #   Column          Non-Null Count  Dtype  \n",
            "---  ------          --------------  -----  \n",
            " 0   year            5766 non-null   int64  \n",
            " 1   selling_price   5766 non-null   int64  \n",
            " 2   km_driven       5766 non-null   int64  \n",
            " 3   fuel            5766 non-null   object \n",
            " 4   seller_type     5766 non-null   object \n",
            " 5   transmission    5766 non-null   object \n",
            " 6   owner           5766 non-null   object \n",
            " 7   mileage         5766 non-null   float64\n",
            " 8   engine          5766 non-null   float64\n",
            " 9   max_power       5766 non-null   float64\n",
            " 10  seats           5766 non-null   int64  \n",
            " 11  brand           5766 non-null   object \n",
            " 12  torque_nm       5766 non-null   float64\n",
            " 13  torque_max_rpm  5766 non-null   int64  \n",
            "dtypes: float64(4), int64(5), object(5)\n",
            "memory usage: 630.8+ KB\n"
          ]
        }
      ],
      "source": [
        "df.info()"
      ]
    },
    {
      "cell_type": "code",
      "execution_count": 73,
      "metadata": {
        "colab": {
          "base_uri": "https://localhost:8080/"
        },
        "id": "7QGz8HAikiiU",
        "outputId": "46d7d262-7726-4cbc-93bf-121f99a09808"
      },
      "outputs": [
        {
          "output_type": "execute_result",
          "data": {
            "text/plain": [
              "selling_price\n",
              "300000     181\n",
              "350000     167\n",
              "550000     142\n",
              "400000     141\n",
              "250000     138\n",
              "          ... \n",
              "469000       1\n",
              "467000       1\n",
              "458000       1\n",
              "454000       1\n",
              "6523000      1\n",
              "Name: count, Length: 612, dtype: int64"
            ]
          },
          "metadata": {},
          "execution_count": 73
        }
      ],
      "source": [
        "df['selling_price'].sort_values().value_counts()"
      ]
    },
    {
      "cell_type": "code",
      "execution_count": 74,
      "metadata": {
        "colab": {
          "base_uri": "https://localhost:8080/",
          "height": 1000
        },
        "id": "FgsVsgET1TMU",
        "outputId": "54a2fe2d-3e56-48a8-c029-0a767d7872ec"
      },
      "outputs": [
        {
          "output_type": "display_data",
          "data": {
            "text/plain": [
              "<Figure size 1000x600 with 1 Axes>"
            ],
            "image/png": "[encoded data removed]"
          },
          "metadata": {}
        },
        {
          "output_type": "display_data",
          "data": {
            "text/plain": [
              "<Figure size 1000x500 with 1 Axes>"
            ],
            "image/png": "[encoded data removed]"
          },
          "metadata": {}
        }
      ],
      "source": [
        "plt.figure(figsize=(10, 6))\n",
        "sns.histplot(data=df['selling_price'], kde=True, bins=50)\n",
        "plt.title('Распределение цен')\n",
        "plt.xlabel('Цена')\n",
        "plt.ylabel('Количество')\n",
        "plt.show()\n",
        "\n",
        "\n",
        "plt.figure(figsize=(10, 5))\n",
        "sns.boxplot(x=df['selling_price'])\n",
        "plt.xlabel('Цена')\n",
        "plt.show()"
      ]
    },
    {
      "cell_type": "code",
      "execution_count": 75,
      "metadata": {
        "colab": {
          "base_uri": "https://localhost:8080/",
          "height": 564
        },
        "id": "2ouYhwfB2E6W",
        "outputId": "07eeb22e-7fae-4f8f-e711-b39d214f2409"
      },
      "outputs": [
        {
          "output_type": "display_data",
          "data": {
            "text/plain": [
              "<Figure size 1000x600 with 1 Axes>"
            ],
            "image/png": "[encoded data removed]"
          },
          "metadata": {}
        }
      ],
      "source": [
        "plt.figure(figsize=(10, 6))\n",
        "sns.histplot(data=df['year'], kde=True, bins=50)\n",
        "plt.title('Распределение по году регистрации')\n",
        "plt.xlabel('Год регистрации')\n",
        "plt.ylabel('Количество')\n",
        "plt.show()"
      ]
    },
    {
      "cell_type": "code",
      "execution_count": 76,
      "metadata": {
        "colab": {
          "base_uri": "https://localhost:8080/",
          "height": 564
        },
        "id": "elTyk6E62VOH",
        "outputId": "adae6480-de58-48fb-e864-82eb51769076"
      },
      "outputs": [
        {
          "output_type": "display_data",
          "data": {
            "text/plain": [
              "<Figure size 800x600 with 1 Axes>"
            ],
            "image/png": "[encoded data removed]"
          },
          "metadata": {}
        }
      ],
      "source": [
        "plt.figure(figsize=(8, 6))\n",
        "sns.histplot(data=df['max_power'], kde=True, bins=50)\n",
        "plt.title('Распределение по мощности')\n",
        "plt.xlabel('Мощность двигателя, лс')\n",
        "plt.ylabel('Количество')\n",
        "plt.show()"
      ]
    },
    {
      "cell_type": "code",
      "execution_count": 77,
      "metadata": {
        "colab": {
          "base_uri": "https://localhost:8080/",
          "height": 564
        },
        "id": "Ce4gOhEA2khi",
        "outputId": "bea97630-c3cf-47e4-e425-c1481125a2b1"
      },
      "outputs": [
        {
          "output_type": "display_data",
          "data": {
            "text/plain": [
              "<Figure size 800x600 with 1 Axes>"
            ],
            "image/png": "[encoded data removed]"
          },
          "metadata": {}
        }
      ],
      "source": [
        "plt.figure(figsize=(8, 6))\n",
        "sns.histplot(data=df['km_driven'], kde=True, bins=50)\n",
        "plt.title('Распределение по пробегу')\n",
        "plt.xlabel('Пробег, км')\n",
        "plt.ylabel('Количество')\n",
        "plt.show()"
      ]
    },
    {
      "cell_type": "code",
      "source": [
        "from google.colab import drive\n",
        "drive.mount('/content/drive')"
      ],
      "metadata": {
        "colab": {
          "base_uri": "https://localhost:8080/"
        },
        "id": "_dY826zJZ0hN",
        "outputId": "3726af4b-72aa-4fde-8142-9d3bb680bf62"
      },
      "execution_count": 78,
      "outputs": [
        {
          "output_type": "stream",
          "name": "stdout",
          "text": [
            "Drive already mounted at /content/drive; to attempt to forcibly remount, call drive.mount(\"/content/drive\", force_remount=True).\n"
          ]
        }
      ]
    },
    {
      "cell_type": "code",
      "source": [
        "carsdata = df.to_csv('/content/drive/MyDrive/Colab Notebooks/cleaned_carsdata.csv')"
      ],
      "metadata": {
        "id": "myAyKtRTZ1Ql"
      },
      "execution_count": 79,
      "outputs": []
    },
    {
      "cell_type": "code",
      "execution_count": 80,
      "metadata": {
        "id": "qtBzxZq83PTC"
      },
      "outputs": [],
      "source": [
        "df_train, df_test = train_test_split(df, test_size=0.2, random_state=RANDOM_STATE)"
      ]
    },
    {
      "cell_type": "code",
      "execution_count": 81,
      "metadata": {
        "id": "BqQiIzkV3C-O"
      },
      "outputs": [],
      "source": [
        "features_test = df_test.drop(['selling_price'], axis=1)\n",
        "target_test = df_test['selling_price']\n",
        "\n",
        "features_train = df_train.drop(['selling_price'], axis=1)\n",
        "target_train = df_train['selling_price']"
      ]
    },
    {
      "cell_type": "code",
      "execution_count": 82,
      "metadata": {
        "colab": {
          "base_uri": "https://localhost:8080/"
        },
        "id": "bGDhNCg-3dNl",
        "outputId": "6876e0ea-b5dc-47c1-90fe-9491b489208e"
      },
      "outputs": [
        {
          "output_type": "stream",
          "name": "stdout",
          "text": [
            "<class 'pandas.core.frame.DataFrame'>\n",
            "Index: 4612 entries, 72 to 4578\n",
            "Data columns (total 13 columns):\n",
            " #   Column          Non-Null Count  Dtype  \n",
            "---  ------          --------------  -----  \n",
            " 0   year            4612 non-null   int64  \n",
            " 1   km_driven       4612 non-null   int64  \n",
            " 2   fuel            4612 non-null   object \n",
            " 3   seller_type     4612 non-null   object \n",
            " 4   transmission    4612 non-null   object \n",
            " 5   owner           4612 non-null   object \n",
            " 6   mileage         4612 non-null   float64\n",
            " 7   engine          4612 non-null   float64\n",
            " 8   max_power       4612 non-null   float64\n",
            " 9   seats           4612 non-null   int64  \n",
            " 10  brand           4612 non-null   object \n",
            " 11  torque_nm       4612 non-null   float64\n",
            " 12  torque_max_rpm  4612 non-null   int64  \n",
            "dtypes: float64(4), int64(4), object(5)\n",
            "memory usage: 504.4+ KB\n"
          ]
        }
      ],
      "source": [
        "features_train.info()"
      ]
    },
    {
      "cell_type": "code",
      "execution_count": 83,
      "metadata": {
        "colab": {
          "base_uri": "https://localhost:8080/",
          "height": 357
        },
        "id": "VeT7u2wd3hoY",
        "outputId": "7ed75183-583c-4cba-c38c-a178b5f06848"
      },
      "outputs": [
        {
          "output_type": "execute_result",
          "data": {
            "text/plain": [
              "      year  km_driven    fuel seller_type transmission         owner  mileage  \\\n",
              "72    2016      49000  petrol      dealer       manual   first owner    19.02   \n",
              "2111  2016      90000  petrol  individual       manual   first owner    25.17   \n",
              "4692  2008      80000  petrol  individual       manual   third owner    19.70   \n",
              "5307  2007     100000  diesel  individual       manual  second owner    16.60   \n",
              "2961  2014      40000  petrol  individual       manual  second owner    18.90   \n",
              "\n",
              "      engine  max_power  seats          brand  torque_nm  torque_max_rpm  \n",
              "72    1198.0      67.05      5      datsun go      104.0            4000  \n",
              "2111   799.0      53.30      5   renault kwid       72.0            4386  \n",
              "4692   796.0      46.30      5    maruti alto       62.0            3000  \n",
              "5307  1896.0     122.40      5  skoda octavia      214.0            1900  \n",
              "2961  1197.0      82.00      5  hyundai grand      114.0            4000  "
            ],
            "text/html": [
              "\n",
              "  <div id=\"df-d8cd5657-5230-4a22-8f76-09a8116d31d9\">\n",
              "    <div class=\"colab-df-container\">\n",
              "      <div>\n",
              "<style scoped>\n",
              "    .dataframe tbody tr th:only-of-type {\n",
              "        vertical-align: middle;\n",
              "    }\n",
              "\n",
              "    .dataframe tbody tr th {\n",
              "        vertical-align: top;\n",
              "    }\n",
              "\n",
              "    .dataframe thead th {\n",
              "        text-align: right;\n",
              "    }\n",
              "</style>\n",
              "<table border=\"1\" class=\"dataframe\">\n",
              "  <thead>\n",
              "    <tr style=\"text-align: right;\">\n",
              "      <th></th>\n",
              "      <th>year</th>\n",
              "      <th>km_driven</th>\n",
              "      <th>fuel</th>\n",
              "      <th>seller_type</th>\n",
              "      <th>transmission</th>\n",
              "      <th>owner</th>\n",
              "      <th>mileage</th>\n",
              "      <th>engine</th>\n",
              "      <th>max_power</th>\n",
              "      <th>seats</th>\n",
              "      <th>brand</th>\n",
              "      <th>torque_nm</th>\n",
              "      <th>torque_max_rpm</th>\n",
              "    </tr>\n",
              "  </thead>\n",
              "  <tbody>\n",
              "    <tr>\n",
              "      <th>72</th>\n",
              "      <td>2016</td>\n",
              "      <td>49000</td>\n",
              "      <td>petrol</td>\n",
              "      <td>dealer</td>\n",
              "      <td>manual</td>\n",
              "      <td>first owner</td>\n",
              "      <td>19.02</td>\n",
              "      <td>1198.0</td>\n",
              "      <td>67.05</td>\n",
              "      <td>5</td>\n",
              "      <td>datsun go</td>\n",
              "      <td>104.0</td>\n",
              "      <td>4000</td>\n",
              "    </tr>\n",
              "    <tr>\n",
              "      <th>2111</th>\n",
              "      <td>2016</td>\n",
              "      <td>90000</td>\n",
              "      <td>petrol</td>\n",
              "      <td>individual</td>\n",
              "      <td>manual</td>\n",
              "      <td>first owner</td>\n",
              "      <td>25.17</td>\n",
              "      <td>799.0</td>\n",
              "      <td>53.30</td>\n",
              "      <td>5</td>\n",
              "      <td>renault kwid</td>\n",
              "      <td>72.0</td>\n",
              "      <td>4386</td>\n",
              "    </tr>\n",
              "    <tr>\n",
              "      <th>4692</th>\n",
              "      <td>2008</td>\n",
              "      <td>80000</td>\n",
              "      <td>petrol</td>\n",
              "      <td>individual</td>\n",
              "      <td>manual</td>\n",
              "      <td>third owner</td>\n",
              "      <td>19.70</td>\n",
              "      <td>796.0</td>\n",
              "      <td>46.30</td>\n",
              "      <td>5</td>\n",
              "      <td>maruti alto</td>\n",
              "      <td>62.0</td>\n",
              "      <td>3000</td>\n",
              "    </tr>\n",
              "    <tr>\n",
              "      <th>5307</th>\n",
              "      <td>2007</td>\n",
              "      <td>100000</td>\n",
              "      <td>diesel</td>\n",
              "      <td>individual</td>\n",
              "      <td>manual</td>\n",
              "      <td>second owner</td>\n",
              "      <td>16.60</td>\n",
              "      <td>1896.0</td>\n",
              "      <td>122.40</td>\n",
              "      <td>5</td>\n",
              "      <td>skoda octavia</td>\n",
              "      <td>214.0</td>\n",
              "      <td>1900</td>\n",
              "    </tr>\n",
              "    <tr>\n",
              "      <th>2961</th>\n",
              "      <td>2014</td>\n",
              "      <td>40000</td>\n",
              "      <td>petrol</td>\n",
              "      <td>individual</td>\n",
              "      <td>manual</td>\n",
              "      <td>second owner</td>\n",
              "      <td>18.90</td>\n",
              "      <td>1197.0</td>\n",
              "      <td>82.00</td>\n",
              "      <td>5</td>\n",
              "      <td>hyundai grand</td>\n",
              "      <td>114.0</td>\n",
              "      <td>4000</td>\n",
              "    </tr>\n",
              "  </tbody>\n",
              "</table>\n",
              "</div>\n",
              "      <button class=\"colab-df-convert\" onclick=\"convertToInteractive('df-d8cd5657-5230-4a22-8f76-09a8116d31d9')\"\n",
              "              title=\"Convert this dataframe to an interactive table.\"\n",
              "              style=\"display:none;\">\n",
              "        \n",
              "  <svg xmlns=\"http://www.w3.org/2000/svg\" height=\"24px\"viewBox=\"0 0 24 24\"\n",
              "       width=\"24px\">\n",
              "    <path d=\"M0 0h24v24H0V0z\" fill=\"none\"/>\n",
              "    <path d=\"M18.56 5.44l.94 2.06.94-2.06 2.06-.94-2.06-.94-.94-2.06-.94 2.06-2.06.94zm-11 1L8.5 8.5l.94-2.06 2.06-.94-2.06-.94L8.5 2.5l-.94 2.06-2.06.94zm10 10l.94 2.06.94-2.06 2.06-.94-2.06-.94-.94-2.06-.94 2.06-2.06.94z\"/><path d=\"M17.41 7.96l-1.37-1.37c-.4-.4-.92-.59-1.43-.59-.52 0-1.04.2-1.43.59L10.3 9.45l-7.72 7.72c-.78.78-.78 2.05 0 2.83L4 21.41c.39.39.9.59 1.41.59.51 0 1.02-.2 1.41-.59l7.78-7.78 2.81-2.81c.8-.78.8-2.07 0-2.86zM5.41 20L4 18.59l7.72-7.72 1.47 1.35L5.41 20z\"/>\n",
              "  </svg>\n",
              "      </button>\n",
              "      \n",
              "  <style>\n",
              "    .colab-df-container {\n",
              "      display:flex;\n",
              "      flex-wrap:wrap;\n",
              "      gap: 12px;\n",
              "    }\n",
              "\n",
              "    .colab-df-convert {\n",
              "      background-color: #E8F0FE;\n",
              "      border: none;\n",
              "      border-radius: 50%;\n",
              "      cursor: pointer;\n",
              "      display: none;\n",
              "      fill: #1967D2;\n",
              "      height: 32px;\n",
              "      padding: 0 0 0 0;\n",
              "      width: 32px;\n",
              "    }\n",
              "\n",
              "    .colab-df-convert:hover {\n",
              "      background-color: #E2EBFA;\n",
              "      box-shadow: 0px 1px 2px rgba(60, 64, 67, 0.3), 0px 1px 3px 1px rgba(60, 64, 67, 0.15);\n",
              "      fill: #174EA6;\n",
              "    }\n",
              "\n",
              "    [theme=dark] .colab-df-convert {\n",
              "      background-color: #3B4455;\n",
              "      fill: #D2E3FC;\n",
              "    }\n",
              "\n",
              "    [theme=dark] .colab-df-convert:hover {\n",
              "      background-color: #434B5C;\n",
              "      box-shadow: 0px 1px 3px 1px rgba(0, 0, 0, 0.15);\n",
              "      filter: drop-shadow(0px 1px 2px rgba(0, 0, 0, 0.3));\n",
              "      fill: #FFFFFF;\n",
              "    }\n",
              "  </style>\n",
              "\n",
              "      <script>\n",
              "        const buttonEl =\n",
              "          document.querySelector('#df-d8cd5657-5230-4a22-8f76-09a8116d31d9 button.colab-df-convert');\n",
              "        buttonEl.style.display =\n",
              "          google.colab.kernel.accessAllowed ? 'block' : 'none';\n",
              "\n",
              "        async function convertToInteractive(key) {\n",
              "          const element = document.querySelector('#df-d8cd5657-5230-4a22-8f76-09a8116d31d9');\n",
              "          const dataTable =\n",
              "            await google.colab.kernel.invokeFunction('convertToInteractive',\n",
              "                                                     [key], {});\n",
              "          if (!dataTable) return;\n",
              "\n",
              "          const docLinkHtml = 'Like what you see? Visit the ' +\n",
              "            '<a target=\"_blank\" href=https://colab.research.google.com/notebooks/data_table.ipynb>data table notebook</a>'\n",
              "            + ' to learn more about interactive tables.';\n",
              "          element.innerHTML = '';\n",
              "          dataTable['output_type'] = 'display_data';\n",
              "          await google.colab.output.renderOutput(dataTable, element);\n",
              "          const docLink = document.createElement('div');\n",
              "          docLink.innerHTML = docLinkHtml;\n",
              "          element.appendChild(docLink);\n",
              "        }\n",
              "      </script>\n",
              "    </div>\n",
              "  </div>\n",
              "  "
            ]
          },
          "metadata": {},
          "execution_count": 83
        }
      ],
      "source": [
        "features_train.head()"
      ]
    },
    {
      "cell_type": "code",
      "execution_count": 84,
      "metadata": {
        "id": "7WFou5DRGmYm"
      },
      "outputs": [],
      "source": [
        "#categorial_RF = ['fuel', 'seller_type', 'transmission', 'owner', 'brand', 'model', 'variant']"
      ]
    },
    {
      "cell_type": "code",
      "execution_count": 85,
      "metadata": {
        "colab": {
          "base_uri": "https://localhost:8080/"
        },
        "id": "BxZOJvz83kZe",
        "outputId": "202afeae-aa3e-4178-eaff-36d0d2b5e901"
      },
      "outputs": [
        {
          "output_type": "stream",
          "name": "stdout",
          "text": [
            "['fuel', 'seller_type', 'transmission', 'owner', 'brand']\n"
          ]
        }
      ],
      "source": [
        "categorial_RF = features_train.select_dtypes(include='object').columns.to_list()\n",
        "print(categorial_RF)"
      ]
    },
    {
      "cell_type": "code",
      "execution_count": 86,
      "metadata": {
        "id": "cNTOEUypGwMv"
      },
      "outputs": [],
      "source": [
        "#numeric = ['year',\n",
        "# 'km_driven',\n",
        "# 'mileage',\n",
        "#'engine',\n",
        "#'max_power',\n",
        "#'torque_nm',\n",
        "#'torque_max_rpm',\n",
        "#          'seats']"
      ]
    },
    {
      "cell_type": "code",
      "execution_count": 87,
      "metadata": {
        "colab": {
          "base_uri": "https://localhost:8080/"
        },
        "id": "xyDIEKwU3m1-",
        "outputId": "52025ada-2e4e-4e50-b6f0-b98ab8defe19"
      },
      "outputs": [
        {
          "output_type": "execute_result",
          "data": {
            "text/plain": [
              "['year',\n",
              " 'km_driven',\n",
              " 'mileage',\n",
              " 'engine',\n",
              " 'max_power',\n",
              " 'seats',\n",
              " 'torque_nm',\n",
              " 'torque_max_rpm']"
            ]
          },
          "metadata": {},
          "execution_count": 87
        }
      ],
      "source": [
        "numeric = features_train.select_dtypes(exclude='object').columns.to_list()\n",
        "numeric"
      ]
    },
    {
      "cell_type": "code",
      "execution_count": 88,
      "metadata": {
        "colab": {
          "base_uri": "https://localhost:8080/",
          "height": 357
        },
        "id": "-Dv5PnkB4ZS3",
        "outputId": "00fae3d8-cdd6-41d1-b735-fe3980d5af0e"
      },
      "outputs": [
        {
          "output_type": "execute_result",
          "data": {
            "text/plain": [
              "          year  km_driven    fuel seller_type transmission         owner  \\\n",
              "72    0.618552  -0.394449  petrol      dealer       manual   first owner   \n",
              "2111  0.618552   0.255774  petrol  individual       manual   first owner   \n",
              "4692 -1.457316   0.097183  petrol  individual       manual   third owner   \n",
              "5307 -1.716800   0.414365  diesel  individual       manual  second owner   \n",
              "2961  0.099585  -0.537181  petrol  individual       manual  second owner   \n",
              "\n",
              "       mileage    engine  max_power     seats          brand  torque_nm  \\\n",
              "72   -0.146902 -0.467182  -0.657791 -0.445354      datsun go  -0.658225   \n",
              "2111  1.268457 -1.289872  -1.109212 -0.445354   renault kwid  -0.960914   \n",
              "4692  0.009593 -1.296058  -1.339026 -0.445354    maruti alto  -1.055504   \n",
              "5307 -0.703841  0.972010   1.159382 -0.445354  skoda octavia   0.382268   \n",
              "2961 -0.174519 -0.469244  -0.166974 -0.445354  hyundai grand  -0.563635   \n",
              "\n",
              "      torque_max_rpm  \n",
              "72          1.030785  \n",
              "2111        1.446453  \n",
              "4692       -0.046078  \n",
              "5307       -1.230626  \n",
              "2961        1.030785  "
            ],
            "text/html": [
              "\n",
              "  <div id=\"df-144d1946-58fa-4d6d-ab48-578ee84c8ed2\">\n",
              "    <div class=\"colab-df-container\">\n",
              "      <div>\n",
              "<style scoped>\n",
              "    .dataframe tbody tr th:only-of-type {\n",
              "        vertical-align: middle;\n",
              "    }\n",
              "\n",
              "    .dataframe tbody tr th {\n",
              "        vertical-align: top;\n",
              "    }\n",
              "\n",
              "    .dataframe thead th {\n",
              "        text-align: right;\n",
              "    }\n",
              "</style>\n",
              "<table border=\"1\" class=\"dataframe\">\n",
              "  <thead>\n",
              "    <tr style=\"text-align: right;\">\n",
              "      <th></th>\n",
              "      <th>year</th>\n",
              "      <th>km_driven</th>\n",
              "      <th>fuel</th>\n",
              "      <th>seller_type</th>\n",
              "      <th>transmission</th>\n",
              "      <th>owner</th>\n",
              "      <th>mileage</th>\n",
              "      <th>engine</th>\n",
              "      <th>max_power</th>\n",
              "      <th>seats</th>\n",
              "      <th>brand</th>\n",
              "      <th>torque_nm</th>\n",
              "      <th>torque_max_rpm</th>\n",
              "    </tr>\n",
              "  </thead>\n",
              "  <tbody>\n",
              "    <tr>\n",
              "      <th>72</th>\n",
              "      <td>0.618552</td>\n",
              "      <td>-0.394449</td>\n",
              "      <td>petrol</td>\n",
              "      <td>dealer</td>\n",
              "      <td>manual</td>\n",
              "      <td>first owner</td>\n",
              "      <td>-0.146902</td>\n",
              "      <td>-0.467182</td>\n",
              "      <td>-0.657791</td>\n",
              "      <td>-0.445354</td>\n",
              "      <td>datsun go</td>\n",
              "      <td>-0.658225</td>\n",
              "      <td>1.030785</td>\n",
              "    </tr>\n",
              "    <tr>\n",
              "      <th>2111</th>\n",
              "      <td>0.618552</td>\n",
              "      <td>0.255774</td>\n",
              "      <td>petrol</td>\n",
              "      <td>individual</td>\n",
              "      <td>manual</td>\n",
              "      <td>first owner</td>\n",
              "      <td>1.268457</td>\n",
              "      <td>-1.289872</td>\n",
              "      <td>-1.109212</td>\n",
              "      <td>-0.445354</td>\n",
              "      <td>renault kwid</td>\n",
              "      <td>-0.960914</td>\n",
              "      <td>1.446453</td>\n",
              "    </tr>\n",
              "    <tr>\n",
              "      <th>4692</th>\n",
              "      <td>-1.457316</td>\n",
              "      <td>0.097183</td>\n",
              "      <td>petrol</td>\n",
              "      <td>individual</td>\n",
              "      <td>manual</td>\n",
              "      <td>third owner</td>\n",
              "      <td>0.009593</td>\n",
              "      <td>-1.296058</td>\n",
              "      <td>-1.339026</td>\n",
              "      <td>-0.445354</td>\n",
              "      <td>maruti alto</td>\n",
              "      <td>-1.055504</td>\n",
              "      <td>-0.046078</td>\n",
              "    </tr>\n",
              "    <tr>\n",
              "      <th>5307</th>\n",
              "      <td>-1.716800</td>\n",
              "      <td>0.414365</td>\n",
              "      <td>diesel</td>\n",
              "      <td>individual</td>\n",
              "      <td>manual</td>\n",
              "      <td>second owner</td>\n",
              "      <td>-0.703841</td>\n",
              "      <td>0.972010</td>\n",
              "      <td>1.159382</td>\n",
              "      <td>-0.445354</td>\n",
              "      <td>skoda octavia</td>\n",
              "      <td>0.382268</td>\n",
              "      <td>-1.230626</td>\n",
              "    </tr>\n",
              "    <tr>\n",
              "      <th>2961</th>\n",
              "      <td>0.099585</td>\n",
              "      <td>-0.537181</td>\n",
              "      <td>petrol</td>\n",
              "      <td>individual</td>\n",
              "      <td>manual</td>\n",
              "      <td>second owner</td>\n",
              "      <td>-0.174519</td>\n",
              "      <td>-0.469244</td>\n",
              "      <td>-0.166974</td>\n",
              "      <td>-0.445354</td>\n",
              "      <td>hyundai grand</td>\n",
              "      <td>-0.563635</td>\n",
              "      <td>1.030785</td>\n",
              "    </tr>\n",
              "  </tbody>\n",
              "</table>\n",
              "</div>\n",
              "      <button class=\"colab-df-convert\" onclick=\"convertToInteractive('df-144d1946-58fa-4d6d-ab48-578ee84c8ed2')\"\n",
              "              title=\"Convert this dataframe to an interactive table.\"\n",
              "              style=\"display:none;\">\n",
              "        \n",
              "  <svg xmlns=\"http://www.w3.org/2000/svg\" height=\"24px\"viewBox=\"0 0 24 24\"\n",
              "       width=\"24px\">\n",
              "    <path d=\"M0 0h24v24H0V0z\" fill=\"none\"/>\n",
              "    <path d=\"M18.56 5.44l.94 2.06.94-2.06 2.06-.94-2.06-.94-.94-2.06-.94 2.06-2.06.94zm-11 1L8.5 8.5l.94-2.06 2.06-.94-2.06-.94L8.5 2.5l-.94 2.06-2.06.94zm10 10l.94 2.06.94-2.06 2.06-.94-2.06-.94-.94-2.06-.94 2.06-2.06.94z\"/><path d=\"M17.41 7.96l-1.37-1.37c-.4-.4-.92-.59-1.43-.59-.52 0-1.04.2-1.43.59L10.3 9.45l-7.72 7.72c-.78.78-.78 2.05 0 2.83L4 21.41c.39.39.9.59 1.41.59.51 0 1.02-.2 1.41-.59l7.78-7.78 2.81-2.81c.8-.78.8-2.07 0-2.86zM5.41 20L4 18.59l7.72-7.72 1.47 1.35L5.41 20z\"/>\n",
              "  </svg>\n",
              "      </button>\n",
              "      \n",
              "  <style>\n",
              "    .colab-df-container {\n",
              "      display:flex;\n",
              "      flex-wrap:wrap;\n",
              "      gap: 12px;\n",
              "    }\n",
              "\n",
              "    .colab-df-convert {\n",
              "      background-color: #E8F0FE;\n",
              "      border: none;\n",
              "      border-radius: 50%;\n",
              "      cursor: pointer;\n",
              "      display: none;\n",
              "      fill: #1967D2;\n",
              "      height: 32px;\n",
              "      padding: 0 0 0 0;\n",
              "      width: 32px;\n",
              "    }\n",
              "\n",
              "    .colab-df-convert:hover {\n",
              "      background-color: #E2EBFA;\n",
              "      box-shadow: 0px 1px 2px rgba(60, 64, 67, 0.3), 0px 1px 3px 1px rgba(60, 64, 67, 0.15);\n",
              "      fill: #174EA6;\n",
              "    }\n",
              "\n",
              "    [theme=dark] .colab-df-convert {\n",
              "      background-color: #3B4455;\n",
              "      fill: #D2E3FC;\n",
              "    }\n",
              "\n",
              "    [theme=dark] .colab-df-convert:hover {\n",
              "      background-color: #434B5C;\n",
              "      box-shadow: 0px 1px 3px 1px rgba(0, 0, 0, 0.15);\n",
              "      filter: drop-shadow(0px 1px 2px rgba(0, 0, 0, 0.3));\n",
              "      fill: #FFFFFF;\n",
              "    }\n",
              "  </style>\n",
              "\n",
              "      <script>\n",
              "        const buttonEl =\n",
              "          document.querySelector('#df-144d1946-58fa-4d6d-ab48-578ee84c8ed2 button.colab-df-convert');\n",
              "        buttonEl.style.display =\n",
              "          google.colab.kernel.accessAllowed ? 'block' : 'none';\n",
              "\n",
              "        async function convertToInteractive(key) {\n",
              "          const element = document.querySelector('#df-144d1946-58fa-4d6d-ab48-578ee84c8ed2');\n",
              "          const dataTable =\n",
              "            await google.colab.kernel.invokeFunction('convertToInteractive',\n",
              "                                                     [key], {});\n",
              "          if (!dataTable) return;\n",
              "\n",
              "          const docLinkHtml = 'Like what you see? Visit the ' +\n",
              "            '<a target=\"_blank\" href=https://colab.research.google.com/notebooks/data_table.ipynb>data table notebook</a>'\n",
              "            + ' to learn more about interactive tables.';\n",
              "          element.innerHTML = '';\n",
              "          dataTable['output_type'] = 'display_data';\n",
              "          await google.colab.output.renderOutput(dataTable, element);\n",
              "          const docLink = document.createElement('div');\n",
              "          docLink.innerHTML = docLinkHtml;\n",
              "          element.appendChild(docLink);\n",
              "        }\n",
              "      </script>\n",
              "    </div>\n",
              "  </div>\n",
              "  "
            ]
          },
          "metadata": {},
          "execution_count": 88
        }
      ],
      "source": [
        "scaler = StandardScaler()\n",
        "scaler.fit(df_train[numeric])\n",
        "features_train[numeric] = scaler.transform(df_train[numeric])\n",
        "features_test[numeric] = scaler.transform(df_test[numeric])\n",
        "\n",
        "pd.options.mode.chained_assignment = None\n",
        "features_train.head()"
      ]
    },
    {
      "cell_type": "code",
      "execution_count": 89,
      "metadata": {
        "id": "svG4q7gi4eRo"
      },
      "outputs": [],
      "source": [
        "encoder_ohe = OneHotEncoder(drop=\"first\", handle_unknown=\"ignore\")\n",
        "encoder_ohe.fit(features_train[categorial_RF])\n",
        "\n",
        "tmp_train = pd.DataFrame(encoder_ohe.transform(features_train[categorial_RF]).toarray(),\n",
        "                                   columns=encoder_ohe.get_feature_names_out(),\n",
        "                                   index=features_train.index)"
      ]
    },
    {
      "cell_type": "code",
      "execution_count": 90,
      "metadata": {
        "id": "Audq1VQG4huI"
      },
      "outputs": [],
      "source": [
        "tmp_test = pd.DataFrame(encoder_ohe.transform(features_test[categorial_RF]).toarray(),\n",
        "                                   columns=encoder_ohe.get_feature_names_out(),\n",
        "                                   index=features_test.index)"
      ]
    },
    {
      "cell_type": "code",
      "execution_count": 91,
      "metadata": {
        "id": "Ahah2yb84kb1"
      },
      "outputs": [],
      "source": [
        "features_train.drop(categorial_RF, axis=1, inplace=True)\n",
        "features_train = features_train.join(tmp_train)\n",
        "\n",
        "features_test.drop(categorial_RF, axis=1, inplace=True)\n",
        "features_test = features_test.join(tmp_test)"
      ]
    },
    {
      "cell_type": "code",
      "execution_count": 92,
      "metadata": {
        "colab": {
          "base_uri": "https://localhost:8080/"
        },
        "id": "xu_svm1UOq4_",
        "outputId": "8c29c2eb-6f69-445c-e731-7a62a165f336"
      },
      "outputs": [
        {
          "output_type": "execute_result",
          "data": {
            "text/plain": [
              "(4612, 170)"
            ]
          },
          "metadata": {},
          "execution_count": 92
        }
      ],
      "source": [
        "features_train.shape"
      ]
    },
    {
      "cell_type": "markdown",
      "metadata": {
        "id": "I6CmfQdnO_wa"
      },
      "source": [
        "Линейная регрессия"
      ]
    },
    {
      "cell_type": "code",
      "execution_count": 93,
      "metadata": {
        "colab": {
          "base_uri": "https://localhost:8080/"
        },
        "id": "kAQcUNgAO7d8",
        "outputId": "6647671c-30a0-445e-d30a-090ee5800c71"
      },
      "outputs": [
        {
          "output_type": "stream",
          "name": "stdout",
          "text": [
            "RMSE: 173483.435\n",
            "Время обучения: 0.205\n",
            "Время предсказания: 0.012\n"
          ]
        }
      ],
      "source": [
        "model_lr = LinearRegression()\n",
        "curr_time = time.time()\n",
        "model_lr.fit(features_train, target_train)\n",
        "fit_time_linear = round((time.time() - curr_time), 3)\n",
        "curr_time = time.time()\n",
        "predicted_test = model_lr.predict(features_test)\n",
        "\n",
        "predict_time_linear = round((time.time() - curr_time), 3)\n",
        "rmse_linear = round(mean_squared_error(target_test, predicted_test)**0.5, 3)\n",
        "\n",
        "print('RMSE:', rmse_linear)\n",
        "print('Время обучения:', fit_time_linear)\n",
        "print('Время предсказания:', predict_time_linear)"
      ]
    },
    {
      "cell_type": "markdown",
      "metadata": {
        "id": "E0CPdmw3TbQX"
      },
      "source": [
        "LightGBM"
      ]
    },
    {
      "cell_type": "code",
      "execution_count": 94,
      "metadata": {
        "colab": {
          "base_uri": "https://localhost:8080/",
          "height": 54
        },
        "id": "Dsa9itxDTZYB",
        "outputId": "cb7bf5b6-3fa4-402d-ad2d-fe1f4ecf9307"
      },
      "outputs": [
        {
          "output_type": "display_data",
          "data": {
            "text/plain": [
              "'best_score: 127382.82307762533'"
            ],
            "application/vnd.google.colaboratory.intrinsic+json": {
              "type": "string"
            }
          },
          "metadata": {}
        },
        {
          "output_type": "display_data",
          "data": {
            "text/plain": [
              "\"best_params: {'num_leaves': 300, 'n_estimators': 4050, 'max_depth': 6, 'learning_rate': 0.03}\""
            ],
            "application/vnd.google.colaboratory.intrinsic+json": {
              "type": "string"
            }
          },
          "metadata": {}
        }
      ],
      "source": [
        "model_lgbm = LGBMRegressor()\n",
        "params_lgbm = {'learning_rate': np.arange(0.03, 0.1),\n",
        "               'n_estimators': range(150, 4500, 150),\n",
        "               'num_leaves': range(50, 500, 50),\n",
        "               'max_depth': range(1, 51, 5)}\n",
        "\n",
        "grid_lgbm = RandomizedSearchCV(\n",
        "    model_lgbm,\n",
        "    params_lgbm,\n",
        "    scoring='neg_root_mean_squared_error',\n",
        "    n_jobs=-1\n",
        ")\n",
        "\n",
        "grid_lgbm.fit(features_train, target_train)\n",
        "display(f'best_score: {grid_lgbm.best_score_ * -1}')\n",
        "display(f'best_params: {grid_lgbm.best_params_}')\n"
      ]
    },
    {
      "cell_type": "code",
      "execution_count": 106,
      "metadata": {
        "colab": {
          "base_uri": "https://localhost:8080/"
        },
        "id": "axU3UI1pUhLF",
        "outputId": "d131cedd-b37e-4941-c076-9b9cf2024cd5"
      },
      "outputs": [
        {
          "output_type": "stream",
          "name": "stdout",
          "text": [
            "RMSE: 151669.142\n",
            "Время обучения: 9.651\n",
            "Время предсказания: 0.558\n"
          ]
        }
      ],
      "source": [
        "model = LGBMRegressor(\n",
        "    boosting_type='gbdt',\n",
        "    random_state=RANDOM_STATE,\n",
        "    max_depth=6,\n",
        "    n_estimators=4050,\n",
        "    learning_rate = 0.03,\n",
        "    num_leaves = 300)\n",
        "curr_time = time.time()\n",
        "model.fit(features_train, target_train)\n",
        "fit_time_lgbm = round((time.time() - curr_time), 3)\n",
        "curr_time = time.time()\n",
        "predicted_test = model.predict(features_test)\n",
        "predict_time_lgbm = round((time.time() - curr_time), 3)\n",
        "rmse_lgbm = round(mean_squared_error(target_test, predicted_test)**0.5, 3)\n",
        "\n",
        "print('RMSE:', rmse_lgbm)\n",
        "print('Время обучения:', fit_time_lgbm)\n",
        "print('Время предсказания:', predict_time_lgbm)"
      ]
    },
    {
      "cell_type": "markdown",
      "metadata": {
        "id": "xo3c0QdAU1pw"
      },
      "source": [
        "Дерево решений"
      ]
    },
    {
      "cell_type": "code",
      "execution_count": 96,
      "metadata": {
        "colab": {
          "base_uri": "https://localhost:8080/",
          "height": 54
        },
        "id": "9qMzV5wEUxHo",
        "outputId": "6e07354d-4f08-4726-de4d-3ad440d8ca3e"
      },
      "outputs": [
        {
          "output_type": "display_data",
          "data": {
            "text/plain": [
              "'best_score: 170739.95181470126'"
            ],
            "application/vnd.google.colaboratory.intrinsic+json": {
              "type": "string"
            }
          },
          "metadata": {}
        },
        {
          "output_type": "display_data",
          "data": {
            "text/plain": [
              "\"best_params: {'min_samples_split': 14, 'min_samples_leaf': 10, 'max_depth': 46}\""
            ],
            "application/vnd.google.colaboratory.intrinsic+json": {
              "type": "string"
            }
          },
          "metadata": {}
        }
      ],
      "source": [
        "model_dtr = DecisionTreeRegressor()\n",
        "params_dtr = {'min_samples_leaf': range(2, 50, 2),\n",
        "               'min_samples_split': range(2, 50, 2),\n",
        "               'max_depth': range(1, 51, 5)}\n",
        "\n",
        "grid_dtr = RandomizedSearchCV(\n",
        "    model_dtr,\n",
        "    params_dtr,\n",
        "    scoring='neg_root_mean_squared_error',\n",
        "    n_jobs=-1\n",
        ")\n",
        "\n",
        "grid_dtr.fit(features_train, target_train)\n",
        "display(f'best_score: {grid_dtr.best_score_ * -1}')\n",
        "display(f'best_params: {grid_dtr.best_params_}')"
      ]
    },
    {
      "cell_type": "code",
      "execution_count": 107,
      "metadata": {
        "colab": {
          "base_uri": "https://localhost:8080/"
        },
        "id": "MYn7KPwhU4Un",
        "outputId": "5bf93bd5-cdff-4ee5-fe77-167fdd1634dc"
      },
      "outputs": [
        {
          "output_type": "stream",
          "name": "stdout",
          "text": [
            "RMSE: 215152.616\n",
            "Время обучения: 0.085\n",
            "Время предсказания: 0.006\n"
          ]
        }
      ],
      "source": [
        "model = DecisionTreeRegressor(max_depth=46, random_state=RANDOM_STATE, min_samples_leaf=10, min_samples_split=14)\n",
        "curr_time = time.time()\n",
        "model.fit(features_train, target_train)\n",
        "fit_time_dt = round((time.time() - curr_time), 3)\n",
        "curr_time = time.time()\n",
        "predicted_test = model.predict(features_test)\n",
        "predict_time_dt = round((time.time() - curr_time), 3)\n",
        "rmse_dt = round(mean_squared_error(target_test, predicted_test)**0.5, 3)\n",
        "\n",
        "print('RMSE:', rmse_dt)\n",
        "print('Время обучения:', fit_time_dt)\n",
        "print('Время предсказания:', predict_time_dt)"
      ]
    },
    {
      "cell_type": "markdown",
      "metadata": {
        "id": "Ze8vadD-VGww"
      },
      "source": [
        "Модель случайного леса"
      ]
    },
    {
      "cell_type": "code",
      "execution_count": 98,
      "metadata": {
        "colab": {
          "base_uri": "https://localhost:8080/",
          "height": 54
        },
        "id": "1vaWUFZ-U8e-",
        "outputId": "795c1116-8c4d-4957-9bb1-f59977f8bef5"
      },
      "outputs": [
        {
          "output_type": "display_data",
          "data": {
            "text/plain": [
              "'best_score: 184294.6095138275'"
            ],
            "application/vnd.google.colaboratory.intrinsic+json": {
              "type": "string"
            }
          },
          "metadata": {}
        },
        {
          "output_type": "display_data",
          "data": {
            "text/plain": [
              "\"best_params: {'n_estimators': 190, 'min_samples_split': 12, 'min_samples_leaf': 14, 'max_depth': 71}\""
            ],
            "application/vnd.google.colaboratory.intrinsic+json": {
              "type": "string"
            }
          },
          "metadata": {}
        }
      ],
      "source": [
        "model_rf = RandomForestRegressor()\n",
        "params_rf = {'n_estimators': range(10, 510, 10),\n",
        "             'min_samples_leaf': range(2, 50, 2),\n",
        "             'min_samples_split': range(2, 50, 2),\n",
        "             'max_depth': range(1, 101, 5)}\n",
        "\n",
        "grid_rf = RandomizedSearchCV(\n",
        "    model_rf,\n",
        "    params_rf,\n",
        "    scoring='neg_root_mean_squared_error',\n",
        "    n_jobs=-1\n",
        ")\n",
        "\n",
        "grid_rf.fit(features_train, target_train)\n",
        "display(f'best_score: {grid_rf.best_score_ * -1}')\n",
        "display(f'best_params: {grid_rf.best_params_}')"
      ]
    },
    {
      "cell_type": "code",
      "execution_count": 108,
      "metadata": {
        "colab": {
          "base_uri": "https://localhost:8080/"
        },
        "id": "3yZxoyZyVK4V",
        "outputId": "31796f16-2a48-4d9a-cc50-f646804fba11"
      },
      "outputs": [
        {
          "output_type": "stream",
          "name": "stdout",
          "text": [
            "RMSE: 209613.351\n",
            "Время обучения: 7.027\n",
            "Время предсказания: 0.048\n"
          ]
        }
      ],
      "source": [
        "model = RandomForestRegressor(n_estimators=190, max_depth=71, random_state=RANDOM_STATE, min_samples_leaf=14, min_samples_split=12)\n",
        "curr_time = time.time()\n",
        "model.fit(features_train, target_train)\n",
        "fit_time_rf = round((time.time() - curr_time), 3)\n",
        "curr_time = time.time()\n",
        "predicted_test = model.predict(features_test)\n",
        "predict_time_rf = round((time.time() - curr_time), 3)\n",
        "rmse_rf = round(mean_squared_error(target_test, predicted_test)**0.5, 3)\n",
        "\n",
        "print('RMSE:', rmse_rf)\n",
        "print('Время обучения:', fit_time_rf)\n",
        "print('Время предсказания:', predict_time_rf)"
      ]
    },
    {
      "cell_type": "markdown",
      "metadata": {
        "id": "PFQAWJyBVL6f"
      },
      "source": [
        "CatBoost"
      ]
    },
    {
      "cell_type": "code",
      "execution_count": 100,
      "metadata": {
        "colab": {
          "base_uri": "https://localhost:8080/",
          "height": 1000
        },
        "id": "T2R35_yMmKxw",
        "outputId": "94a28bc6-5dee-4e3e-c4b7-294ea3c43465"
      },
      "outputs": [
        {
          "output_type": "stream",
          "name": "stderr",
          "text": [
            "/usr/local/lib/python3.10/dist-packages/joblib/externals/loky/process_executor.py:700: UserWarning: A worker stopped while some jobs were given to the executor. This can be caused by a too short worker timeout or by a memory leak.\n",
            "  warnings.warn(\n"
          ]
        },
        {
          "output_type": "stream",
          "name": "stdout",
          "text": [
            "0:\tlearn: 463840.9207735\ttotal: 90.7ms\tremaining: 3m 39s\n",
            "25:\tlearn: 393575.0471539\ttotal: 955ms\tremaining: 1m 28s\n",
            "50:\tlearn: 336833.4667066\ttotal: 1.82s\tremaining: 1m 24s\n",
            "75:\tlearn: 291798.5758469\ttotal: 2.71s\tremaining: 1m 23s\n",
            "100:\tlearn: 254750.3186716\ttotal: 3.57s\tremaining: 1m 22s\n",
            "125:\tlearn: 225077.5562792\ttotal: 4.44s\tremaining: 1m 20s\n",
            "150:\tlearn: 201194.4647163\ttotal: 5.27s\tremaining: 1m 19s\n",
            "175:\tlearn: 181600.0943977\ttotal: 6.16s\tremaining: 1m 18s\n",
            "200:\tlearn: 166055.4184312\ttotal: 7.03s\tremaining: 1m 17s\n",
            "225:\tlearn: 153737.6060070\ttotal: 7.9s\tremaining: 1m 16s\n",
            "250:\tlearn: 143493.4290184\ttotal: 9.05s\tremaining: 1m 18s\n",
            "275:\tlearn: 135351.5989518\ttotal: 10.7s\tremaining: 1m 23s\n",
            "300:\tlearn: 128537.0120819\ttotal: 12.3s\tremaining: 1m 27s\n",
            "325:\tlearn: 122986.3446345\ttotal: 14s\tremaining: 1m 29s\n",
            "350:\tlearn: 118652.2982879\ttotal: 15.5s\tremaining: 1m 31s\n",
            "375:\tlearn: 115096.0847777\ttotal: 16.3s\tremaining: 1m 29s\n",
            "400:\tlearn: 112044.8088389\ttotal: 17.2s\tremaining: 1m 26s\n",
            "425:\tlearn: 109345.2623559\ttotal: 18s\tremaining: 1m 24s\n",
            "450:\tlearn: 107268.7394514\ttotal: 18.8s\tremaining: 1m 22s\n",
            "475:\tlearn: 105313.8515709\ttotal: 19.7s\tremaining: 1m 20s\n",
            "500:\tlearn: 103536.0753538\ttotal: 20.6s\tremaining: 1m 19s\n",
            "525:\tlearn: 101723.6773024\ttotal: 21.5s\tremaining: 1m 17s\n",
            "550:\tlearn: 100107.4427425\ttotal: 22.3s\tremaining: 1m 15s\n",
            "575:\tlearn: 98964.0380850\ttotal: 23.2s\tremaining: 1m 14s\n",
            "600:\tlearn: 97743.4316200\ttotal: 24.1s\tremaining: 1m 13s\n",
            "625:\tlearn: 96620.8390975\ttotal: 25s\tremaining: 1m 11s\n",
            "650:\tlearn: 95511.1996507\ttotal: 26s\tremaining: 1m 10s\n",
            "675:\tlearn: 94439.7610624\ttotal: 27.6s\tremaining: 1m 11s\n",
            "700:\tlearn: 93528.5558157\ttotal: 29.2s\tremaining: 1m 11s\n",
            "725:\tlearn: 92669.6851656\ttotal: 30.8s\tremaining: 1m 12s\n",
            "750:\tlearn: 91682.4686032\ttotal: 32.5s\tremaining: 1m 12s\n",
            "775:\tlearn: 90770.1666646\ttotal: 33.4s\tremaining: 1m 11s\n",
            "800:\tlearn: 89918.3893242\ttotal: 34.3s\tremaining: 1m 9s\n",
            "825:\tlearn: 89270.2789319\ttotal: 35.2s\tremaining: 1m 8s\n",
            "850:\tlearn: 88517.1180586\ttotal: 36.1s\tremaining: 1m 6s\n",
            "875:\tlearn: 87828.6349469\ttotal: 37s\tremaining: 1m 5s\n",
            "900:\tlearn: 87252.8897288\ttotal: 37.9s\tremaining: 1m 4s\n",
            "925:\tlearn: 86720.2377185\ttotal: 38.8s\tremaining: 1m 2s\n",
            "950:\tlearn: 86111.2310864\ttotal: 39.6s\tremaining: 1m 1s\n",
            "975:\tlearn: 85672.8077569\ttotal: 40.5s\tremaining: 1m\n",
            "1000:\tlearn: 85152.5302815\ttotal: 41.4s\tremaining: 58.9s\n",
            "1025:\tlearn: 84703.3317244\ttotal: 42.3s\tremaining: 57.7s\n",
            "1050:\tlearn: 84192.6536333\ttotal: 43.7s\tremaining: 57.1s\n",
            "1075:\tlearn: 83624.4442982\ttotal: 45.3s\tremaining: 56.9s\n",
            "1100:\tlearn: 83189.8506918\ttotal: 47s\tremaining: 56.5s\n",
            "1125:\tlearn: 82885.9159426\ttotal: 48.6s\tremaining: 56.1s\n",
            "1150:\tlearn: 82512.5434961\ttotal: 50s\tremaining: 55.4s\n",
            "1175:\tlearn: 82089.4214497\ttotal: 50.9s\tremaining: 54.1s\n",
            "1200:\tlearn: 81708.4667063\ttotal: 51.8s\tremaining: 52.8s\n",
            "1225:\tlearn: 81104.2156916\ttotal: 52.7s\tremaining: 51.5s\n",
            "1250:\tlearn: 80556.3822437\ttotal: 53.6s\tremaining: 50.3s\n",
            "1275:\tlearn: 80104.8844917\ttotal: 54.5s\tremaining: 49.1s\n",
            "1300:\tlearn: 79668.2099266\ttotal: 55.4s\tremaining: 47.9s\n",
            "1325:\tlearn: 79267.4315723\ttotal: 56.3s\tremaining: 46.7s\n",
            "1350:\tlearn: 78782.9448715\ttotal: 57.2s\tremaining: 45.5s\n",
            "1375:\tlearn: 78366.4643541\ttotal: 58.1s\tremaining: 44.3s\n",
            "1400:\tlearn: 78032.4811115\ttotal: 59s\tremaining: 43.1s\n",
            "1425:\tlearn: 77672.1322116\ttotal: 1m\tremaining: 42.1s\n",
            "1450:\tlearn: 77270.6819823\ttotal: 1m 1s\tremaining: 41.4s\n",
            "1475:\tlearn: 76866.6162284\ttotal: 1m 3s\tremaining: 40.7s\n",
            "1500:\tlearn: 76539.6633243\ttotal: 1m 4s\tremaining: 40s\n",
            "1525:\tlearn: 76201.1708344\ttotal: 1m 6s\tremaining: 39.2s\n",
            "1550:\tlearn: 75828.8118163\ttotal: 1m 7s\tremaining: 38s\n",
            "1575:\tlearn: 75514.6913642\ttotal: 1m 8s\tremaining: 36.8s\n",
            "1600:\tlearn: 75175.3695233\ttotal: 1m 9s\tremaining: 35.7s\n",
            "1625:\tlearn: 74825.2826430\ttotal: 1m 10s\tremaining: 34.5s\n",
            "1650:\tlearn: 74517.4706426\ttotal: 1m 11s\tremaining: 33.3s\n",
            "1675:\tlearn: 74158.2207550\ttotal: 1m 11s\tremaining: 32.2s\n",
            "1700:\tlearn: 73846.9265072\ttotal: 1m 12s\tremaining: 31s\n",
            "1725:\tlearn: 73531.0516284\ttotal: 1m 13s\tremaining: 29.8s\n",
            "1750:\tlearn: 73254.9387080\ttotal: 1m 14s\tremaining: 28.7s\n",
            "1775:\tlearn: 72970.1592638\ttotal: 1m 15s\tremaining: 27.6s\n",
            "1800:\tlearn: 72661.7464417\ttotal: 1m 16s\tremaining: 26.5s\n",
            "1825:\tlearn: 72362.7884737\ttotal: 1m 17s\tremaining: 25.5s\n",
            "1850:\tlearn: 72082.2606483\ttotal: 1m 19s\tremaining: 24.6s\n",
            "1875:\tlearn: 71768.5067801\ttotal: 1m 21s\tremaining: 23.7s\n",
            "1900:\tlearn: 71461.5286202\ttotal: 1m 22s\tremaining: 22.8s\n",
            "1925:\tlearn: 71225.0396734\ttotal: 1m 24s\tremaining: 21.8s\n",
            "1950:\tlearn: 70997.4159386\ttotal: 1m 24s\tremaining: 20.6s\n",
            "1975:\tlearn: 70752.4071128\ttotal: 1m 25s\tremaining: 19.5s\n",
            "2000:\tlearn: 70480.1147433\ttotal: 1m 26s\tremaining: 18.4s\n",
            "2025:\tlearn: 70239.1489343\ttotal: 1m 27s\tremaining: 17.2s\n",
            "2050:\tlearn: 70065.5963506\ttotal: 1m 28s\tremaining: 16.1s\n",
            "2075:\tlearn: 69834.7736231\ttotal: 1m 29s\tremaining: 15s\n",
            "2100:\tlearn: 69646.1355131\ttotal: 1m 30s\tremaining: 13.9s\n",
            "2125:\tlearn: 69450.7595622\ttotal: 1m 31s\tremaining: 12.8s\n",
            "2150:\tlearn: 69207.2312498\ttotal: 1m 31s\tremaining: 11.7s\n",
            "2175:\tlearn: 68984.0022004\ttotal: 1m 32s\tremaining: 10.6s\n",
            "2200:\tlearn: 68717.2848062\ttotal: 1m 33s\tremaining: 9.54s\n",
            "2225:\tlearn: 68453.7029156\ttotal: 1m 35s\tremaining: 8.52s\n",
            "2250:\tlearn: 68248.2199915\ttotal: 1m 36s\tremaining: 7.49s\n",
            "2275:\tlearn: 68027.1078478\ttotal: 1m 38s\tremaining: 6.45s\n",
            "2300:\tlearn: 67783.9672635\ttotal: 1m 40s\tremaining: 5.4s\n",
            "2325:\tlearn: 67524.7590967\ttotal: 1m 41s\tremaining: 4.32s\n",
            "2350:\tlearn: 67302.9913170\ttotal: 1m 42s\tremaining: 3.22s\n",
            "2375:\tlearn: 67031.6400116\ttotal: 1m 43s\tremaining: 2.13s\n",
            "2400:\tlearn: 66753.4854066\ttotal: 1m 44s\tremaining: 1.04s\n",
            "2424:\tlearn: 66513.3309208\ttotal: 1m 44s\tremaining: 0us\n"
          ]
        },
        {
          "output_type": "display_data",
          "data": {
            "text/plain": [
              "'best_score: 116433.01091038375'"
            ],
            "application/vnd.google.colaboratory.intrinsic+json": {
              "type": "string"
            }
          },
          "metadata": {}
        },
        {
          "output_type": "display_data",
          "data": {
            "text/plain": [
              "\"best_params: {'verbose': 25, 'random_seed': 105, 'n_estimators': 2425, 'learning_rate': 0.01, 'depth': 11}\""
            ],
            "application/vnd.google.colaboratory.intrinsic+json": {
              "type": "string"
            }
          },
          "metadata": {}
        }
      ],
      "source": [
        "model_cb = CatBoostRegressor()\n",
        "params_cb = {'n_estimators': range(25, 2500, 75),\n",
        "             'learning_rate': np.arange(0.01, 1),\n",
        "             'random_seed': range(5, 150, 5),\n",
        "             'verbose': range(5, 150, 5),\n",
        "             'depth': range(1, 16, 5)}\n",
        "\n",
        "grid_cb = RandomizedSearchCV(\n",
        "    model_cb,\n",
        "    params_cb,\n",
        "    scoring='neg_root_mean_squared_error',\n",
        "    n_jobs=-1, error_score='raise'\n",
        ")\n",
        "\n",
        "grid_cb.fit(features_train, target_train)\n",
        "display(f'best_score: {grid_cb.best_score_ * -1}')\n",
        "display(f'best_params: {grid_cb.best_params_}')"
      ]
    },
    {
      "cell_type": "code",
      "execution_count": 109,
      "metadata": {
        "id": "bFjkF56LVOJL",
        "colab": {
          "base_uri": "https://localhost:8080/"
        },
        "outputId": "77ac27ba-3070-4c2b-d0ac-54eb1b34678f"
      },
      "outputs": [
        {
          "output_type": "stream",
          "name": "stdout",
          "text": [
            "0:\tlearn: 463683.6154300\ttotal: 11.5ms\tremaining: 27.9s\n",
            "25:\tlearn: 393346.1635573\ttotal: 122ms\tremaining: 11.3s\n",
            "50:\tlearn: 338422.6609507\ttotal: 288ms\tremaining: 13.4s\n",
            "75:\tlearn: 294260.0446258\ttotal: 361ms\tremaining: 11.1s\n",
            "100:\tlearn: 259513.3363276\ttotal: 493ms\tremaining: 11.3s\n",
            "125:\tlearn: 232254.8151201\ttotal: 668ms\tremaining: 12.2s\n",
            "150:\tlearn: 211134.2316517\ttotal: 854ms\tremaining: 12.9s\n",
            "175:\tlearn: 194188.5091430\ttotal: 1.04s\tremaining: 13.3s\n",
            "200:\tlearn: 180534.0622368\ttotal: 1.22s\tremaining: 13.5s\n",
            "225:\tlearn: 170465.7381486\ttotal: 1.37s\tremaining: 13.3s\n",
            "250:\tlearn: 162438.4252568\ttotal: 1.58s\tremaining: 13.7s\n",
            "275:\tlearn: 155585.2060185\ttotal: 1.75s\tremaining: 13.7s\n",
            "300:\tlearn: 150366.7069664\ttotal: 1.99s\tremaining: 14s\n",
            "325:\tlearn: 146265.7685503\ttotal: 2.17s\tremaining: 14s\n",
            "350:\tlearn: 142498.4166655\ttotal: 2.33s\tremaining: 13.7s\n",
            "375:\tlearn: 139132.8293472\ttotal: 2.43s\tremaining: 13.2s\n",
            "400:\tlearn: 136308.6553258\ttotal: 2.56s\tremaining: 12.9s\n",
            "425:\tlearn: 133664.1714650\ttotal: 2.69s\tremaining: 12.6s\n",
            "450:\tlearn: 131661.4752970\ttotal: 2.8s\tremaining: 12.3s\n",
            "475:\tlearn: 129932.5180469\ttotal: 2.93s\tremaining: 12s\n",
            "500:\tlearn: 128339.4626577\ttotal: 3.03s\tremaining: 11.6s\n",
            "525:\tlearn: 126919.2425931\ttotal: 3.18s\tremaining: 11.5s\n",
            "550:\tlearn: 125512.6854690\ttotal: 3.29s\tremaining: 11.2s\n",
            "575:\tlearn: 124012.3400271\ttotal: 3.36s\tremaining: 10.8s\n",
            "600:\tlearn: 122786.0315038\ttotal: 3.44s\tremaining: 10.4s\n",
            "625:\tlearn: 121690.0225271\ttotal: 3.51s\tremaining: 10.1s\n",
            "650:\tlearn: 120662.0710161\ttotal: 3.57s\tremaining: 9.74s\n",
            "675:\tlearn: 119401.0726185\ttotal: 3.65s\tremaining: 9.44s\n",
            "700:\tlearn: 118229.7847524\ttotal: 3.72s\tremaining: 9.15s\n",
            "725:\tlearn: 117306.9935116\ttotal: 3.79s\tremaining: 8.88s\n",
            "750:\tlearn: 116497.2593710\ttotal: 3.86s\tremaining: 8.6s\n",
            "775:\tlearn: 115644.4773646\ttotal: 3.93s\tremaining: 8.36s\n",
            "800:\tlearn: 114725.5105147\ttotal: 4s\tremaining: 8.11s\n",
            "825:\tlearn: 113838.3287183\ttotal: 4.07s\tremaining: 7.88s\n",
            "850:\tlearn: 113082.0747700\ttotal: 4.14s\tremaining: 7.66s\n",
            "875:\tlearn: 112319.3988332\ttotal: 4.2s\tremaining: 7.43s\n",
            "900:\tlearn: 111555.1365806\ttotal: 4.28s\tremaining: 7.24s\n",
            "925:\tlearn: 110842.5292190\ttotal: 4.35s\tremaining: 7.04s\n",
            "950:\tlearn: 110187.8022596\ttotal: 4.43s\tremaining: 6.86s\n",
            "975:\tlearn: 109468.1170275\ttotal: 4.49s\tremaining: 6.66s\n",
            "1000:\tlearn: 108839.4479797\ttotal: 4.56s\tremaining: 6.49s\n",
            "1025:\tlearn: 108184.9231028\ttotal: 4.62s\tremaining: 6.3s\n",
            "1050:\tlearn: 107574.4529998\ttotal: 4.7s\tremaining: 6.14s\n",
            "1075:\tlearn: 106981.2097821\ttotal: 4.76s\tremaining: 5.97s\n",
            "1100:\tlearn: 106365.6080132\ttotal: 4.83s\tremaining: 5.81s\n",
            "1125:\tlearn: 105767.9841268\ttotal: 4.9s\tremaining: 5.65s\n",
            "1150:\tlearn: 105183.0862021\ttotal: 4.96s\tremaining: 5.5s\n",
            "1175:\tlearn: 104722.5830788\ttotal: 5.03s\tremaining: 5.34s\n",
            "1200:\tlearn: 104471.1988401\ttotal: 5.09s\tremaining: 5.19s\n",
            "1225:\tlearn: 104094.9363221\ttotal: 5.16s\tremaining: 5.05s\n",
            "1250:\tlearn: 103558.8832480\ttotal: 5.23s\tremaining: 4.91s\n",
            "1275:\tlearn: 103044.4406148\ttotal: 5.31s\tremaining: 4.78s\n",
            "1300:\tlearn: 102557.6159960\ttotal: 5.45s\tremaining: 4.71s\n",
            "1325:\tlearn: 102009.4194830\ttotal: 5.64s\tremaining: 4.67s\n",
            "1350:\tlearn: 101532.2930752\ttotal: 5.77s\tremaining: 4.59s\n",
            "1375:\tlearn: 101077.8219307\ttotal: 5.88s\tremaining: 4.48s\n",
            "1400:\tlearn: 100522.6341173\ttotal: 5.94s\tremaining: 4.34s\n",
            "1425:\tlearn: 100091.7660833\ttotal: 6.01s\tremaining: 4.21s\n",
            "1450:\tlearn: 99672.9158189\ttotal: 6.07s\tremaining: 4.08s\n",
            "1475:\tlearn: 99293.2009984\ttotal: 6.14s\tremaining: 3.95s\n",
            "1500:\tlearn: 98843.2834023\ttotal: 6.22s\tremaining: 3.83s\n",
            "1525:\tlearn: 98473.8246184\ttotal: 6.28s\tremaining: 3.7s\n",
            "1550:\tlearn: 98104.6541124\ttotal: 6.35s\tremaining: 3.58s\n",
            "1575:\tlearn: 97780.2278681\ttotal: 6.43s\tremaining: 3.46s\n",
            "1600:\tlearn: 97404.9859304\ttotal: 6.56s\tremaining: 3.38s\n",
            "1625:\tlearn: 97083.9200714\ttotal: 6.68s\tremaining: 3.29s\n",
            "1650:\tlearn: 96735.1013101\ttotal: 6.78s\tremaining: 3.18s\n",
            "1675:\tlearn: 96361.8292586\ttotal: 6.95s\tremaining: 3.1s\n",
            "1700:\tlearn: 95990.1642176\ttotal: 7.07s\tremaining: 3.01s\n",
            "1725:\tlearn: 95645.6268838\ttotal: 7.2s\tremaining: 2.91s\n",
            "1750:\tlearn: 95328.1904630\ttotal: 7.37s\tremaining: 2.84s\n",
            "1775:\tlearn: 95067.0336235\ttotal: 7.52s\tremaining: 2.75s\n",
            "1800:\tlearn: 94785.6015773\ttotal: 7.68s\tremaining: 2.66s\n",
            "1825:\tlearn: 94500.3175961\ttotal: 7.85s\tremaining: 2.58s\n",
            "1850:\tlearn: 94200.0097376\ttotal: 8.03s\tremaining: 2.49s\n",
            "1875:\tlearn: 93877.5094128\ttotal: 8.15s\tremaining: 2.39s\n",
            "1900:\tlearn: 93596.8316780\ttotal: 8.33s\tremaining: 2.3s\n",
            "1925:\tlearn: 93277.8444718\ttotal: 8.48s\tremaining: 2.2s\n",
            "1950:\tlearn: 92977.2832861\ttotal: 8.58s\tremaining: 2.08s\n",
            "1975:\tlearn: 92686.2346315\ttotal: 8.75s\tremaining: 1.99s\n",
            "2000:\tlearn: 92434.3645062\ttotal: 8.91s\tremaining: 1.89s\n",
            "2025:\tlearn: 92194.4754658\ttotal: 9.04s\tremaining: 1.78s\n",
            "2050:\tlearn: 91979.6778712\ttotal: 9.13s\tremaining: 1.66s\n",
            "2075:\tlearn: 91763.1885126\ttotal: 9.29s\tremaining: 1.56s\n",
            "2100:\tlearn: 91528.9904586\ttotal: 9.38s\tremaining: 1.45s\n",
            "2125:\tlearn: 91314.3677450\ttotal: 9.55s\tremaining: 1.34s\n",
            "2150:\tlearn: 91111.6971911\ttotal: 9.73s\tremaining: 1.24s\n",
            "2175:\tlearn: 90876.8192991\ttotal: 9.9s\tremaining: 1.13s\n",
            "2200:\tlearn: 90661.1920543\ttotal: 10.1s\tremaining: 1.02s\n",
            "2225:\tlearn: 90417.6910816\ttotal: 10.2s\tremaining: 914ms\n",
            "2250:\tlearn: 90202.2865965\ttotal: 10.4s\tremaining: 803ms\n",
            "2275:\tlearn: 89988.9034671\ttotal: 10.6s\tremaining: 692ms\n",
            "2300:\tlearn: 89785.7038440\ttotal: 10.7s\tremaining: 576ms\n",
            "2325:\tlearn: 89584.4037828\ttotal: 10.9s\tremaining: 463ms\n",
            "2350:\tlearn: 89374.6772597\ttotal: 11.1s\tremaining: 348ms\n",
            "2375:\tlearn: 89184.4673914\ttotal: 11.3s\tremaining: 232ms\n",
            "2400:\tlearn: 88949.6272133\ttotal: 11.4s\tremaining: 114ms\n",
            "2424:\tlearn: 88764.3554382\ttotal: 11.6s\tremaining: 0us\n",
            "RMSE: 140472.678\n",
            "Время обучения: 39.839\n",
            "Время предсказания: 0.032\n"
          ]
        }
      ],
      "source": [
        "model_cb = CatBoostRegressor(depth=6, n_estimators=2425, random_seed=105, learning_rate=0.01, verbose=25)\n",
        "model_cb.fit(features_train, target_train)\n",
        "fit_time_cb = round((time.time() - curr_time), 3)\n",
        "curr_time = time.time()\n",
        "predicted_test = model_cb.predict(features_test)\n",
        "predict_time_cb = round((time.time() - curr_time), 3)\n",
        "rmse_cb = round(mean_squared_error(target_test, predicted_test)**0.5, 3)\n",
        "\n",
        "print('RMSE:', rmse_cb)\n",
        "print('Время обучения:', fit_time_cb)\n",
        "print('Время предсказания:', predict_time_cb)"
      ]
    },
    {
      "cell_type": "markdown",
      "metadata": {
        "id": "aS_3cjleVW7d"
      },
      "source": [
        "Анализ моделей"
      ]
    },
    {
      "cell_type": "code",
      "execution_count": 110,
      "metadata": {
        "id": "WY-pRbTYVZD4"
      },
      "outputs": [],
      "source": [
        "results = pd.DataFrame([\n",
        "    [rmse_linear, fit_time_linear, predict_time_linear],\n",
        "    [rmse_lgbm, fit_time_lgbm, predict_time_lgbm],\n",
        "    [rmse_dt, fit_time_dt, predict_time_dt],\n",
        "    [rmse_rf, fit_time_rf, predict_time_rf],\n",
        "    [rmse_cb, fit_time_cb, predict_time_cb]],\n",
        "    columns=['RMSE', 'Время обучения', 'Время предсказания'],\n",
        "    index=['LinearRegression','LightGBM', 'DecisionTree', 'RandomForest', 'CatBoost'])\n"
      ]
    },
    {
      "cell_type": "code",
      "execution_count": 111,
      "metadata": {
        "id": "0nn2-aviVaBE",
        "colab": {
          "base_uri": "https://localhost:8080/",
          "height": 206
        },
        "outputId": "6396ff8f-37a2-4e98-a757-716a2a7709e0"
      },
      "outputs": [
        {
          "output_type": "execute_result",
          "data": {
            "text/plain": [
              "                        RMSE  Время обучения  Время предсказания\n",
              "CatBoost          140472.678          39.839               0.032\n",
              "LightGBM          151669.142           9.651               0.558\n",
              "LinearRegression  173483.435           0.205               0.012\n",
              "RandomForest      209613.351           7.027               0.048\n",
              "DecisionTree      215152.616           0.085               0.006"
            ],
            "text/html": [
              "\n",
              "  <div id=\"df-b3eb83ed-5898-4e17-ba31-4cc1a194c4f6\">\n",
              "    <div class=\"colab-df-container\">\n",
              "      <div>\n",
              "<style scoped>\n",
              "    .dataframe tbody tr th:only-of-type {\n",
              "        vertical-align: middle;\n",
              "    }\n",
              "\n",
              "    .dataframe tbody tr th {\n",
              "        vertical-align: top;\n",
              "    }\n",
              "\n",
              "    .dataframe thead th {\n",
              "        text-align: right;\n",
              "    }\n",
              "</style>\n",
              "<table border=\"1\" class=\"dataframe\">\n",
              "  <thead>\n",
              "    <tr style=\"text-align: right;\">\n",
              "      <th></th>\n",
              "      <th>RMSE</th>\n",
              "      <th>Время обучения</th>\n",
              "      <th>Время предсказания</th>\n",
              "    </tr>\n",
              "  </thead>\n",
              "  <tbody>\n",
              "    <tr>\n",
              "      <th>CatBoost</th>\n",
              "      <td>140472.678</td>\n",
              "      <td>39.839</td>\n",
              "      <td>0.032</td>\n",
              "    </tr>\n",
              "    <tr>\n",
              "      <th>LightGBM</th>\n",
              "      <td>151669.142</td>\n",
              "      <td>9.651</td>\n",
              "      <td>0.558</td>\n",
              "    </tr>\n",
              "    <tr>\n",
              "      <th>LinearRegression</th>\n",
              "      <td>173483.435</td>\n",
              "      <td>0.205</td>\n",
              "      <td>0.012</td>\n",
              "    </tr>\n",
              "    <tr>\n",
              "      <th>RandomForest</th>\n",
              "      <td>209613.351</td>\n",
              "      <td>7.027</td>\n",
              "      <td>0.048</td>\n",
              "    </tr>\n",
              "    <tr>\n",
              "      <th>DecisionTree</th>\n",
              "      <td>215152.616</td>\n",
              "      <td>0.085</td>\n",
              "      <td>0.006</td>\n",
              "    </tr>\n",
              "  </tbody>\n",
              "</table>\n",
              "</div>\n",
              "      <button class=\"colab-df-convert\" onclick=\"convertToInteractive('df-b3eb83ed-5898-4e17-ba31-4cc1a194c4f6')\"\n",
              "              title=\"Convert this dataframe to an interactive table.\"\n",
              "              style=\"display:none;\">\n",
              "        \n",
              "  <svg xmlns=\"http://www.w3.org/2000/svg\" height=\"24px\"viewBox=\"0 0 24 24\"\n",
              "       width=\"24px\">\n",
              "    <path d=\"M0 0h24v24H0V0z\" fill=\"none\"/>\n",
              "    <path d=\"M18.56 5.44l.94 2.06.94-2.06 2.06-.94-2.06-.94-.94-2.06-.94 2.06-2.06.94zm-11 1L8.5 8.5l.94-2.06 2.06-.94-2.06-.94L8.5 2.5l-.94 2.06-2.06.94zm10 10l.94 2.06.94-2.06 2.06-.94-2.06-.94-.94-2.06-.94 2.06-2.06.94z\"/><path d=\"M17.41 7.96l-1.37-1.37c-.4-.4-.92-.59-1.43-.59-.52 0-1.04.2-1.43.59L10.3 9.45l-7.72 7.72c-.78.78-.78 2.05 0 2.83L4 21.41c.39.39.9.59 1.41.59.51 0 1.02-.2 1.41-.59l7.78-7.78 2.81-2.81c.8-.78.8-2.07 0-2.86zM5.41 20L4 18.59l7.72-7.72 1.47 1.35L5.41 20z\"/>\n",
              "  </svg>\n",
              "      </button>\n",
              "      \n",
              "  <style>\n",
              "    .colab-df-container {\n",
              "      display:flex;\n",
              "      flex-wrap:wrap;\n",
              "      gap: 12px;\n",
              "    }\n",
              "\n",
              "    .colab-df-convert {\n",
              "      background-color: #E8F0FE;\n",
              "      border: none;\n",
              "      border-radius: 50%;\n",
              "      cursor: pointer;\n",
              "      display: none;\n",
              "      fill: #1967D2;\n",
              "      height: 32px;\n",
              "      padding: 0 0 0 0;\n",
              "      width: 32px;\n",
              "    }\n",
              "\n",
              "    .colab-df-convert:hover {\n",
              "      background-color: #E2EBFA;\n",
              "      box-shadow: 0px 1px 2px rgba(60, 64, 67, 0.3), 0px 1px 3px 1px rgba(60, 64, 67, 0.15);\n",
              "      fill: #174EA6;\n",
              "    }\n",
              "\n",
              "    [theme=dark] .colab-df-convert {\n",
              "      background-color: #3B4455;\n",
              "      fill: #D2E3FC;\n",
              "    }\n",
              "\n",
              "    [theme=dark] .colab-df-convert:hover {\n",
              "      background-color: #434B5C;\n",
              "      box-shadow: 0px 1px 3px 1px rgba(0, 0, 0, 0.15);\n",
              "      filter: drop-shadow(0px 1px 2px rgba(0, 0, 0, 0.3));\n",
              "      fill: #FFFFFF;\n",
              "    }\n",
              "  </style>\n",
              "\n",
              "      <script>\n",
              "        const buttonEl =\n",
              "          document.querySelector('#df-b3eb83ed-5898-4e17-ba31-4cc1a194c4f6 button.colab-df-convert');\n",
              "        buttonEl.style.display =\n",
              "          google.colab.kernel.accessAllowed ? 'block' : 'none';\n",
              "\n",
              "        async function convertToInteractive(key) {\n",
              "          const element = document.querySelector('#df-b3eb83ed-5898-4e17-ba31-4cc1a194c4f6');\n",
              "          const dataTable =\n",
              "            await google.colab.kernel.invokeFunction('convertToInteractive',\n",
              "                                                     [key], {});\n",
              "          if (!dataTable) return;\n",
              "\n",
              "          const docLinkHtml = 'Like what you see? Visit the ' +\n",
              "            '<a target=\"_blank\" href=https://colab.research.google.com/notebooks/data_table.ipynb>data table notebook</a>'\n",
              "            + ' to learn more about interactive tables.';\n",
              "          element.innerHTML = '';\n",
              "          dataTable['output_type'] = 'display_data';\n",
              "          await google.colab.output.renderOutput(dataTable, element);\n",
              "          const docLink = document.createElement('div');\n",
              "          docLink.innerHTML = docLinkHtml;\n",
              "          element.appendChild(docLink);\n",
              "        }\n",
              "      </script>\n",
              "    </div>\n",
              "  </div>\n",
              "  "
            ]
          },
          "metadata": {},
          "execution_count": 111
        }
      ],
      "source": [
        "results.sort_values(by='RMSE')"
      ]
    },
    {
      "cell_type": "code",
      "source": [
        "import pickle"
      ],
      "metadata": {
        "id": "3k9bQ_0TeJ6M"
      },
      "execution_count": 118,
      "outputs": []
    },
    {
      "cell_type": "code",
      "source": [
        "filename = 'finalized_model.mw'\n",
        "pickle.dump(model_cb, open(filename, 'wb'))"
      ],
      "metadata": {
        "id": "HWPd1G0vcvJk"
      },
      "execution_count": 119,
      "outputs": []
    }
  ],
  "metadata": {
    "colab": {
      "provenance": []
    },
    "kernelspec": {
      "display_name": "Python 3",
      "name": "python3"
    },
    "language_info": {
      "name": "python"
    }
  },
  "nbformat": 4,
  "nbformat_minor": 0
}